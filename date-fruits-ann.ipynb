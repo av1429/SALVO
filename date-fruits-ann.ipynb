{
 "cells": [
  {
   "cell_type": "code",
   "execution_count": 1,
   "id": "a8de6875",
   "metadata": {
    "_cell_guid": "b1076dfc-b9ad-4769-8c92-a6c4dae69d19",
    "_uuid": "8f2839f25d086af736a60e9eeb907d3b93b6e0e5",
    "execution": {
     "iopub.execute_input": "2024-08-31T11:43:20.805617Z",
     "iopub.status.busy": "2024-08-31T11:43:20.805204Z",
     "iopub.status.idle": "2024-08-31T11:43:21.516675Z",
     "shell.execute_reply": "2024-08-31T11:43:21.515618Z"
    },
    "papermill": {
     "duration": 0.725695,
     "end_time": "2024-08-31T11:43:21.519246",
     "exception": false,
     "start_time": "2024-08-31T11:43:20.793551",
     "status": "completed"
    },
    "tags": []
   },
   "outputs": [
    {
     "name": "stdout",
     "output_type": "stream",
     "text": [
      "/kaggle/input/date-fruit-datasets/Date_Fruit_Datasets/Date_Fruit_Datasets.xlsx\n",
      "/kaggle/input/date-fruit-datasets/Date_Fruit_Datasets/Date_Fruit_Datasets_Citation_Request.txt\n",
      "/kaggle/input/date-fruit-datasets/Date_Fruit_Datasets/Date_Fruit_Datasets.arff\n"
     ]
    }
   ],
   "source": [
    "# This Python 3 environment comes with many helpful analytics libraries installed\n",
    "# It is defined by the kaggle/python Docker image: https://github.com/kaggle/docker-python\n",
    "# For example, here's several helpful packages to load\n",
    "\n",
    "import numpy as np # linear algebra\n",
    "import pandas as pd # data processing, CSV file I/O (e.g. pd.read_csv)\n",
    "\n",
    "# Input data files are available in the read-only \"../input/\" directory\n",
    "# For example, running this (by clicking run or pressing Shift+Enter) will list all files under the input directory\n",
    "\n",
    "import os\n",
    "for dirname, _, filenames in os.walk('/kaggle/input'):\n",
    "    for filename in filenames:\n",
    "        print(os.path.join(dirname, filename))\n",
    "\n",
    "# You can write up to 20GB to the current directory (/kaggle/working/) that gets preserved as output when you create a version using \"Save & Run All\" \n",
    "# You can also write temporary files to /kaggle/temp/, but they won't be saved outside of the current session"
   ]
  },
  {
   "cell_type": "markdown",
   "id": "7625ec63",
   "metadata": {
    "papermill": {
     "duration": 0.008778,
     "end_time": "2024-08-31T11:43:21.540610",
     "exception": false,
     "start_time": "2024-08-31T11:43:21.531832",
     "status": "completed"
    },
    "tags": []
   },
   "source": [
    "# *importing required libraries*"
   ]
  },
  {
   "cell_type": "code",
   "execution_count": 2,
   "id": "1e4ed122",
   "metadata": {
    "execution": {
     "iopub.execute_input": "2024-08-31T11:43:21.560385Z",
     "iopub.status.busy": "2024-08-31T11:43:21.559915Z",
     "iopub.status.idle": "2024-08-31T11:43:34.372243Z",
     "shell.execute_reply": "2024-08-31T11:43:34.371238Z"
    },
    "papermill": {
     "duration": 12.825146,
     "end_time": "2024-08-31T11:43:34.374672",
     "exception": false,
     "start_time": "2024-08-31T11:43:21.549526",
     "status": "completed"
    },
    "tags": []
   },
   "outputs": [],
   "source": [
    "import numpy as np\n",
    "import pandas as pd\n",
    "import tensorflow as tf\n",
    "from sklearn.metrics import accuracy_score\n",
    "from sklearn.preprocessing import LabelEncoder\n",
    "from sklearn.preprocessing import StandardScaler"
   ]
  },
  {
   "cell_type": "code",
   "execution_count": 3,
   "id": "bb75905b",
   "metadata": {
    "execution": {
     "iopub.execute_input": "2024-08-31T11:43:34.395381Z",
     "iopub.status.busy": "2024-08-31T11:43:34.394319Z",
     "iopub.status.idle": "2024-08-31T11:43:35.293284Z",
     "shell.execute_reply": "2024-08-31T11:43:35.292197Z"
    },
    "papermill": {
     "duration": 0.911598,
     "end_time": "2024-08-31T11:43:35.295505",
     "exception": false,
     "start_time": "2024-08-31T11:43:34.383907",
     "status": "completed"
    },
    "tags": []
   },
   "outputs": [
    {
     "data": {
      "text/html": [
       "<div>\n",
       "<style scoped>\n",
       "    .dataframe tbody tr th:only-of-type {\n",
       "        vertical-align: middle;\n",
       "    }\n",
       "\n",
       "    .dataframe tbody tr th {\n",
       "        vertical-align: top;\n",
       "    }\n",
       "\n",
       "    .dataframe thead th {\n",
       "        text-align: right;\n",
       "    }\n",
       "</style>\n",
       "<table border=\"1\" class=\"dataframe\">\n",
       "  <thead>\n",
       "    <tr style=\"text-align: right;\">\n",
       "      <th></th>\n",
       "      <th>AREA</th>\n",
       "      <th>PERIMETER</th>\n",
       "      <th>MAJOR_AXIS</th>\n",
       "      <th>MINOR_AXIS</th>\n",
       "      <th>ECCENTRICITY</th>\n",
       "      <th>EQDIASQ</th>\n",
       "      <th>SOLIDITY</th>\n",
       "      <th>CONVEX_AREA</th>\n",
       "      <th>EXTENT</th>\n",
       "      <th>ASPECT_RATIO</th>\n",
       "      <th>...</th>\n",
       "      <th>KurtosisRR</th>\n",
       "      <th>KurtosisRG</th>\n",
       "      <th>KurtosisRB</th>\n",
       "      <th>EntropyRR</th>\n",
       "      <th>EntropyRG</th>\n",
       "      <th>EntropyRB</th>\n",
       "      <th>ALLdaub4RR</th>\n",
       "      <th>ALLdaub4RG</th>\n",
       "      <th>ALLdaub4RB</th>\n",
       "      <th>Class</th>\n",
       "    </tr>\n",
       "  </thead>\n",
       "  <tbody>\n",
       "    <tr>\n",
       "      <th>0</th>\n",
       "      <td>422163</td>\n",
       "      <td>2378.9080</td>\n",
       "      <td>837.8484</td>\n",
       "      <td>645.6693</td>\n",
       "      <td>0.6373</td>\n",
       "      <td>733.1539</td>\n",
       "      <td>0.9947</td>\n",
       "      <td>424428</td>\n",
       "      <td>0.7831</td>\n",
       "      <td>1.2976</td>\n",
       "      <td>...</td>\n",
       "      <td>3.2370</td>\n",
       "      <td>2.9574</td>\n",
       "      <td>4.2287</td>\n",
       "      <td>-59191263232</td>\n",
       "      <td>-50714214400</td>\n",
       "      <td>-39922372608</td>\n",
       "      <td>58.7255</td>\n",
       "      <td>54.9554</td>\n",
       "      <td>47.8400</td>\n",
       "      <td>BERHI</td>\n",
       "    </tr>\n",
       "    <tr>\n",
       "      <th>1</th>\n",
       "      <td>338136</td>\n",
       "      <td>2085.1440</td>\n",
       "      <td>723.8198</td>\n",
       "      <td>595.2073</td>\n",
       "      <td>0.5690</td>\n",
       "      <td>656.1464</td>\n",
       "      <td>0.9974</td>\n",
       "      <td>339014</td>\n",
       "      <td>0.7795</td>\n",
       "      <td>1.2161</td>\n",
       "      <td>...</td>\n",
       "      <td>2.6228</td>\n",
       "      <td>2.6350</td>\n",
       "      <td>3.1704</td>\n",
       "      <td>-34233065472</td>\n",
       "      <td>-37462601728</td>\n",
       "      <td>-31477794816</td>\n",
       "      <td>50.0259</td>\n",
       "      <td>52.8168</td>\n",
       "      <td>47.8315</td>\n",
       "      <td>BERHI</td>\n",
       "    </tr>\n",
       "    <tr>\n",
       "      <th>2</th>\n",
       "      <td>526843</td>\n",
       "      <td>2647.3940</td>\n",
       "      <td>940.7379</td>\n",
       "      <td>715.3638</td>\n",
       "      <td>0.6494</td>\n",
       "      <td>819.0222</td>\n",
       "      <td>0.9962</td>\n",
       "      <td>528876</td>\n",
       "      <td>0.7657</td>\n",
       "      <td>1.3150</td>\n",
       "      <td>...</td>\n",
       "      <td>3.7516</td>\n",
       "      <td>3.8611</td>\n",
       "      <td>4.7192</td>\n",
       "      <td>-93948354560</td>\n",
       "      <td>-74738221056</td>\n",
       "      <td>-60311207936</td>\n",
       "      <td>65.4772</td>\n",
       "      <td>59.2860</td>\n",
       "      <td>51.9378</td>\n",
       "      <td>BERHI</td>\n",
       "    </tr>\n",
       "    <tr>\n",
       "      <th>3</th>\n",
       "      <td>416063</td>\n",
       "      <td>2351.2100</td>\n",
       "      <td>827.9804</td>\n",
       "      <td>645.2988</td>\n",
       "      <td>0.6266</td>\n",
       "      <td>727.8378</td>\n",
       "      <td>0.9948</td>\n",
       "      <td>418255</td>\n",
       "      <td>0.7759</td>\n",
       "      <td>1.2831</td>\n",
       "      <td>...</td>\n",
       "      <td>5.0401</td>\n",
       "      <td>8.6136</td>\n",
       "      <td>8.2618</td>\n",
       "      <td>-32074307584</td>\n",
       "      <td>-32060925952</td>\n",
       "      <td>-29575010304</td>\n",
       "      <td>43.3900</td>\n",
       "      <td>44.1259</td>\n",
       "      <td>41.1882</td>\n",
       "      <td>BERHI</td>\n",
       "    </tr>\n",
       "    <tr>\n",
       "      <th>4</th>\n",
       "      <td>347562</td>\n",
       "      <td>2160.3540</td>\n",
       "      <td>763.9877</td>\n",
       "      <td>582.8359</td>\n",
       "      <td>0.6465</td>\n",
       "      <td>665.2291</td>\n",
       "      <td>0.9908</td>\n",
       "      <td>350797</td>\n",
       "      <td>0.7569</td>\n",
       "      <td>1.3108</td>\n",
       "      <td>...</td>\n",
       "      <td>2.7016</td>\n",
       "      <td>2.9761</td>\n",
       "      <td>4.4146</td>\n",
       "      <td>-39980974080</td>\n",
       "      <td>-35980042240</td>\n",
       "      <td>-25593278464</td>\n",
       "      <td>52.7743</td>\n",
       "      <td>50.9080</td>\n",
       "      <td>42.6666</td>\n",
       "      <td>BERHI</td>\n",
       "    </tr>\n",
       "    <tr>\n",
       "      <th>...</th>\n",
       "      <td>...</td>\n",
       "      <td>...</td>\n",
       "      <td>...</td>\n",
       "      <td>...</td>\n",
       "      <td>...</td>\n",
       "      <td>...</td>\n",
       "      <td>...</td>\n",
       "      <td>...</td>\n",
       "      <td>...</td>\n",
       "      <td>...</td>\n",
       "      <td>...</td>\n",
       "      <td>...</td>\n",
       "      <td>...</td>\n",
       "      <td>...</td>\n",
       "      <td>...</td>\n",
       "      <td>...</td>\n",
       "      <td>...</td>\n",
       "      <td>...</td>\n",
       "      <td>...</td>\n",
       "      <td>...</td>\n",
       "      <td>...</td>\n",
       "    </tr>\n",
       "    <tr>\n",
       "      <th>893</th>\n",
       "      <td>255403</td>\n",
       "      <td>1925.3650</td>\n",
       "      <td>691.8453</td>\n",
       "      <td>477.1796</td>\n",
       "      <td>0.7241</td>\n",
       "      <td>570.2536</td>\n",
       "      <td>0.9785</td>\n",
       "      <td>261028</td>\n",
       "      <td>0.7269</td>\n",
       "      <td>1.4499</td>\n",
       "      <td>...</td>\n",
       "      <td>2.2423</td>\n",
       "      <td>2.3704</td>\n",
       "      <td>2.7202</td>\n",
       "      <td>-25296416768</td>\n",
       "      <td>-19168882688</td>\n",
       "      <td>-18473392128</td>\n",
       "      <td>49.0869</td>\n",
       "      <td>43.0422</td>\n",
       "      <td>42.4153</td>\n",
       "      <td>SOGAY</td>\n",
       "    </tr>\n",
       "    <tr>\n",
       "      <th>894</th>\n",
       "      <td>365924</td>\n",
       "      <td>2664.8230</td>\n",
       "      <td>855.4633</td>\n",
       "      <td>551.5447</td>\n",
       "      <td>0.7644</td>\n",
       "      <td>682.5752</td>\n",
       "      <td>0.9466</td>\n",
       "      <td>386566</td>\n",
       "      <td>0.6695</td>\n",
       "      <td>1.5510</td>\n",
       "      <td>...</td>\n",
       "      <td>3.4109</td>\n",
       "      <td>3.5805</td>\n",
       "      <td>3.9910</td>\n",
       "      <td>-31605219328</td>\n",
       "      <td>-21945366528</td>\n",
       "      <td>-19277905920</td>\n",
       "      <td>46.8086</td>\n",
       "      <td>39.1046</td>\n",
       "      <td>36.5502</td>\n",
       "      <td>SOGAY</td>\n",
       "    </tr>\n",
       "    <tr>\n",
       "      <th>895</th>\n",
       "      <td>254330</td>\n",
       "      <td>1926.7360</td>\n",
       "      <td>747.4943</td>\n",
       "      <td>435.6219</td>\n",
       "      <td>0.8126</td>\n",
       "      <td>569.0545</td>\n",
       "      <td>0.9925</td>\n",
       "      <td>256255</td>\n",
       "      <td>0.7240</td>\n",
       "      <td>1.7159</td>\n",
       "      <td>...</td>\n",
       "      <td>2.2759</td>\n",
       "      <td>2.5090</td>\n",
       "      <td>2.6951</td>\n",
       "      <td>-22242772992</td>\n",
       "      <td>-19594921984</td>\n",
       "      <td>-17592152064</td>\n",
       "      <td>44.1325</td>\n",
       "      <td>40.7986</td>\n",
       "      <td>40.9769</td>\n",
       "      <td>SOGAY</td>\n",
       "    </tr>\n",
       "    <tr>\n",
       "      <th>896</th>\n",
       "      <td>238955</td>\n",
       "      <td>1906.2679</td>\n",
       "      <td>716.6485</td>\n",
       "      <td>441.8297</td>\n",
       "      <td>0.7873</td>\n",
       "      <td>551.5859</td>\n",
       "      <td>0.9604</td>\n",
       "      <td>248795</td>\n",
       "      <td>0.6954</td>\n",
       "      <td>1.6220</td>\n",
       "      <td>...</td>\n",
       "      <td>2.6769</td>\n",
       "      <td>2.6874</td>\n",
       "      <td>2.7991</td>\n",
       "      <td>-26048595968</td>\n",
       "      <td>-21299822592</td>\n",
       "      <td>-19809978368</td>\n",
       "      <td>51.2267</td>\n",
       "      <td>45.7162</td>\n",
       "      <td>45.6260</td>\n",
       "      <td>SOGAY</td>\n",
       "    </tr>\n",
       "    <tr>\n",
       "      <th>897</th>\n",
       "      <td>343792</td>\n",
       "      <td>2289.2720</td>\n",
       "      <td>823.8438</td>\n",
       "      <td>534.7757</td>\n",
       "      <td>0.7607</td>\n",
       "      <td>661.6113</td>\n",
       "      <td>0.9781</td>\n",
       "      <td>351472</td>\n",
       "      <td>0.6941</td>\n",
       "      <td>1.5405</td>\n",
       "      <td>...</td>\n",
       "      <td>2.5138</td>\n",
       "      <td>3.0369</td>\n",
       "      <td>3.0865</td>\n",
       "      <td>-31983476736</td>\n",
       "      <td>-20482514944</td>\n",
       "      <td>-21219354624</td>\n",
       "      <td>47.3454</td>\n",
       "      <td>38.6966</td>\n",
       "      <td>39.6738</td>\n",
       "      <td>SOGAY</td>\n",
       "    </tr>\n",
       "  </tbody>\n",
       "</table>\n",
       "<p>898 rows × 35 columns</p>\n",
       "</div>"
      ],
      "text/plain": [
       "       AREA  PERIMETER  MAJOR_AXIS  MINOR_AXIS  ECCENTRICITY   EQDIASQ  \\\n",
       "0    422163  2378.9080    837.8484    645.6693        0.6373  733.1539   \n",
       "1    338136  2085.1440    723.8198    595.2073        0.5690  656.1464   \n",
       "2    526843  2647.3940    940.7379    715.3638        0.6494  819.0222   \n",
       "3    416063  2351.2100    827.9804    645.2988        0.6266  727.8378   \n",
       "4    347562  2160.3540    763.9877    582.8359        0.6465  665.2291   \n",
       "..      ...        ...         ...         ...           ...       ...   \n",
       "893  255403  1925.3650    691.8453    477.1796        0.7241  570.2536   \n",
       "894  365924  2664.8230    855.4633    551.5447        0.7644  682.5752   \n",
       "895  254330  1926.7360    747.4943    435.6219        0.8126  569.0545   \n",
       "896  238955  1906.2679    716.6485    441.8297        0.7873  551.5859   \n",
       "897  343792  2289.2720    823.8438    534.7757        0.7607  661.6113   \n",
       "\n",
       "     SOLIDITY  CONVEX_AREA  EXTENT  ASPECT_RATIO  ...  KurtosisRR  KurtosisRG  \\\n",
       "0      0.9947       424428  0.7831        1.2976  ...      3.2370      2.9574   \n",
       "1      0.9974       339014  0.7795        1.2161  ...      2.6228      2.6350   \n",
       "2      0.9962       528876  0.7657        1.3150  ...      3.7516      3.8611   \n",
       "3      0.9948       418255  0.7759        1.2831  ...      5.0401      8.6136   \n",
       "4      0.9908       350797  0.7569        1.3108  ...      2.7016      2.9761   \n",
       "..        ...          ...     ...           ...  ...         ...         ...   \n",
       "893    0.9785       261028  0.7269        1.4499  ...      2.2423      2.3704   \n",
       "894    0.9466       386566  0.6695        1.5510  ...      3.4109      3.5805   \n",
       "895    0.9925       256255  0.7240        1.7159  ...      2.2759      2.5090   \n",
       "896    0.9604       248795  0.6954        1.6220  ...      2.6769      2.6874   \n",
       "897    0.9781       351472  0.6941        1.5405  ...      2.5138      3.0369   \n",
       "\n",
       "     KurtosisRB    EntropyRR    EntropyRG    EntropyRB  ALLdaub4RR  \\\n",
       "0        4.2287 -59191263232 -50714214400 -39922372608     58.7255   \n",
       "1        3.1704 -34233065472 -37462601728 -31477794816     50.0259   \n",
       "2        4.7192 -93948354560 -74738221056 -60311207936     65.4772   \n",
       "3        8.2618 -32074307584 -32060925952 -29575010304     43.3900   \n",
       "4        4.4146 -39980974080 -35980042240 -25593278464     52.7743   \n",
       "..          ...          ...          ...          ...         ...   \n",
       "893      2.7202 -25296416768 -19168882688 -18473392128     49.0869   \n",
       "894      3.9910 -31605219328 -21945366528 -19277905920     46.8086   \n",
       "895      2.6951 -22242772992 -19594921984 -17592152064     44.1325   \n",
       "896      2.7991 -26048595968 -21299822592 -19809978368     51.2267   \n",
       "897      3.0865 -31983476736 -20482514944 -21219354624     47.3454   \n",
       "\n",
       "     ALLdaub4RG  ALLdaub4RB  Class  \n",
       "0       54.9554     47.8400  BERHI  \n",
       "1       52.8168     47.8315  BERHI  \n",
       "2       59.2860     51.9378  BERHI  \n",
       "3       44.1259     41.1882  BERHI  \n",
       "4       50.9080     42.6666  BERHI  \n",
       "..          ...         ...    ...  \n",
       "893     43.0422     42.4153  SOGAY  \n",
       "894     39.1046     36.5502  SOGAY  \n",
       "895     40.7986     40.9769  SOGAY  \n",
       "896     45.7162     45.6260  SOGAY  \n",
       "897     38.6966     39.6738  SOGAY  \n",
       "\n",
       "[898 rows x 35 columns]"
      ]
     },
     "execution_count": 3,
     "metadata": {},
     "output_type": "execute_result"
    }
   ],
   "source": [
    "df=pd.read_excel(\"/kaggle/input/date-fruit-datasets/Date_Fruit_Datasets/Date_Fruit_Datasets.xlsx\")\n",
    "df"
   ]
  },
  {
   "cell_type": "code",
   "execution_count": 4,
   "id": "25dc10fc",
   "metadata": {
    "execution": {
     "iopub.execute_input": "2024-08-31T11:43:35.324108Z",
     "iopub.status.busy": "2024-08-31T11:43:35.323073Z",
     "iopub.status.idle": "2024-08-31T11:43:35.342960Z",
     "shell.execute_reply": "2024-08-31T11:43:35.342055Z"
    },
    "papermill": {
     "duration": 0.036976,
     "end_time": "2024-08-31T11:43:35.345436",
     "exception": false,
     "start_time": "2024-08-31T11:43:35.308460",
     "status": "completed"
    },
    "tags": []
   },
   "outputs": [
    {
     "name": "stdout",
     "output_type": "stream",
     "text": [
      "<class 'pandas.core.frame.DataFrame'>\n",
      "RangeIndex: 898 entries, 0 to 897\n",
      "Data columns (total 35 columns):\n",
      " #   Column         Non-Null Count  Dtype  \n",
      "---  ------         --------------  -----  \n",
      " 0   AREA           898 non-null    int64  \n",
      " 1   PERIMETER      898 non-null    float64\n",
      " 2   MAJOR_AXIS     898 non-null    float64\n",
      " 3   MINOR_AXIS     898 non-null    float64\n",
      " 4   ECCENTRICITY   898 non-null    float64\n",
      " 5   EQDIASQ        898 non-null    float64\n",
      " 6   SOLIDITY       898 non-null    float64\n",
      " 7   CONVEX_AREA    898 non-null    int64  \n",
      " 8   EXTENT         898 non-null    float64\n",
      " 9   ASPECT_RATIO   898 non-null    float64\n",
      " 10  ROUNDNESS      898 non-null    float64\n",
      " 11  COMPACTNESS    898 non-null    float64\n",
      " 12  SHAPEFACTOR_1  898 non-null    float64\n",
      " 13  SHAPEFACTOR_2  898 non-null    float64\n",
      " 14  SHAPEFACTOR_3  898 non-null    float64\n",
      " 15  SHAPEFACTOR_4  898 non-null    float64\n",
      " 16  MeanRR         898 non-null    float64\n",
      " 17  MeanRG         898 non-null    float64\n",
      " 18  MeanRB         898 non-null    float64\n",
      " 19  StdDevRR       898 non-null    float64\n",
      " 20  StdDevRG       898 non-null    float64\n",
      " 21  StdDevRB       898 non-null    float64\n",
      " 22  SkewRR         898 non-null    float64\n",
      " 23  SkewRG         898 non-null    float64\n",
      " 24  SkewRB         898 non-null    float64\n",
      " 25  KurtosisRR     898 non-null    float64\n",
      " 26  KurtosisRG     898 non-null    float64\n",
      " 27  KurtosisRB     898 non-null    float64\n",
      " 28  EntropyRR      898 non-null    int64  \n",
      " 29  EntropyRG      898 non-null    int64  \n",
      " 30  EntropyRB      898 non-null    int64  \n",
      " 31  ALLdaub4RR     898 non-null    float64\n",
      " 32  ALLdaub4RG     898 non-null    float64\n",
      " 33  ALLdaub4RB     898 non-null    float64\n",
      " 34  Class          898 non-null    object \n",
      "dtypes: float64(29), int64(5), object(1)\n",
      "memory usage: 245.7+ KB\n"
     ]
    }
   ],
   "source": [
    "df.info()"
   ]
  },
  {
   "cell_type": "code",
   "execution_count": 5,
   "id": "d8bd8ff6",
   "metadata": {
    "execution": {
     "iopub.execute_input": "2024-08-31T11:43:35.369685Z",
     "iopub.status.busy": "2024-08-31T11:43:35.369334Z",
     "iopub.status.idle": "2024-08-31T11:43:35.375627Z",
     "shell.execute_reply": "2024-08-31T11:43:35.374799Z"
    },
    "papermill": {
     "duration": 0.021677,
     "end_time": "2024-08-31T11:43:35.377633",
     "exception": false,
     "start_time": "2024-08-31T11:43:35.355956",
     "status": "completed"
    },
    "tags": []
   },
   "outputs": [
    {
     "data": {
      "text/plain": [
       "Index(['AREA', 'PERIMETER', 'MAJOR_AXIS', 'MINOR_AXIS', 'ECCENTRICITY',\n",
       "       'EQDIASQ', 'SOLIDITY', 'CONVEX_AREA', 'EXTENT', 'ASPECT_RATIO',\n",
       "       'ROUNDNESS', 'COMPACTNESS', 'SHAPEFACTOR_1', 'SHAPEFACTOR_2',\n",
       "       'SHAPEFACTOR_3', 'SHAPEFACTOR_4', 'MeanRR', 'MeanRG', 'MeanRB',\n",
       "       'StdDevRR', 'StdDevRG', 'StdDevRB', 'SkewRR', 'SkewRG', 'SkewRB',\n",
       "       'KurtosisRR', 'KurtosisRG', 'KurtosisRB', 'EntropyRR', 'EntropyRG',\n",
       "       'EntropyRB', 'ALLdaub4RR', 'ALLdaub4RG', 'ALLdaub4RB', 'Class'],\n",
       "      dtype='object')"
      ]
     },
     "execution_count": 5,
     "metadata": {},
     "output_type": "execute_result"
    }
   ],
   "source": [
    "df.columns"
   ]
  },
  {
   "cell_type": "code",
   "execution_count": 6,
   "id": "148ac1ce",
   "metadata": {
    "execution": {
     "iopub.execute_input": "2024-08-31T11:43:35.399093Z",
     "iopub.status.busy": "2024-08-31T11:43:35.398785Z",
     "iopub.status.idle": "2024-08-31T11:43:35.405683Z",
     "shell.execute_reply": "2024-08-31T11:43:35.404683Z"
    },
    "papermill": {
     "duration": 0.020319,
     "end_time": "2024-08-31T11:43:35.407657",
     "exception": false,
     "start_time": "2024-08-31T11:43:35.387338",
     "status": "completed"
    },
    "tags": []
   },
   "outputs": [],
   "source": [
    "X=df.drop(['Class'], axis=1)\n",
    "Y=df['Class']\n",
    "\n",
    "class_values=df[\"Class\"].unique()\n",
    "class_valsum=df[\"Class\"].nunique()\n"
   ]
  },
  {
   "cell_type": "code",
   "execution_count": 7,
   "id": "333cdfc0",
   "metadata": {
    "execution": {
     "iopub.execute_input": "2024-08-31T11:43:35.428495Z",
     "iopub.status.busy": "2024-08-31T11:43:35.428167Z",
     "iopub.status.idle": "2024-08-31T11:43:35.434404Z",
     "shell.execute_reply": "2024-08-31T11:43:35.433506Z"
    },
    "papermill": {
     "duration": 0.018823,
     "end_time": "2024-08-31T11:43:35.436331",
     "exception": false,
     "start_time": "2024-08-31T11:43:35.417508",
     "status": "completed"
    },
    "tags": []
   },
   "outputs": [],
   "source": [
    "le = LabelEncoder()\n",
    "Y = df['Class']\n",
    "Y = le.fit_transform(Y)"
   ]
  },
  {
   "cell_type": "markdown",
   "id": "42354b31",
   "metadata": {
    "papermill": {
     "duration": 0.009657,
     "end_time": "2024-08-31T11:43:35.455847",
     "exception": false,
     "start_time": "2024-08-31T11:43:35.446190",
     "status": "completed"
    },
    "tags": []
   },
   "source": [
    "# ***splitting dataset into train and test***"
   ]
  },
  {
   "cell_type": "code",
   "execution_count": 8,
   "id": "d4ce5a52",
   "metadata": {
    "execution": {
     "iopub.execute_input": "2024-08-31T11:43:35.476877Z",
     "iopub.status.busy": "2024-08-31T11:43:35.476505Z",
     "iopub.status.idle": "2024-08-31T11:43:35.495421Z",
     "shell.execute_reply": "2024-08-31T11:43:35.494578Z"
    },
    "papermill": {
     "duration": 0.032586,
     "end_time": "2024-08-31T11:43:35.498075",
     "exception": false,
     "start_time": "2024-08-31T11:43:35.465489",
     "status": "completed"
    },
    "tags": []
   },
   "outputs": [],
   "source": [
    "from sklearn.model_selection import train_test_split\n",
    "X_train,X_test,Y_train,Y_test = train_test_split(X,Y,test_size=0.1,random_state=42)"
   ]
  },
  {
   "cell_type": "code",
   "execution_count": 9,
   "id": "f39fe19b",
   "metadata": {
    "execution": {
     "iopub.execute_input": "2024-08-31T11:43:35.519485Z",
     "iopub.status.busy": "2024-08-31T11:43:35.518815Z",
     "iopub.status.idle": "2024-08-31T11:43:35.533436Z",
     "shell.execute_reply": "2024-08-31T11:43:35.532422Z"
    },
    "papermill": {
     "duration": 0.027904,
     "end_time": "2024-08-31T11:43:35.535747",
     "exception": false,
     "start_time": "2024-08-31T11:43:35.507843",
     "status": "completed"
    },
    "tags": []
   },
   "outputs": [],
   "source": [
    "sc = StandardScaler()\n",
    "X_train = sc.fit_transform(X_train)\n",
    "X_test = sc.transform(X_test)"
   ]
  },
  {
   "cell_type": "markdown",
   "id": "6c1ebb7f",
   "metadata": {
    "papermill": {
     "duration": 0.014019,
     "end_time": "2024-08-31T11:43:35.565128",
     "exception": false,
     "start_time": "2024-08-31T11:43:35.551109",
     "status": "completed"
    },
    "tags": []
   },
   "source": [
    "# *stochastic gradient descent (SGD)*"
   ]
  },
  {
   "cell_type": "code",
   "execution_count": 10,
   "id": "14cb1c06",
   "metadata": {
    "execution": {
     "iopub.execute_input": "2024-08-31T11:43:35.591881Z",
     "iopub.status.busy": "2024-08-31T11:43:35.590535Z",
     "iopub.status.idle": "2024-08-31T11:43:36.468066Z",
     "shell.execute_reply": "2024-08-31T11:43:36.467151Z"
    },
    "papermill": {
     "duration": 0.893369,
     "end_time": "2024-08-31T11:43:36.470577",
     "exception": false,
     "start_time": "2024-08-31T11:43:35.577208",
     "status": "completed"
    },
    "tags": []
   },
   "outputs": [
    {
     "name": "stderr",
     "output_type": "stream",
     "text": [
      "/opt/conda/lib/python3.10/site-packages/keras/src/layers/core/dense.py:87: UserWarning: Do not pass an `input_shape`/`input_dim` argument to a layer. When using Sequential models, prefer using an `Input(shape)` object as the first layer in the model instead.\n",
      "  super().__init__(activity_regularizer=activity_regularizer, **kwargs)\n"
     ]
    }
   ],
   "source": [
    "from tensorflow.keras.models import Sequential\n",
    "from tensorflow.keras.layers import Dense\n",
    "\n",
    "ann_sgd = Sequential()\n",
    "ann_sgd.add(Dense(64, input_dim=34, activation='relu')) \n",
    "ann_sgd.add(Dense(1, activation='relu'))"
   ]
  },
  {
   "cell_type": "markdown",
   "id": "3edefad5",
   "metadata": {
    "papermill": {
     "duration": 0.009799,
     "end_time": "2024-08-31T11:43:36.490599",
     "exception": false,
     "start_time": "2024-08-31T11:43:36.480800",
     "status": "completed"
    },
    "tags": []
   },
   "source": [
    "# *Root mean square propagation (rms)*"
   ]
  },
  {
   "cell_type": "code",
   "execution_count": 11,
   "id": "7d0837ed",
   "metadata": {
    "execution": {
     "iopub.execute_input": "2024-08-31T11:43:36.512230Z",
     "iopub.status.busy": "2024-08-31T11:43:36.511872Z",
     "iopub.status.idle": "2024-08-31T11:43:36.536787Z",
     "shell.execute_reply": "2024-08-31T11:43:36.536043Z"
    },
    "papermill": {
     "duration": 0.03812,
     "end_time": "2024-08-31T11:43:36.538900",
     "exception": false,
     "start_time": "2024-08-31T11:43:36.500780",
     "status": "completed"
    },
    "tags": []
   },
   "outputs": [],
   "source": [
    "from tensorflow.keras.models import Sequential\n",
    "from tensorflow.keras.layers import Dense\n",
    "\n",
    "ann_rms = Sequential()\n",
    "ann_rms.add(Dense(64, input_dim=34, activation='relu')) \n",
    "ann_rms.add(Dense(1, activation='relu'))"
   ]
  },
  {
   "cell_type": "markdown",
   "id": "d2a94ebc",
   "metadata": {
    "papermill": {
     "duration": 0.01009,
     "end_time": "2024-08-31T11:43:36.559171",
     "exception": false,
     "start_time": "2024-08-31T11:43:36.549081",
     "status": "completed"
    },
    "tags": []
   },
   "source": [
    "# *adaptive moment estimation (adam)*"
   ]
  },
  {
   "cell_type": "code",
   "execution_count": 12,
   "id": "d7d58ea0",
   "metadata": {
    "execution": {
     "iopub.execute_input": "2024-08-31T11:43:36.580293Z",
     "iopub.status.busy": "2024-08-31T11:43:36.579942Z",
     "iopub.status.idle": "2024-08-31T11:43:36.589653Z",
     "shell.execute_reply": "2024-08-31T11:43:36.588576Z"
    },
    "papermill": {
     "duration": 0.022999,
     "end_time": "2024-08-31T11:43:36.591840",
     "exception": false,
     "start_time": "2024-08-31T11:43:36.568841",
     "status": "completed"
    },
    "tags": []
   },
   "outputs": [],
   "source": [
    "ann_adam=Sequential()\n",
    "ann_adam.add(tf.keras.layers.Dense(units=8,activation=\"relu\")) #1st layer\n",
    "ann_adam.add(tf.keras.layers.Dense(units=8,activation=\"relu\")) #2nd layer\n",
    "ann_adam.add(tf.keras.layers.Dense(units=7, activation=\"softmax\")) #output layer"
   ]
  },
  {
   "cell_type": "markdown",
   "id": "7096a4a2",
   "metadata": {
    "papermill": {
     "duration": 0.009695,
     "end_time": "2024-08-31T11:43:36.611695",
     "exception": false,
     "start_time": "2024-08-31T11:43:36.602000",
     "status": "completed"
    },
    "tags": []
   },
   "source": [
    "# *training models for three different optimization algorithms*"
   ]
  },
  {
   "cell_type": "code",
   "execution_count": 13,
   "id": "4c8659a2",
   "metadata": {
    "execution": {
     "iopub.execute_input": "2024-08-31T11:43:36.633025Z",
     "iopub.status.busy": "2024-08-31T11:43:36.632630Z",
     "iopub.status.idle": "2024-08-31T11:43:36.649532Z",
     "shell.execute_reply": "2024-08-31T11:43:36.648773Z"
    },
    "papermill": {
     "duration": 0.030145,
     "end_time": "2024-08-31T11:43:36.651702",
     "exception": false,
     "start_time": "2024-08-31T11:43:36.621557",
     "status": "completed"
    },
    "tags": []
   },
   "outputs": [],
   "source": [
    "from tensorflow.keras.optimizers import RMSprop\n",
    "\n",
    "ann_rms.compile(optimizer=RMSprop(), loss='binary_crossentropy', metrics=['accuracy'])"
   ]
  },
  {
   "cell_type": "code",
   "execution_count": 14,
   "id": "a3d287c8",
   "metadata": {
    "execution": {
     "iopub.execute_input": "2024-08-31T11:43:36.674142Z",
     "iopub.status.busy": "2024-08-31T11:43:36.673474Z",
     "iopub.status.idle": "2024-08-31T11:43:36.683629Z",
     "shell.execute_reply": "2024-08-31T11:43:36.682897Z"
    },
    "papermill": {
     "duration": 0.023421,
     "end_time": "2024-08-31T11:43:36.685526",
     "exception": false,
     "start_time": "2024-08-31T11:43:36.662105",
     "status": "completed"
    },
    "tags": []
   },
   "outputs": [],
   "source": [
    "from tensorflow.keras.optimizers import SGD\n",
    "\n",
    "ann_sgd.compile(optimizer=SGD(), loss='binary_crossentropy', metrics=['accuracy'])"
   ]
  },
  {
   "cell_type": "code",
   "execution_count": 15,
   "id": "c3c75539",
   "metadata": {
    "execution": {
     "iopub.execute_input": "2024-08-31T11:43:36.707049Z",
     "iopub.status.busy": "2024-08-31T11:43:36.706473Z",
     "iopub.status.idle": "2024-08-31T11:43:36.742810Z",
     "shell.execute_reply": "2024-08-31T11:43:36.742024Z"
    },
    "papermill": {
     "duration": 0.049569,
     "end_time": "2024-08-31T11:43:36.745124",
     "exception": false,
     "start_time": "2024-08-31T11:43:36.695555",
     "status": "completed"
    },
    "tags": []
   },
   "outputs": [],
   "source": [
    "from tensorflow.keras.models import Sequential\n",
    "from tensorflow.keras.layers import Dense\n",
    "from tensorflow.keras.optimizers import Adam\n",
    "\n",
    "ann_adam = Sequential()\n",
    "ann_adam.add(Dense(64, input_dim=34, activation='relu'))  # Adjust input_dim as needed\n",
    "ann_adam.add(Dense(32, activation='relu'))\n",
    "ann_adam.add(Dense(1, activation='sigmoid'))"
   ]
  },
  {
   "cell_type": "code",
   "execution_count": 16,
   "id": "f9c1811e",
   "metadata": {
    "execution": {
     "iopub.execute_input": "2024-08-31T11:43:36.768167Z",
     "iopub.status.busy": "2024-08-31T11:43:36.767286Z",
     "iopub.status.idle": "2024-08-31T11:43:36.778318Z",
     "shell.execute_reply": "2024-08-31T11:43:36.777397Z"
    },
    "papermill": {
     "duration": 0.024821,
     "end_time": "2024-08-31T11:43:36.780524",
     "exception": false,
     "start_time": "2024-08-31T11:43:36.755703",
     "status": "completed"
    },
    "tags": []
   },
   "outputs": [],
   "source": [
    "from tensorflow.keras.optimizers import Adam\n",
    "\n",
    "ann_adam.compile(optimizer=Adam(learning_rate=0.001),  # Adjust learning rate as needed\n",
    "                 loss='binary_crossentropy',\n",
    "                 metrics=['accuracy'])"
   ]
  },
  {
   "cell_type": "code",
   "execution_count": 17,
   "id": "e6b25515",
   "metadata": {
    "execution": {
     "iopub.execute_input": "2024-08-31T11:43:36.803035Z",
     "iopub.status.busy": "2024-08-31T11:43:36.802606Z",
     "iopub.status.idle": "2024-08-31T11:43:44.494711Z",
     "shell.execute_reply": "2024-08-31T11:43:44.493891Z"
    },
    "papermill": {
     "duration": 7.705797,
     "end_time": "2024-08-31T11:43:44.496818",
     "exception": false,
     "start_time": "2024-08-31T11:43:36.791021",
     "status": "completed"
    },
    "tags": []
   },
   "outputs": [
    {
     "name": "stdout",
     "output_type": "stream",
     "text": [
      "Epoch 1/70\n"
     ]
    },
    {
     "name": "stderr",
     "output_type": "stream",
     "text": [
      "WARNING: All log messages before absl::InitializeLog() is called are written to STDERR\n",
      "I0000 00:00:1725104617.321704      67 service.cc:145] XLA service 0x782548006ec0 initialized for platform CUDA (this does not guarantee that XLA will be used). Devices:\n",
      "I0000 00:00:1725104617.321777      67 service.cc:153]   StreamExecutor device (0): Tesla T4, Compute Capability 7.5\n",
      "I0000 00:00:1725104617.321781      67 service.cc:153]   StreamExecutor device (1): Tesla T4, Compute Capability 7.5\n"
     ]
    },
    {
     "name": "stdout",
     "output_type": "stream",
     "text": [
      "\u001b[1m 1/24\u001b[0m \u001b[37m━━━━━━━━━━━━━━━━━━━━\u001b[0m \u001b[1m28s\u001b[0m 1s/step - accuracy: 0.1429 - loss: 47.6090"
     ]
    },
    {
     "name": "stderr",
     "output_type": "stream",
     "text": [
      "I0000 00:00:1725104618.091417      67 device_compiler.h:188] Compiled cluster using XLA!  This line is logged at most once for the lifetime of the process.\n"
     ]
    },
    {
     "name": "stdout",
     "output_type": "stream",
     "text": [
      "\u001b[1m24/24\u001b[0m \u001b[32m━━━━━━━━━━━━━━━━━━━━\u001b[0m\u001b[37m\u001b[0m \u001b[1m2s\u001b[0m 35ms/step - accuracy: 0.0985 - loss: 4.6176 - val_accuracy: 0.1111 - val_loss: -31.3418\n",
      "Epoch 2/70\n",
      "\u001b[1m24/24\u001b[0m \u001b[32m━━━━━━━━━━━━━━━━━━━━\u001b[0m\u001b[37m\u001b[0m \u001b[1m0s\u001b[0m 2ms/step - accuracy: 0.1075 - loss: -37.2955 - val_accuracy: 0.1111 - val_loss: -31.3418\n",
      "Epoch 3/70\n",
      "\u001b[1m24/24\u001b[0m \u001b[32m━━━━━━━━━━━━━━━━━━━━\u001b[0m\u001b[37m\u001b[0m \u001b[1m0s\u001b[0m 2ms/step - accuracy: 0.1011 - loss: -37.4616 - val_accuracy: 0.1111 - val_loss: -31.3418\n",
      "Epoch 4/70\n",
      "\u001b[1m24/24\u001b[0m \u001b[32m━━━━━━━━━━━━━━━━━━━━\u001b[0m\u001b[37m\u001b[0m \u001b[1m0s\u001b[0m 2ms/step - accuracy: 0.1143 - loss: -37.0367 - val_accuracy: 0.1111 - val_loss: -31.3418\n",
      "Epoch 5/70\n",
      "\u001b[1m24/24\u001b[0m \u001b[32m━━━━━━━━━━━━━━━━━━━━\u001b[0m\u001b[37m\u001b[0m \u001b[1m0s\u001b[0m 2ms/step - accuracy: 0.1014 - loss: -36.6047 - val_accuracy: 0.1111 - val_loss: -31.3418\n",
      "Epoch 6/70\n",
      "\u001b[1m24/24\u001b[0m \u001b[32m━━━━━━━━━━━━━━━━━━━━\u001b[0m\u001b[37m\u001b[0m \u001b[1m0s\u001b[0m 2ms/step - accuracy: 0.0894 - loss: -36.9655 - val_accuracy: 0.1111 - val_loss: -31.3418\n",
      "Epoch 7/70\n",
      "\u001b[1m24/24\u001b[0m \u001b[32m━━━━━━━━━━━━━━━━━━━━\u001b[0m\u001b[37m\u001b[0m \u001b[1m0s\u001b[0m 2ms/step - accuracy: 0.1126 - loss: -37.5328 - val_accuracy: 0.1111 - val_loss: -31.3418\n",
      "Epoch 8/70\n",
      "\u001b[1m24/24\u001b[0m \u001b[32m━━━━━━━━━━━━━━━━━━━━\u001b[0m\u001b[37m\u001b[0m \u001b[1m0s\u001b[0m 2ms/step - accuracy: 0.1214 - loss: -35.9077 - val_accuracy: 0.1111 - val_loss: -31.3418\n",
      "Epoch 9/70\n",
      "\u001b[1m24/24\u001b[0m \u001b[32m━━━━━━━━━━━━━━━━━━━━\u001b[0m\u001b[37m\u001b[0m \u001b[1m0s\u001b[0m 2ms/step - accuracy: 0.1078 - loss: -37.3193 - val_accuracy: 0.1111 - val_loss: -31.3418\n",
      "Epoch 10/70\n",
      "\u001b[1m24/24\u001b[0m \u001b[32m━━━━━━━━━━━━━━━━━━━━\u001b[0m\u001b[37m\u001b[0m \u001b[1m0s\u001b[0m 2ms/step - accuracy: 0.1052 - loss: -35.6104 - val_accuracy: 0.1111 - val_loss: -31.3418\n",
      "Epoch 11/70\n",
      "\u001b[1m24/24\u001b[0m \u001b[32m━━━━━━━━━━━━━━━━━━━━\u001b[0m\u001b[37m\u001b[0m \u001b[1m0s\u001b[0m 2ms/step - accuracy: 0.1071 - loss: -37.2931 - val_accuracy: 0.1111 - val_loss: -31.3418\n",
      "Epoch 12/70\n",
      "\u001b[1m24/24\u001b[0m \u001b[32m━━━━━━━━━━━━━━━━━━━━\u001b[0m\u001b[37m\u001b[0m \u001b[1m0s\u001b[0m 2ms/step - accuracy: 0.0940 - loss: -37.6183 - val_accuracy: 0.1111 - val_loss: -31.3418\n",
      "Epoch 13/70\n",
      "\u001b[1m24/24\u001b[0m \u001b[32m━━━━━━━━━━━━━━━━━━━━\u001b[0m\u001b[37m\u001b[0m \u001b[1m0s\u001b[0m 2ms/step - accuracy: 0.0945 - loss: -38.6615 - val_accuracy: 0.1111 - val_loss: -31.3418\n",
      "Epoch 14/70\n",
      "\u001b[1m24/24\u001b[0m \u001b[32m━━━━━━━━━━━━━━━━━━━━\u001b[0m\u001b[37m\u001b[0m \u001b[1m0s\u001b[0m 2ms/step - accuracy: 0.1127 - loss: -35.7966 - val_accuracy: 0.1111 - val_loss: -31.3418\n",
      "Epoch 15/70\n",
      "\u001b[1m24/24\u001b[0m \u001b[32m━━━━━━━━━━━━━━━━━━━━\u001b[0m\u001b[37m\u001b[0m \u001b[1m0s\u001b[0m 2ms/step - accuracy: 0.1087 - loss: -35.6139 - val_accuracy: 0.1111 - val_loss: -31.3418\n",
      "Epoch 16/70\n",
      "\u001b[1m24/24\u001b[0m \u001b[32m━━━━━━━━━━━━━━━━━━━━\u001b[0m\u001b[37m\u001b[0m \u001b[1m0s\u001b[0m 2ms/step - accuracy: 0.1162 - loss: -37.0814 - val_accuracy: 0.1111 - val_loss: -31.3418\n",
      "Epoch 17/70\n",
      "\u001b[1m24/24\u001b[0m \u001b[32m━━━━━━━━━━━━━━━━━━━━\u001b[0m\u001b[37m\u001b[0m \u001b[1m0s\u001b[0m 2ms/step - accuracy: 0.1225 - loss: -36.8639 - val_accuracy: 0.1111 - val_loss: -31.3418\n",
      "Epoch 18/70\n",
      "\u001b[1m24/24\u001b[0m \u001b[32m━━━━━━━━━━━━━━━━━━━━\u001b[0m\u001b[37m\u001b[0m \u001b[1m0s\u001b[0m 2ms/step - accuracy: 0.1162 - loss: -38.2000 - val_accuracy: 0.1111 - val_loss: -31.3418\n",
      "Epoch 19/70\n",
      "\u001b[1m24/24\u001b[0m \u001b[32m━━━━━━━━━━━━━━━━━━━━\u001b[0m\u001b[37m\u001b[0m \u001b[1m0s\u001b[0m 2ms/step - accuracy: 0.1154 - loss: -35.3021 - val_accuracy: 0.1111 - val_loss: -31.3418\n",
      "Epoch 20/70\n",
      "\u001b[1m24/24\u001b[0m \u001b[32m━━━━━━━━━━━━━━━━━━━━\u001b[0m\u001b[37m\u001b[0m \u001b[1m0s\u001b[0m 2ms/step - accuracy: 0.1166 - loss: -34.7244 - val_accuracy: 0.1111 - val_loss: -31.3418\n",
      "Epoch 21/70\n",
      "\u001b[1m24/24\u001b[0m \u001b[32m━━━━━━━━━━━━━━━━━━━━\u001b[0m\u001b[37m\u001b[0m \u001b[1m0s\u001b[0m 2ms/step - accuracy: 0.1220 - loss: -35.5525 - val_accuracy: 0.1111 - val_loss: -31.3418\n",
      "Epoch 22/70\n",
      "\u001b[1m24/24\u001b[0m \u001b[32m━━━━━━━━━━━━━━━━━━━━\u001b[0m\u001b[37m\u001b[0m \u001b[1m0s\u001b[0m 2ms/step - accuracy: 0.0967 - loss: -38.6500 - val_accuracy: 0.1111 - val_loss: -31.3418\n",
      "Epoch 23/70\n",
      "\u001b[1m24/24\u001b[0m \u001b[32m━━━━━━━━━━━━━━━━━━━━\u001b[0m\u001b[37m\u001b[0m \u001b[1m0s\u001b[0m 2ms/step - accuracy: 0.1078 - loss: -37.3233 - val_accuracy: 0.1111 - val_loss: -31.3418\n",
      "Epoch 24/70\n",
      "\u001b[1m24/24\u001b[0m \u001b[32m━━━━━━━━━━━━━━━━━━━━\u001b[0m\u001b[37m\u001b[0m \u001b[1m0s\u001b[0m 2ms/step - accuracy: 0.1030 - loss: -37.9845 - val_accuracy: 0.1111 - val_loss: -31.3418\n",
      "Epoch 25/70\n",
      "\u001b[1m24/24\u001b[0m \u001b[32m━━━━━━━━━━━━━━━━━━━━\u001b[0m\u001b[37m\u001b[0m \u001b[1m0s\u001b[0m 2ms/step - accuracy: 0.1228 - loss: -36.7512 - val_accuracy: 0.1111 - val_loss: -31.3418\n",
      "Epoch 26/70\n",
      "\u001b[1m24/24\u001b[0m \u001b[32m━━━━━━━━━━━━━━━━━━━━\u001b[0m\u001b[37m\u001b[0m \u001b[1m0s\u001b[0m 2ms/step - accuracy: 0.1042 - loss: -36.9719 - val_accuracy: 0.1111 - val_loss: -31.3418\n",
      "Epoch 27/70\n",
      "\u001b[1m24/24\u001b[0m \u001b[32m━━━━━━━━━━━━━━━━━━━━\u001b[0m\u001b[37m\u001b[0m \u001b[1m0s\u001b[0m 2ms/step - accuracy: 0.1108 - loss: -37.2967 - val_accuracy: 0.1111 - val_loss: -31.3418\n",
      "Epoch 28/70\n",
      "\u001b[1m24/24\u001b[0m \u001b[32m━━━━━━━━━━━━━━━━━━━━\u001b[0m\u001b[37m\u001b[0m \u001b[1m0s\u001b[0m 2ms/step - accuracy: 0.0967 - loss: -36.9232 - val_accuracy: 0.1111 - val_loss: -31.3418\n",
      "Epoch 29/70\n",
      "\u001b[1m24/24\u001b[0m \u001b[32m━━━━━━━━━━━━━━━━━━━━\u001b[0m\u001b[37m\u001b[0m \u001b[1m0s\u001b[0m 2ms/step - accuracy: 0.1080 - loss: -37.1786 - val_accuracy: 0.1111 - val_loss: -31.3418\n",
      "Epoch 30/70\n",
      "\u001b[1m24/24\u001b[0m \u001b[32m━━━━━━━━━━━━━━━━━━━━\u001b[0m\u001b[37m\u001b[0m \u001b[1m0s\u001b[0m 2ms/step - accuracy: 0.1097 - loss: -35.6760 - val_accuracy: 0.1111 - val_loss: -31.3418\n",
      "Epoch 31/70\n",
      "\u001b[1m24/24\u001b[0m \u001b[32m━━━━━━━━━━━━━━━━━━━━\u001b[0m\u001b[37m\u001b[0m \u001b[1m0s\u001b[0m 2ms/step - accuracy: 0.1179 - loss: -35.3848 - val_accuracy: 0.1111 - val_loss: -31.3418\n",
      "Epoch 32/70\n",
      "\u001b[1m24/24\u001b[0m \u001b[32m━━━━━━━━━━━━━━━━━━━━\u001b[0m\u001b[37m\u001b[0m \u001b[1m0s\u001b[0m 2ms/step - accuracy: 0.1093 - loss: -36.3283 - val_accuracy: 0.1111 - val_loss: -31.3418\n",
      "Epoch 33/70\n",
      "\u001b[1m24/24\u001b[0m \u001b[32m━━━━━━━━━━━━━━━━━━━━\u001b[0m\u001b[37m\u001b[0m \u001b[1m0s\u001b[0m 2ms/step - accuracy: 0.1049 - loss: -36.2694 - val_accuracy: 0.1111 - val_loss: -31.3418\n",
      "Epoch 34/70\n",
      "\u001b[1m24/24\u001b[0m \u001b[32m━━━━━━━━━━━━━━━━━━━━\u001b[0m\u001b[37m\u001b[0m \u001b[1m0s\u001b[0m 2ms/step - accuracy: 0.1090 - loss: -38.1560 - val_accuracy: 0.1111 - val_loss: -31.3418\n",
      "Epoch 35/70\n",
      "\u001b[1m24/24\u001b[0m \u001b[32m━━━━━━━━━━━━━━━━━━━━\u001b[0m\u001b[37m\u001b[0m \u001b[1m0s\u001b[0m 2ms/step - accuracy: 0.0931 - loss: -38.5530 - val_accuracy: 0.1111 - val_loss: -31.3418\n",
      "Epoch 36/70\n",
      "\u001b[1m24/24\u001b[0m \u001b[32m━━━━━━━━━━━━━━━━━━━━\u001b[0m\u001b[37m\u001b[0m \u001b[1m0s\u001b[0m 2ms/step - accuracy: 0.1121 - loss: -36.1506 - val_accuracy: 0.1111 - val_loss: -31.3418\n",
      "Epoch 37/70\n",
      "\u001b[1m24/24\u001b[0m \u001b[32m━━━━━━━━━━━━━━━━━━━━\u001b[0m\u001b[37m\u001b[0m \u001b[1m0s\u001b[0m 2ms/step - accuracy: 0.1112 - loss: -37.6006 - val_accuracy: 0.1111 - val_loss: -31.3418\n",
      "Epoch 38/70\n",
      "\u001b[1m24/24\u001b[0m \u001b[32m━━━━━━━━━━━━━━━━━━━━\u001b[0m\u001b[37m\u001b[0m \u001b[1m0s\u001b[0m 2ms/step - accuracy: 0.1107 - loss: -37.1055 - val_accuracy: 0.1111 - val_loss: -31.3418\n",
      "Epoch 39/70\n",
      "\u001b[1m24/24\u001b[0m \u001b[32m━━━━━━━━━━━━━━━━━━━━\u001b[0m\u001b[37m\u001b[0m \u001b[1m0s\u001b[0m 3ms/step - accuracy: 0.1131 - loss: -36.5904 - val_accuracy: 0.1111 - val_loss: -31.3418\n",
      "Epoch 40/70\n",
      "\u001b[1m24/24\u001b[0m \u001b[32m━━━━━━━━━━━━━━━━━━━━\u001b[0m\u001b[37m\u001b[0m \u001b[1m0s\u001b[0m 3ms/step - accuracy: 0.1172 - loss: -37.6005 - val_accuracy: 0.1111 - val_loss: -31.3418\n",
      "Epoch 41/70\n",
      "\u001b[1m24/24\u001b[0m \u001b[32m━━━━━━━━━━━━━━━━━━━━\u001b[0m\u001b[37m\u001b[0m \u001b[1m0s\u001b[0m 2ms/step - accuracy: 0.1043 - loss: -36.0943 - val_accuracy: 0.1111 - val_loss: -31.3418\n",
      "Epoch 42/70\n",
      "\u001b[1m24/24\u001b[0m \u001b[32m━━━━━━━━━━━━━━━━━━━━\u001b[0m\u001b[37m\u001b[0m \u001b[1m0s\u001b[0m 2ms/step - accuracy: 0.1103 - loss: -36.0500 - val_accuracy: 0.1111 - val_loss: -31.3418\n",
      "Epoch 43/70\n",
      "\u001b[1m24/24\u001b[0m \u001b[32m━━━━━━━━━━━━━━━━━━━━\u001b[0m\u001b[37m\u001b[0m \u001b[1m0s\u001b[0m 2ms/step - accuracy: 0.0985 - loss: -37.4331 - val_accuracy: 0.1111 - val_loss: -31.3418\n",
      "Epoch 44/70\n",
      "\u001b[1m24/24\u001b[0m \u001b[32m━━━━━━━━━━━━━━━━━━━━\u001b[0m\u001b[37m\u001b[0m \u001b[1m0s\u001b[0m 2ms/step - accuracy: 0.0968 - loss: -37.0300 - val_accuracy: 0.1111 - val_loss: -31.3418\n",
      "Epoch 45/70\n",
      "\u001b[1m24/24\u001b[0m \u001b[32m━━━━━━━━━━━━━━━━━━━━\u001b[0m\u001b[37m\u001b[0m \u001b[1m0s\u001b[0m 3ms/step - accuracy: 0.1190 - loss: -36.3216 - val_accuracy: 0.1111 - val_loss: -31.3418\n",
      "Epoch 46/70\n",
      "\u001b[1m24/24\u001b[0m \u001b[32m━━━━━━━━━━━━━━━━━━━━\u001b[0m\u001b[37m\u001b[0m \u001b[1m0s\u001b[0m 2ms/step - accuracy: 0.1200 - loss: -34.9383 - val_accuracy: 0.1111 - val_loss: -31.3418\n",
      "Epoch 47/70\n",
      "\u001b[1m24/24\u001b[0m \u001b[32m━━━━━━━━━━━━━━━━━━━━\u001b[0m\u001b[37m\u001b[0m \u001b[1m0s\u001b[0m 2ms/step - accuracy: 0.1222 - loss: -36.1900 - val_accuracy: 0.1111 - val_loss: -31.3418\n",
      "Epoch 48/70\n",
      "\u001b[1m24/24\u001b[0m \u001b[32m━━━━━━━━━━━━━━━━━━━━\u001b[0m\u001b[37m\u001b[0m \u001b[1m0s\u001b[0m 2ms/step - accuracy: 0.1095 - loss: -37.8245 - val_accuracy: 0.1111 - val_loss: -31.3418\n",
      "Epoch 49/70\n",
      "\u001b[1m24/24\u001b[0m \u001b[32m━━━━━━━━━━━━━━━━━━━━\u001b[0m\u001b[37m\u001b[0m \u001b[1m0s\u001b[0m 2ms/step - accuracy: 0.1000 - loss: -37.6925 - val_accuracy: 0.1111 - val_loss: -31.3418\n",
      "Epoch 50/70\n",
      "\u001b[1m24/24\u001b[0m \u001b[32m━━━━━━━━━━━━━━━━━━━━\u001b[0m\u001b[37m\u001b[0m \u001b[1m0s\u001b[0m 2ms/step - accuracy: 0.1065 - loss: -36.8310 - val_accuracy: 0.1111 - val_loss: -31.3418\n",
      "Epoch 51/70\n",
      "\u001b[1m24/24\u001b[0m \u001b[32m━━━━━━━━━━━━━━━━━━━━\u001b[0m\u001b[37m\u001b[0m \u001b[1m0s\u001b[0m 2ms/step - accuracy: 0.1081 - loss: -35.8973 - val_accuracy: 0.1111 - val_loss: -31.3418\n",
      "Epoch 52/70\n",
      "\u001b[1m24/24\u001b[0m \u001b[32m━━━━━━━━━━━━━━━━━━━━\u001b[0m\u001b[37m\u001b[0m \u001b[1m0s\u001b[0m 2ms/step - accuracy: 0.1101 - loss: -36.3093 - val_accuracy: 0.1111 - val_loss: -31.3418\n",
      "Epoch 53/70\n",
      "\u001b[1m24/24\u001b[0m \u001b[32m━━━━━━━━━━━━━━━━━━━━\u001b[0m\u001b[37m\u001b[0m \u001b[1m0s\u001b[0m 2ms/step - accuracy: 0.1032 - loss: -37.2608 - val_accuracy: 0.1111 - val_loss: -31.3418\n",
      "Epoch 54/70\n",
      "\u001b[1m24/24\u001b[0m \u001b[32m━━━━━━━━━━━━━━━━━━━━\u001b[0m\u001b[37m\u001b[0m \u001b[1m0s\u001b[0m 2ms/step - accuracy: 0.0959 - loss: -36.6333 - val_accuracy: 0.1111 - val_loss: -31.3418\n",
      "Epoch 55/70\n",
      "\u001b[1m24/24\u001b[0m \u001b[32m━━━━━━━━━━━━━━━━━━━━\u001b[0m\u001b[37m\u001b[0m \u001b[1m0s\u001b[0m 2ms/step - accuracy: 0.1136 - loss: -37.1546 - val_accuracy: 0.1111 - val_loss: -31.3418\n",
      "Epoch 56/70\n",
      "\u001b[1m24/24\u001b[0m \u001b[32m━━━━━━━━━━━━━━━━━━━━\u001b[0m\u001b[37m\u001b[0m \u001b[1m0s\u001b[0m 2ms/step - accuracy: 0.1269 - loss: -37.1358 - val_accuracy: 0.1111 - val_loss: -31.3418\n",
      "Epoch 57/70\n",
      "\u001b[1m24/24\u001b[0m \u001b[32m━━━━━━━━━━━━━━━━━━━━\u001b[0m\u001b[37m\u001b[0m \u001b[1m0s\u001b[0m 2ms/step - accuracy: 0.1148 - loss: -37.1232 - val_accuracy: 0.1111 - val_loss: -31.3418\n",
      "Epoch 58/70\n",
      "\u001b[1m24/24\u001b[0m \u001b[32m━━━━━━━━━━━━━━━━━━━━\u001b[0m\u001b[37m\u001b[0m \u001b[1m0s\u001b[0m 3ms/step - accuracy: 0.1196 - loss: -35.6349 - val_accuracy: 0.1111 - val_loss: -31.3418\n",
      "Epoch 59/70\n",
      "\u001b[1m24/24\u001b[0m \u001b[32m━━━━━━━━━━━━━━━━━━━━\u001b[0m\u001b[37m\u001b[0m \u001b[1m0s\u001b[0m 2ms/step - accuracy: 0.1086 - loss: -36.6442 - val_accuracy: 0.1111 - val_loss: -31.3418\n",
      "Epoch 60/70\n",
      "\u001b[1m24/24\u001b[0m \u001b[32m━━━━━━━━━━━━━━━━━━━━\u001b[0m\u001b[37m\u001b[0m \u001b[1m0s\u001b[0m 2ms/step - accuracy: 0.1116 - loss: -37.3779 - val_accuracy: 0.1111 - val_loss: -31.3418\n",
      "Epoch 61/70\n",
      "\u001b[1m24/24\u001b[0m \u001b[32m━━━━━━━━━━━━━━━━━━━━\u001b[0m\u001b[37m\u001b[0m \u001b[1m0s\u001b[0m 2ms/step - accuracy: 0.1139 - loss: -37.9368 - val_accuracy: 0.1111 - val_loss: -31.3418\n",
      "Epoch 62/70\n",
      "\u001b[1m24/24\u001b[0m \u001b[32m━━━━━━━━━━━━━━━━━━━━\u001b[0m\u001b[37m\u001b[0m \u001b[1m0s\u001b[0m 2ms/step - accuracy: 0.1198 - loss: -37.0173 - val_accuracy: 0.1111 - val_loss: -31.3418\n",
      "Epoch 63/70\n",
      "\u001b[1m24/24\u001b[0m \u001b[32m━━━━━━━━━━━━━━━━━━━━\u001b[0m\u001b[37m\u001b[0m \u001b[1m0s\u001b[0m 2ms/step - accuracy: 0.1103 - loss: -36.2532 - val_accuracy: 0.1111 - val_loss: -31.3418\n",
      "Epoch 64/70\n",
      "\u001b[1m24/24\u001b[0m \u001b[32m━━━━━━━━━━━━━━━━━━━━\u001b[0m\u001b[37m\u001b[0m \u001b[1m0s\u001b[0m 2ms/step - accuracy: 0.0934 - loss: -36.7154 - val_accuracy: 0.1111 - val_loss: -31.3418\n",
      "Epoch 65/70\n",
      "\u001b[1m24/24\u001b[0m \u001b[32m━━━━━━━━━━━━━━━━━━━━\u001b[0m\u001b[37m\u001b[0m \u001b[1m0s\u001b[0m 2ms/step - accuracy: 0.1120 - loss: -37.7292 - val_accuracy: 0.1111 - val_loss: -31.3418\n",
      "Epoch 66/70\n",
      "\u001b[1m24/24\u001b[0m \u001b[32m━━━━━━━━━━━━━━━━━━━━\u001b[0m\u001b[37m\u001b[0m \u001b[1m0s\u001b[0m 2ms/step - accuracy: 0.0876 - loss: -37.2232 - val_accuracy: 0.1111 - val_loss: -31.3418\n",
      "Epoch 67/70\n",
      "\u001b[1m24/24\u001b[0m \u001b[32m━━━━━━━━━━━━━━━━━━━━\u001b[0m\u001b[37m\u001b[0m \u001b[1m0s\u001b[0m 2ms/step - accuracy: 0.1029 - loss: -36.6538 - val_accuracy: 0.1111 - val_loss: -31.3418\n",
      "Epoch 68/70\n",
      "\u001b[1m24/24\u001b[0m \u001b[32m━━━━━━━━━━━━━━━━━━━━\u001b[0m\u001b[37m\u001b[0m \u001b[1m0s\u001b[0m 2ms/step - accuracy: 0.0911 - loss: -38.0549 - val_accuracy: 0.1111 - val_loss: -31.3418\n",
      "Epoch 69/70\n",
      "\u001b[1m24/24\u001b[0m \u001b[32m━━━━━━━━━━━━━━━━━━━━\u001b[0m\u001b[37m\u001b[0m \u001b[1m0s\u001b[0m 3ms/step - accuracy: 0.1058 - loss: -36.4368 - val_accuracy: 0.1111 - val_loss: -31.3418\n",
      "Epoch 70/70\n",
      "\u001b[1m24/24\u001b[0m \u001b[32m━━━━━━━━━━━━━━━━━━━━\u001b[0m\u001b[37m\u001b[0m \u001b[1m0s\u001b[0m 3ms/step - accuracy: 0.1118 - loss: -36.1226 - val_accuracy: 0.1111 - val_loss: -31.3418\n"
     ]
    }
   ],
   "source": [
    "Training_progress_sgd=ann_sgd.fit(X_train,Y_train,batch_size=35, epochs =70, validation_data=(X_test, Y_test))"
   ]
  },
  {
   "cell_type": "code",
   "execution_count": 18,
   "id": "3554e0f1",
   "metadata": {
    "execution": {
     "iopub.execute_input": "2024-08-31T11:43:44.553094Z",
     "iopub.status.busy": "2024-08-31T11:43:44.552448Z",
     "iopub.status.idle": "2024-08-31T11:44:00.647338Z",
     "shell.execute_reply": "2024-08-31T11:44:00.646432Z"
    },
    "papermill": {
     "duration": 16.125092,
     "end_time": "2024-08-31T11:44:00.649506",
     "exception": false,
     "start_time": "2024-08-31T11:43:44.524414",
     "status": "completed"
    },
    "tags": []
   },
   "outputs": [
    {
     "name": "stdout",
     "output_type": "stream",
     "text": [
      "Epoch 1/150\n",
      "\u001b[1m33/33\u001b[0m \u001b[32m━━━━━━━━━━━━━━━━━━━━\u001b[0m\u001b[37m\u001b[0m \u001b[1m2s\u001b[0m 26ms/step - accuracy: 0.0686 - loss: 33.0736 - val_accuracy: 0.0889 - val_loss: 8.4883\n",
      "Epoch 2/150\n",
      "\u001b[1m33/33\u001b[0m \u001b[32m━━━━━━━━━━━━━━━━━━━━\u001b[0m\u001b[37m\u001b[0m \u001b[1m0s\u001b[0m 2ms/step - accuracy: 0.0969 - loss: 9.6635 - val_accuracy: 0.1111 - val_loss: -21.3889\n",
      "Epoch 3/150\n",
      "\u001b[1m33/33\u001b[0m \u001b[32m━━━━━━━━━━━━━━━━━━━━\u001b[0m\u001b[37m\u001b[0m \u001b[1m0s\u001b[0m 3ms/step - accuracy: 0.0923 - loss: -29.3364 - val_accuracy: 0.1111 - val_loss: -30.9002\n",
      "Epoch 4/150\n",
      "\u001b[1m33/33\u001b[0m \u001b[32m━━━━━━━━━━━━━━━━━━━━\u001b[0m\u001b[37m\u001b[0m \u001b[1m0s\u001b[0m 2ms/step - accuracy: 0.1115 - loss: -35.7358 - val_accuracy: 0.1111 - val_loss: -31.6391\n",
      "Epoch 5/150\n",
      "\u001b[1m33/33\u001b[0m \u001b[32m━━━━━━━━━━━━━━━━━━━━\u001b[0m\u001b[37m\u001b[0m \u001b[1m0s\u001b[0m 2ms/step - accuracy: 0.1041 - loss: -36.1142 - val_accuracy: 0.1111 - val_loss: -32.0619\n",
      "Epoch 6/150\n",
      "\u001b[1m33/33\u001b[0m \u001b[32m━━━━━━━━━━━━━━━━━━━━\u001b[0m\u001b[37m\u001b[0m \u001b[1m0s\u001b[0m 2ms/step - accuracy: 0.1240 - loss: -36.6090 - val_accuracy: 0.1111 - val_loss: -31.7610\n",
      "Epoch 7/150\n",
      "\u001b[1m33/33\u001b[0m \u001b[32m━━━━━━━━━━━━━━━━━━━━\u001b[0m\u001b[37m\u001b[0m \u001b[1m0s\u001b[0m 2ms/step - accuracy: 0.1005 - loss: -36.2887 - val_accuracy: 0.1111 - val_loss: -32.0619\n",
      "Epoch 8/150\n",
      "\u001b[1m33/33\u001b[0m \u001b[32m━━━━━━━━━━━━━━━━━━━━\u001b[0m\u001b[37m\u001b[0m \u001b[1m0s\u001b[0m 2ms/step - accuracy: 0.1065 - loss: -37.3851 - val_accuracy: 0.1111 - val_loss: -31.9208\n",
      "Epoch 9/150\n",
      "\u001b[1m33/33\u001b[0m \u001b[32m━━━━━━━━━━━━━━━━━━━━\u001b[0m\u001b[37m\u001b[0m \u001b[1m0s\u001b[0m 2ms/step - accuracy: 0.0991 - loss: -37.1490 - val_accuracy: 0.1111 - val_loss: -31.9405\n",
      "Epoch 10/150\n",
      "\u001b[1m33/33\u001b[0m \u001b[32m━━━━━━━━━━━━━━━━━━━━\u001b[0m\u001b[37m\u001b[0m \u001b[1m0s\u001b[0m 2ms/step - accuracy: 0.1139 - loss: -36.7552 - val_accuracy: 0.1111 - val_loss: -32.1962\n",
      "Epoch 11/150\n",
      "\u001b[1m33/33\u001b[0m \u001b[32m━━━━━━━━━━━━━━━━━━━━\u001b[0m\u001b[37m\u001b[0m \u001b[1m0s\u001b[0m 2ms/step - accuracy: 0.1147 - loss: -36.4530 - val_accuracy: 0.1222 - val_loss: -32.1924\n",
      "Epoch 12/150\n",
      "\u001b[1m33/33\u001b[0m \u001b[32m━━━━━━━━━━━━━━━━━━━━\u001b[0m\u001b[37m\u001b[0m \u001b[1m0s\u001b[0m 2ms/step - accuracy: 0.1181 - loss: -37.2335 - val_accuracy: 0.1111 - val_loss: -32.2162\n",
      "Epoch 13/150\n",
      "\u001b[1m33/33\u001b[0m \u001b[32m━━━━━━━━━━━━━━━━━━━━\u001b[0m\u001b[37m\u001b[0m \u001b[1m0s\u001b[0m 2ms/step - accuracy: 0.1389 - loss: -37.3013 - val_accuracy: 0.1222 - val_loss: -32.1042\n",
      "Epoch 14/150\n",
      "\u001b[1m33/33\u001b[0m \u001b[32m━━━━━━━━━━━━━━━━━━━━\u001b[0m\u001b[37m\u001b[0m \u001b[1m0s\u001b[0m 2ms/step - accuracy: 0.1364 - loss: -37.9774 - val_accuracy: 0.1444 - val_loss: -31.7000\n",
      "Epoch 15/150\n",
      "\u001b[1m33/33\u001b[0m \u001b[32m━━━━━━━━━━━━━━━━━━━━\u001b[0m\u001b[37m\u001b[0m \u001b[1m0s\u001b[0m 2ms/step - accuracy: 0.1323 - loss: -37.3008 - val_accuracy: 0.1333 - val_loss: -32.0916\n",
      "Epoch 16/150\n",
      "\u001b[1m33/33\u001b[0m \u001b[32m━━━━━━━━━━━━━━━━━━━━\u001b[0m\u001b[37m\u001b[0m \u001b[1m0s\u001b[0m 2ms/step - accuracy: 0.1255 - loss: -37.5425 - val_accuracy: 0.1444 - val_loss: -32.1079\n",
      "Epoch 17/150\n",
      "\u001b[1m33/33\u001b[0m \u001b[32m━━━━━━━━━━━━━━━━━━━━\u001b[0m\u001b[37m\u001b[0m \u001b[1m0s\u001b[0m 2ms/step - accuracy: 0.1589 - loss: -36.6765 - val_accuracy: 0.1444 - val_loss: -32.0680\n",
      "Epoch 18/150\n",
      "\u001b[1m33/33\u001b[0m \u001b[32m━━━━━━━━━━━━━━━━━━━━\u001b[0m\u001b[37m\u001b[0m \u001b[1m0s\u001b[0m 2ms/step - accuracy: 0.1471 - loss: -36.5291 - val_accuracy: 0.1444 - val_loss: -31.6910\n",
      "Epoch 19/150\n",
      "\u001b[1m33/33\u001b[0m \u001b[32m━━━━━━━━━━━━━━━━━━━━\u001b[0m\u001b[37m\u001b[0m \u001b[1m0s\u001b[0m 2ms/step - accuracy: 0.1593 - loss: -37.6382 - val_accuracy: 0.1222 - val_loss: -32.3914\n",
      "Epoch 20/150\n",
      "\u001b[1m33/33\u001b[0m \u001b[32m━━━━━━━━━━━━━━━━━━━━\u001b[0m\u001b[37m\u001b[0m \u001b[1m0s\u001b[0m 2ms/step - accuracy: 0.1532 - loss: -38.0020 - val_accuracy: 0.1444 - val_loss: -32.3939\n",
      "Epoch 21/150\n",
      "\u001b[1m33/33\u001b[0m \u001b[32m━━━━━━━━━━━━━━━━━━━━\u001b[0m\u001b[37m\u001b[0m \u001b[1m0s\u001b[0m 2ms/step - accuracy: 0.1576 - loss: -35.9727 - val_accuracy: 0.1444 - val_loss: -32.1089\n",
      "Epoch 22/150\n",
      "\u001b[1m33/33\u001b[0m \u001b[32m━━━━━━━━━━━━━━━━━━━━\u001b[0m\u001b[37m\u001b[0m \u001b[1m0s\u001b[0m 2ms/step - accuracy: 0.1715 - loss: -37.1842 - val_accuracy: 0.1556 - val_loss: -31.8112\n",
      "Epoch 23/150\n",
      "\u001b[1m33/33\u001b[0m \u001b[32m━━━━━━━━━━━━━━━━━━━━\u001b[0m\u001b[37m\u001b[0m \u001b[1m0s\u001b[0m 2ms/step - accuracy: 0.1531 - loss: -37.5688 - val_accuracy: 0.1333 - val_loss: -32.1358\n",
      "Epoch 24/150\n",
      "\u001b[1m33/33\u001b[0m \u001b[32m━━━━━━━━━━━━━━━━━━━━\u001b[0m\u001b[37m\u001b[0m \u001b[1m0s\u001b[0m 2ms/step - accuracy: 0.1625 - loss: -35.9471 - val_accuracy: 0.1333 - val_loss: -32.3895\n",
      "Epoch 25/150\n",
      "\u001b[1m33/33\u001b[0m \u001b[32m━━━━━━━━━━━━━━━━━━━━\u001b[0m\u001b[37m\u001b[0m \u001b[1m0s\u001b[0m 2ms/step - accuracy: 0.1520 - loss: -37.2551 - val_accuracy: 0.1222 - val_loss: -32.4044\n",
      "Epoch 26/150\n",
      "\u001b[1m33/33\u001b[0m \u001b[32m━━━━━━━━━━━━━━━━━━━━\u001b[0m\u001b[37m\u001b[0m \u001b[1m0s\u001b[0m 2ms/step - accuracy: 0.1533 - loss: -39.2907 - val_accuracy: 0.1333 - val_loss: -32.4071\n",
      "Epoch 27/150\n",
      "\u001b[1m33/33\u001b[0m \u001b[32m━━━━━━━━━━━━━━━━━━━━\u001b[0m\u001b[37m\u001b[0m \u001b[1m0s\u001b[0m 2ms/step - accuracy: 0.1651 - loss: -35.4807 - val_accuracy: 0.1333 - val_loss: -32.4033\n",
      "Epoch 28/150\n",
      "\u001b[1m33/33\u001b[0m \u001b[32m━━━━━━━━━━━━━━━━━━━━\u001b[0m\u001b[37m\u001b[0m \u001b[1m0s\u001b[0m 2ms/step - accuracy: 0.1581 - loss: -38.1438 - val_accuracy: 0.1556 - val_loss: -32.1116\n",
      "Epoch 29/150\n",
      "\u001b[1m33/33\u001b[0m \u001b[32m━━━━━━━━━━━━━━━━━━━━\u001b[0m\u001b[37m\u001b[0m \u001b[1m0s\u001b[0m 2ms/step - accuracy: 0.1629 - loss: -37.3874 - val_accuracy: 0.1556 - val_loss: -32.0853\n",
      "Epoch 30/150\n",
      "\u001b[1m33/33\u001b[0m \u001b[32m━━━━━━━━━━━━━━━━━━━━\u001b[0m\u001b[37m\u001b[0m \u001b[1m0s\u001b[0m 2ms/step - accuracy: 0.1507 - loss: -39.6271 - val_accuracy: 0.1333 - val_loss: -32.1274\n",
      "Epoch 31/150\n",
      "\u001b[1m33/33\u001b[0m \u001b[32m━━━━━━━━━━━━━━━━━━━━\u001b[0m\u001b[37m\u001b[0m \u001b[1m0s\u001b[0m 2ms/step - accuracy: 0.1725 - loss: -37.0295 - val_accuracy: 0.1444 - val_loss: -32.4341\n",
      "Epoch 32/150\n",
      "\u001b[1m33/33\u001b[0m \u001b[32m━━━━━━━━━━━━━━━━━━━━\u001b[0m\u001b[37m\u001b[0m \u001b[1m0s\u001b[0m 2ms/step - accuracy: 0.1681 - loss: -36.6600 - val_accuracy: 0.1556 - val_loss: -32.1509\n",
      "Epoch 33/150\n",
      "\u001b[1m33/33\u001b[0m \u001b[32m━━━━━━━━━━━━━━━━━━━━\u001b[0m\u001b[37m\u001b[0m \u001b[1m0s\u001b[0m 2ms/step - accuracy: 0.1635 - loss: -37.9530 - val_accuracy: 0.1556 - val_loss: -32.4660\n",
      "Epoch 34/150\n",
      "\u001b[1m33/33\u001b[0m \u001b[32m━━━━━━━━━━━━━━━━━━━━\u001b[0m\u001b[37m\u001b[0m \u001b[1m0s\u001b[0m 2ms/step - accuracy: 0.1613 - loss: -36.6396 - val_accuracy: 0.1556 - val_loss: -32.2263\n",
      "Epoch 35/150\n",
      "\u001b[1m33/33\u001b[0m \u001b[32m━━━━━━━━━━━━━━━━━━━━\u001b[0m\u001b[37m\u001b[0m \u001b[1m0s\u001b[0m 2ms/step - accuracy: 0.1634 - loss: -38.1103 - val_accuracy: 0.1556 - val_loss: -32.1698\n",
      "Epoch 36/150\n",
      "\u001b[1m33/33\u001b[0m \u001b[32m━━━━━━━━━━━━━━━━━━━━\u001b[0m\u001b[37m\u001b[0m \u001b[1m0s\u001b[0m 2ms/step - accuracy: 0.1521 - loss: -38.4451 - val_accuracy: 0.1444 - val_loss: -32.4726\n",
      "Epoch 37/150\n",
      "\u001b[1m33/33\u001b[0m \u001b[32m━━━━━━━━━━━━━━━━━━━━\u001b[0m\u001b[37m\u001b[0m \u001b[1m0s\u001b[0m 2ms/step - accuracy: 0.1569 - loss: -38.6900 - val_accuracy: 0.1556 - val_loss: -32.1232\n",
      "Epoch 38/150\n",
      "\u001b[1m33/33\u001b[0m \u001b[32m━━━━━━━━━━━━━━━━━━━━\u001b[0m\u001b[37m\u001b[0m \u001b[1m0s\u001b[0m 2ms/step - accuracy: 0.1535 - loss: -38.0241 - val_accuracy: 0.1556 - val_loss: -32.0878\n",
      "Epoch 39/150\n",
      "\u001b[1m33/33\u001b[0m \u001b[32m━━━━━━━━━━━━━━━━━━━━\u001b[0m\u001b[37m\u001b[0m \u001b[1m0s\u001b[0m 2ms/step - accuracy: 0.1764 - loss: -37.0209 - val_accuracy: 0.1556 - val_loss: -32.0974\n",
      "Epoch 40/150\n",
      "\u001b[1m33/33\u001b[0m \u001b[32m━━━━━━━━━━━━━━━━━━━━\u001b[0m\u001b[37m\u001b[0m \u001b[1m0s\u001b[0m 2ms/step - accuracy: 0.1568 - loss: -36.9098 - val_accuracy: 0.1556 - val_loss: -32.0852\n",
      "Epoch 41/150\n",
      "\u001b[1m33/33\u001b[0m \u001b[32m━━━━━━━━━━━━━━━━━━━━\u001b[0m\u001b[37m\u001b[0m \u001b[1m0s\u001b[0m 2ms/step - accuracy: 0.1684 - loss: -38.7440 - val_accuracy: 0.1556 - val_loss: -32.0853\n",
      "Epoch 42/150\n",
      "\u001b[1m33/33\u001b[0m \u001b[32m━━━━━━━━━━━━━━━━━━━━\u001b[0m\u001b[37m\u001b[0m \u001b[1m0s\u001b[0m 2ms/step - accuracy: 0.1717 - loss: -37.3339 - val_accuracy: 0.1556 - val_loss: -32.1219\n",
      "Epoch 43/150\n",
      "\u001b[1m33/33\u001b[0m \u001b[32m━━━━━━━━━━━━━━━━━━━━\u001b[0m\u001b[37m\u001b[0m \u001b[1m0s\u001b[0m 2ms/step - accuracy: 0.1691 - loss: -37.5949 - val_accuracy: 0.1556 - val_loss: -32.0857\n",
      "Epoch 44/150\n",
      "\u001b[1m33/33\u001b[0m \u001b[32m━━━━━━━━━━━━━━━━━━━━\u001b[0m\u001b[37m\u001b[0m \u001b[1m0s\u001b[0m 2ms/step - accuracy: 0.1640 - loss: -38.6465 - val_accuracy: 0.1556 - val_loss: -32.7573\n",
      "Epoch 45/150\n",
      "\u001b[1m33/33\u001b[0m \u001b[32m━━━━━━━━━━━━━━━━━━━━\u001b[0m\u001b[37m\u001b[0m \u001b[1m0s\u001b[0m 2ms/step - accuracy: 0.1675 - loss: -37.6096 - val_accuracy: 0.1556 - val_loss: -32.7538\n",
      "Epoch 46/150\n",
      "\u001b[1m33/33\u001b[0m \u001b[32m━━━━━━━━━━━━━━━━━━━━\u001b[0m\u001b[37m\u001b[0m \u001b[1m0s\u001b[0m 2ms/step - accuracy: 0.1565 - loss: -37.5014 - val_accuracy: 0.1444 - val_loss: -32.7497\n",
      "Epoch 47/150\n",
      "\u001b[1m33/33\u001b[0m \u001b[32m━━━━━━━━━━━━━━━━━━━━\u001b[0m\u001b[37m\u001b[0m \u001b[1m0s\u001b[0m 2ms/step - accuracy: 0.1652 - loss: -37.1138 - val_accuracy: 0.1556 - val_loss: -32.1697\n",
      "Epoch 48/150\n",
      "\u001b[1m33/33\u001b[0m \u001b[32m━━━━━━━━━━━━━━━━━━━━\u001b[0m\u001b[37m\u001b[0m \u001b[1m0s\u001b[0m 2ms/step - accuracy: 0.1792 - loss: -36.7283 - val_accuracy: 0.1556 - val_loss: -32.1548\n",
      "Epoch 49/150\n",
      "\u001b[1m33/33\u001b[0m \u001b[32m━━━━━━━━━━━━━━━━━━━━\u001b[0m\u001b[37m\u001b[0m \u001b[1m0s\u001b[0m 2ms/step - accuracy: 0.1776 - loss: -37.8687 - val_accuracy: 0.1556 - val_loss: -32.1591\n",
      "Epoch 50/150\n",
      "\u001b[1m33/33\u001b[0m \u001b[32m━━━━━━━━━━━━━━━━━━━━\u001b[0m\u001b[37m\u001b[0m \u001b[1m0s\u001b[0m 2ms/step - accuracy: 0.1716 - loss: -38.3562 - val_accuracy: 0.1556 - val_loss: -32.0851\n",
      "Epoch 51/150\n",
      "\u001b[1m33/33\u001b[0m \u001b[32m━━━━━━━━━━━━━━━━━━━━\u001b[0m\u001b[37m\u001b[0m \u001b[1m0s\u001b[0m 2ms/step - accuracy: 0.1758 - loss: -37.0863 - val_accuracy: 0.1556 - val_loss: -32.1596\n",
      "Epoch 52/150\n",
      "\u001b[1m33/33\u001b[0m \u001b[32m━━━━━━━━━━━━━━━━━━━━\u001b[0m\u001b[37m\u001b[0m \u001b[1m0s\u001b[0m 2ms/step - accuracy: 0.1734 - loss: -37.0437 - val_accuracy: 0.1556 - val_loss: -32.1196\n",
      "Epoch 53/150\n",
      "\u001b[1m33/33\u001b[0m \u001b[32m━━━━━━━━━━━━━━━━━━━━\u001b[0m\u001b[37m\u001b[0m \u001b[1m0s\u001b[0m 2ms/step - accuracy: 0.1794 - loss: -39.4872 - val_accuracy: 0.1556 - val_loss: -32.1352\n",
      "Epoch 54/150\n",
      "\u001b[1m33/33\u001b[0m \u001b[32m━━━━━━━━━━━━━━━━━━━━\u001b[0m\u001b[37m\u001b[0m \u001b[1m0s\u001b[0m 2ms/step - accuracy: 0.1697 - loss: -37.8989 - val_accuracy: 0.1556 - val_loss: -32.1003\n",
      "Epoch 55/150\n",
      "\u001b[1m33/33\u001b[0m \u001b[32m━━━━━━━━━━━━━━━━━━━━\u001b[0m\u001b[37m\u001b[0m \u001b[1m0s\u001b[0m 2ms/step - accuracy: 0.1643 - loss: -37.6912 - val_accuracy: 0.1556 - val_loss: -32.0924\n",
      "Epoch 56/150\n",
      "\u001b[1m33/33\u001b[0m \u001b[32m━━━━━━━━━━━━━━━━━━━━\u001b[0m\u001b[37m\u001b[0m \u001b[1m0s\u001b[0m 2ms/step - accuracy: 0.1845 - loss: -38.8667 - val_accuracy: 0.1556 - val_loss: -32.0783\n",
      "Epoch 57/150\n",
      "\u001b[1m33/33\u001b[0m \u001b[32m━━━━━━━━━━━━━━━━━━━━\u001b[0m\u001b[37m\u001b[0m \u001b[1m0s\u001b[0m 2ms/step - accuracy: 0.1703 - loss: -38.8215 - val_accuracy: 0.1556 - val_loss: -32.0618\n",
      "Epoch 58/150\n",
      "\u001b[1m33/33\u001b[0m \u001b[32m━━━━━━━━━━━━━━━━━━━━\u001b[0m\u001b[37m\u001b[0m \u001b[1m0s\u001b[0m 2ms/step - accuracy: 0.1744 - loss: -38.2285 - val_accuracy: 0.1556 - val_loss: -32.1095\n",
      "Epoch 59/150\n",
      "\u001b[1m33/33\u001b[0m \u001b[32m━━━━━━━━━━━━━━━━━━━━\u001b[0m\u001b[37m\u001b[0m \u001b[1m0s\u001b[0m 2ms/step - accuracy: 0.1763 - loss: -37.8932 - val_accuracy: 0.1556 - val_loss: -32.1305\n",
      "Epoch 60/150\n",
      "\u001b[1m33/33\u001b[0m \u001b[32m━━━━━━━━━━━━━━━━━━━━\u001b[0m\u001b[37m\u001b[0m \u001b[1m0s\u001b[0m 2ms/step - accuracy: 0.1989 - loss: -36.4471 - val_accuracy: 0.1556 - val_loss: -32.1344\n",
      "Epoch 61/150\n",
      "\u001b[1m33/33\u001b[0m \u001b[32m━━━━━━━━━━━━━━━━━━━━\u001b[0m\u001b[37m\u001b[0m \u001b[1m0s\u001b[0m 2ms/step - accuracy: 0.1824 - loss: -36.6384 - val_accuracy: 0.1556 - val_loss: -32.0611\n",
      "Epoch 62/150\n",
      "\u001b[1m33/33\u001b[0m \u001b[32m━━━━━━━━━━━━━━━━━━━━\u001b[0m\u001b[37m\u001b[0m \u001b[1m0s\u001b[0m 2ms/step - accuracy: 0.1874 - loss: -36.8648 - val_accuracy: 0.1556 - val_loss: -32.0632\n",
      "Epoch 63/150\n",
      "\u001b[1m33/33\u001b[0m \u001b[32m━━━━━━━━━━━━━━━━━━━━\u001b[0m\u001b[37m\u001b[0m \u001b[1m0s\u001b[0m 3ms/step - accuracy: 0.1851 - loss: -37.2030 - val_accuracy: 0.1556 - val_loss: -32.1055\n",
      "Epoch 64/150\n",
      "\u001b[1m33/33\u001b[0m \u001b[32m━━━━━━━━━━━━━━━━━━━━\u001b[0m\u001b[37m\u001b[0m \u001b[1m0s\u001b[0m 2ms/step - accuracy: 0.1737 - loss: -36.6572 - val_accuracy: 0.1556 - val_loss: -32.2394\n",
      "Epoch 65/150\n",
      "\u001b[1m33/33\u001b[0m \u001b[32m━━━━━━━━━━━━━━━━━━━━\u001b[0m\u001b[37m\u001b[0m \u001b[1m0s\u001b[0m 2ms/step - accuracy: 0.1822 - loss: -36.3856 - val_accuracy: 0.1556 - val_loss: -32.1525\n",
      "Epoch 66/150\n",
      "\u001b[1m33/33\u001b[0m \u001b[32m━━━━━━━━━━━━━━━━━━━━\u001b[0m\u001b[37m\u001b[0m \u001b[1m0s\u001b[0m 3ms/step - accuracy: 0.1637 - loss: -36.6098 - val_accuracy: 0.1556 - val_loss: -32.4960\n",
      "Epoch 67/150\n",
      "\u001b[1m33/33\u001b[0m \u001b[32m━━━━━━━━━━━━━━━━━━━━\u001b[0m\u001b[37m\u001b[0m \u001b[1m0s\u001b[0m 3ms/step - accuracy: 0.1664 - loss: -38.4878 - val_accuracy: 0.1556 - val_loss: -31.5887\n",
      "Epoch 68/150\n",
      "\u001b[1m33/33\u001b[0m \u001b[32m━━━━━━━━━━━━━━━━━━━━\u001b[0m\u001b[37m\u001b[0m \u001b[1m0s\u001b[0m 3ms/step - accuracy: 0.2098 - loss: -35.9174 - val_accuracy: 0.1556 - val_loss: -32.1606\n",
      "Epoch 69/150\n",
      "\u001b[1m33/33\u001b[0m \u001b[32m━━━━━━━━━━━━━━━━━━━━\u001b[0m\u001b[37m\u001b[0m \u001b[1m0s\u001b[0m 2ms/step - accuracy: 0.1809 - loss: -37.6231 - val_accuracy: 0.1556 - val_loss: -32.1349\n",
      "Epoch 70/150\n",
      "\u001b[1m33/33\u001b[0m \u001b[32m━━━━━━━━━━━━━━━━━━━━\u001b[0m\u001b[37m\u001b[0m \u001b[1m0s\u001b[0m 2ms/step - accuracy: 0.1900 - loss: -37.3559 - val_accuracy: 0.1556 - val_loss: -32.1970\n",
      "Epoch 71/150\n",
      "\u001b[1m33/33\u001b[0m \u001b[32m━━━━━━━━━━━━━━━━━━━━\u001b[0m\u001b[37m\u001b[0m \u001b[1m0s\u001b[0m 3ms/step - accuracy: 0.1807 - loss: -36.9772 - val_accuracy: 0.1556 - val_loss: -32.1395\n",
      "Epoch 72/150\n",
      "\u001b[1m33/33\u001b[0m \u001b[32m━━━━━━━━━━━━━━━━━━━━\u001b[0m\u001b[37m\u001b[0m \u001b[1m0s\u001b[0m 2ms/step - accuracy: 0.1807 - loss: -37.2478 - val_accuracy: 0.1556 - val_loss: -32.7666\n",
      "Epoch 73/150\n",
      "\u001b[1m33/33\u001b[0m \u001b[32m━━━━━━━━━━━━━━━━━━━━\u001b[0m\u001b[37m\u001b[0m \u001b[1m0s\u001b[0m 3ms/step - accuracy: 0.1693 - loss: -37.6529 - val_accuracy: 0.1556 - val_loss: -32.1189\n",
      "Epoch 74/150\n",
      "\u001b[1m33/33\u001b[0m \u001b[32m━━━━━━━━━━━━━━━━━━━━\u001b[0m\u001b[37m\u001b[0m \u001b[1m0s\u001b[0m 2ms/step - accuracy: 0.1607 - loss: -39.9255 - val_accuracy: 0.1556 - val_loss: -32.1222\n",
      "Epoch 75/150\n",
      "\u001b[1m33/33\u001b[0m \u001b[32m━━━━━━━━━━━━━━━━━━━━\u001b[0m\u001b[37m\u001b[0m \u001b[1m0s\u001b[0m 3ms/step - accuracy: 0.1836 - loss: -37.2892 - val_accuracy: 0.1556 - val_loss: -32.1356\n",
      "Epoch 76/150\n",
      "\u001b[1m33/33\u001b[0m \u001b[32m━━━━━━━━━━━━━━━━━━━━\u001b[0m\u001b[37m\u001b[0m \u001b[1m0s\u001b[0m 2ms/step - accuracy: 0.1969 - loss: -35.8291 - val_accuracy: 0.1556 - val_loss: -32.7669\n",
      "Epoch 77/150\n",
      "\u001b[1m33/33\u001b[0m \u001b[32m━━━━━━━━━━━━━━━━━━━━\u001b[0m\u001b[37m\u001b[0m \u001b[1m0s\u001b[0m 2ms/step - accuracy: 0.1673 - loss: -37.9443 - val_accuracy: 0.1556 - val_loss: -32.7684\n",
      "Epoch 78/150\n",
      "\u001b[1m33/33\u001b[0m \u001b[32m━━━━━━━━━━━━━━━━━━━━\u001b[0m\u001b[37m\u001b[0m \u001b[1m0s\u001b[0m 2ms/step - accuracy: 0.1702 - loss: -38.9936 - val_accuracy: 0.1556 - val_loss: -31.6176\n",
      "Epoch 79/150\n",
      "\u001b[1m33/33\u001b[0m \u001b[32m━━━━━━━━━━━━━━━━━━━━\u001b[0m\u001b[37m\u001b[0m \u001b[1m0s\u001b[0m 2ms/step - accuracy: 0.2116 - loss: -35.6896 - val_accuracy: 0.1556 - val_loss: -32.1312\n",
      "Epoch 80/150\n",
      "\u001b[1m33/33\u001b[0m \u001b[32m━━━━━━━━━━━━━━━━━━━━\u001b[0m\u001b[37m\u001b[0m \u001b[1m0s\u001b[0m 2ms/step - accuracy: 0.1783 - loss: -37.4913 - val_accuracy: 0.1556 - val_loss: -32.1763\n",
      "Epoch 81/150\n",
      "\u001b[1m33/33\u001b[0m \u001b[32m━━━━━━━━━━━━━━━━━━━━\u001b[0m\u001b[37m\u001b[0m \u001b[1m0s\u001b[0m 2ms/step - accuracy: 0.1575 - loss: -39.3579 - val_accuracy: 0.1556 - val_loss: -32.0804\n",
      "Epoch 82/150\n",
      "\u001b[1m33/33\u001b[0m \u001b[32m━━━━━━━━━━━━━━━━━━━━\u001b[0m\u001b[37m\u001b[0m \u001b[1m0s\u001b[0m 2ms/step - accuracy: 0.1796 - loss: -37.0721 - val_accuracy: 0.1556 - val_loss: -32.0989\n",
      "Epoch 83/150\n",
      "\u001b[1m33/33\u001b[0m \u001b[32m━━━━━━━━━━━━━━━━━━━━\u001b[0m\u001b[37m\u001b[0m \u001b[1m0s\u001b[0m 2ms/step - accuracy: 0.1902 - loss: -37.2103 - val_accuracy: 0.1556 - val_loss: -32.1274\n",
      "Epoch 84/150\n",
      "\u001b[1m33/33\u001b[0m \u001b[32m━━━━━━━━━━━━━━━━━━━━\u001b[0m\u001b[37m\u001b[0m \u001b[1m0s\u001b[0m 2ms/step - accuracy: 0.1776 - loss: -37.0684 - val_accuracy: 0.1556 - val_loss: -32.1531\n",
      "Epoch 85/150\n",
      "\u001b[1m33/33\u001b[0m \u001b[32m━━━━━━━━━━━━━━━━━━━━\u001b[0m\u001b[37m\u001b[0m \u001b[1m0s\u001b[0m 2ms/step - accuracy: 0.1831 - loss: -37.7654 - val_accuracy: 0.1556 - val_loss: -32.1315\n",
      "Epoch 86/150\n",
      "\u001b[1m33/33\u001b[0m \u001b[32m━━━━━━━━━━━━━━━━━━━━\u001b[0m\u001b[37m\u001b[0m \u001b[1m0s\u001b[0m 2ms/step - accuracy: 0.1743 - loss: -38.2847 - val_accuracy: 0.1556 - val_loss: -32.0977\n",
      "Epoch 87/150\n",
      "\u001b[1m33/33\u001b[0m \u001b[32m━━━━━━━━━━━━━━━━━━━━\u001b[0m\u001b[37m\u001b[0m \u001b[1m0s\u001b[0m 2ms/step - accuracy: 0.1861 - loss: -37.2833 - val_accuracy: 0.1556 - val_loss: -32.2318\n",
      "Epoch 88/150\n",
      "\u001b[1m33/33\u001b[0m \u001b[32m━━━━━━━━━━━━━━━━━━━━\u001b[0m\u001b[37m\u001b[0m \u001b[1m0s\u001b[0m 2ms/step - accuracy: 0.1686 - loss: -38.3227 - val_accuracy: 0.1556 - val_loss: -32.1287\n",
      "Epoch 89/150\n",
      "\u001b[1m33/33\u001b[0m \u001b[32m━━━━━━━━━━━━━━━━━━━━\u001b[0m\u001b[37m\u001b[0m \u001b[1m0s\u001b[0m 2ms/step - accuracy: 0.1796 - loss: -37.8746 - val_accuracy: 0.1556 - val_loss: -32.0738\n",
      "Epoch 90/150\n",
      "\u001b[1m33/33\u001b[0m \u001b[32m━━━━━━━━━━━━━━━━━━━━\u001b[0m\u001b[37m\u001b[0m \u001b[1m0s\u001b[0m 2ms/step - accuracy: 0.1656 - loss: -38.7891 - val_accuracy: 0.1556 - val_loss: -32.1093\n",
      "Epoch 91/150\n",
      "\u001b[1m33/33\u001b[0m \u001b[32m━━━━━━━━━━━━━━━━━━━━\u001b[0m\u001b[37m\u001b[0m \u001b[1m0s\u001b[0m 2ms/step - accuracy: 0.1915 - loss: -36.7299 - val_accuracy: 0.1556 - val_loss: -32.4409\n",
      "Epoch 92/150\n",
      "\u001b[1m33/33\u001b[0m \u001b[32m━━━━━━━━━━━━━━━━━━━━\u001b[0m\u001b[37m\u001b[0m \u001b[1m0s\u001b[0m 2ms/step - accuracy: 0.1728 - loss: -36.8233 - val_accuracy: 0.1556 - val_loss: -32.1463\n",
      "Epoch 93/150\n",
      "\u001b[1m33/33\u001b[0m \u001b[32m━━━━━━━━━━━━━━━━━━━━\u001b[0m\u001b[37m\u001b[0m \u001b[1m0s\u001b[0m 2ms/step - accuracy: 0.1603 - loss: -37.7346 - val_accuracy: 0.1556 - val_loss: -32.1056\n",
      "Epoch 94/150\n",
      "\u001b[1m33/33\u001b[0m \u001b[32m━━━━━━━━━━━━━━━━━━━━\u001b[0m\u001b[37m\u001b[0m \u001b[1m0s\u001b[0m 2ms/step - accuracy: 0.2020 - loss: -36.7365 - val_accuracy: 0.1556 - val_loss: -31.7984\n",
      "Epoch 95/150\n",
      "\u001b[1m33/33\u001b[0m \u001b[32m━━━━━━━━━━━━━━━━━━━━\u001b[0m\u001b[37m\u001b[0m \u001b[1m0s\u001b[0m 2ms/step - accuracy: 0.1858 - loss: -38.4281 - val_accuracy: 0.1556 - val_loss: -32.1186\n",
      "Epoch 96/150\n",
      "\u001b[1m33/33\u001b[0m \u001b[32m━━━━━━━━━━━━━━━━━━━━\u001b[0m\u001b[37m\u001b[0m \u001b[1m0s\u001b[0m 2ms/step - accuracy: 0.1706 - loss: -37.7740 - val_accuracy: 0.1556 - val_loss: -32.7696\n",
      "Epoch 97/150\n",
      "\u001b[1m33/33\u001b[0m \u001b[32m━━━━━━━━━━━━━━━━━━━━\u001b[0m\u001b[37m\u001b[0m \u001b[1m0s\u001b[0m 3ms/step - accuracy: 0.2031 - loss: -36.5942 - val_accuracy: 0.1556 - val_loss: -32.1223\n",
      "Epoch 98/150\n",
      "\u001b[1m33/33\u001b[0m \u001b[32m━━━━━━━━━━━━━━━━━━━━\u001b[0m\u001b[37m\u001b[0m \u001b[1m0s\u001b[0m 2ms/step - accuracy: 0.1938 - loss: -37.1115 - val_accuracy: 0.1556 - val_loss: -32.0878\n",
      "Epoch 99/150\n",
      "\u001b[1m33/33\u001b[0m \u001b[32m━━━━━━━━━━━━━━━━━━━━\u001b[0m\u001b[37m\u001b[0m \u001b[1m0s\u001b[0m 2ms/step - accuracy: 0.1850 - loss: -38.0488 - val_accuracy: 0.1556 - val_loss: -31.6026\n",
      "Epoch 100/150\n",
      "\u001b[1m33/33\u001b[0m \u001b[32m━━━━━━━━━━━━━━━━━━━━\u001b[0m\u001b[37m\u001b[0m \u001b[1m0s\u001b[0m 2ms/step - accuracy: 0.1970 - loss: -36.9995 - val_accuracy: 0.1556 - val_loss: -32.4565\n",
      "Epoch 101/150\n",
      "\u001b[1m33/33\u001b[0m \u001b[32m━━━━━━━━━━━━━━━━━━━━\u001b[0m\u001b[37m\u001b[0m \u001b[1m0s\u001b[0m 2ms/step - accuracy: 0.1779 - loss: -39.0847 - val_accuracy: 0.1556 - val_loss: -32.1331\n",
      "Epoch 102/150\n",
      "\u001b[1m33/33\u001b[0m \u001b[32m━━━━━━━━━━━━━━━━━━━━\u001b[0m\u001b[37m\u001b[0m \u001b[1m0s\u001b[0m 2ms/step - accuracy: 0.1812 - loss: -37.0532 - val_accuracy: 0.1556 - val_loss: -32.0675\n",
      "Epoch 103/150\n",
      "\u001b[1m33/33\u001b[0m \u001b[32m━━━━━━━━━━━━━━━━━━━━\u001b[0m\u001b[37m\u001b[0m \u001b[1m0s\u001b[0m 2ms/step - accuracy: 0.1819 - loss: -37.8926 - val_accuracy: 0.1556 - val_loss: -32.0497\n",
      "Epoch 104/150\n",
      "\u001b[1m33/33\u001b[0m \u001b[32m━━━━━━━━━━━━━━━━━━━━\u001b[0m\u001b[37m\u001b[0m \u001b[1m0s\u001b[0m 2ms/step - accuracy: 0.1779 - loss: -37.6023 - val_accuracy: 0.1556 - val_loss: -32.0826\n",
      "Epoch 105/150\n",
      "\u001b[1m33/33\u001b[0m \u001b[32m━━━━━━━━━━━━━━━━━━━━\u001b[0m\u001b[37m\u001b[0m \u001b[1m0s\u001b[0m 2ms/step - accuracy: 0.1952 - loss: -37.9402 - val_accuracy: 0.1556 - val_loss: -32.0775\n",
      "Epoch 106/150\n",
      "\u001b[1m33/33\u001b[0m \u001b[32m━━━━━━━━━━━━━━━━━━━━\u001b[0m\u001b[37m\u001b[0m \u001b[1m0s\u001b[0m 2ms/step - accuracy: 0.1704 - loss: -38.0979 - val_accuracy: 0.1556 - val_loss: -32.0835\n",
      "Epoch 107/150\n",
      "\u001b[1m33/33\u001b[0m \u001b[32m━━━━━━━━━━━━━━━━━━━━\u001b[0m\u001b[37m\u001b[0m \u001b[1m0s\u001b[0m 2ms/step - accuracy: 0.1736 - loss: -37.6122 - val_accuracy: 0.1556 - val_loss: -32.1782\n",
      "Epoch 108/150\n",
      "\u001b[1m33/33\u001b[0m \u001b[32m━━━━━━━━━━━━━━━━━━━━\u001b[0m\u001b[37m\u001b[0m \u001b[1m0s\u001b[0m 2ms/step - accuracy: 0.1809 - loss: -37.3887 - val_accuracy: 0.1556 - val_loss: -32.0965\n",
      "Epoch 109/150\n",
      "\u001b[1m33/33\u001b[0m \u001b[32m━━━━━━━━━━━━━━━━━━━━\u001b[0m\u001b[37m\u001b[0m \u001b[1m0s\u001b[0m 2ms/step - accuracy: 0.1685 - loss: -38.3586 - val_accuracy: 0.1556 - val_loss: -31.6623\n",
      "Epoch 110/150\n",
      "\u001b[1m33/33\u001b[0m \u001b[32m━━━━━━━━━━━━━━━━━━━━\u001b[0m\u001b[37m\u001b[0m \u001b[1m0s\u001b[0m 2ms/step - accuracy: 0.1986 - loss: -37.1899 - val_accuracy: 0.1556 - val_loss: -31.6130\n",
      "Epoch 111/150\n",
      "\u001b[1m33/33\u001b[0m \u001b[32m━━━━━━━━━━━━━━━━━━━━\u001b[0m\u001b[37m\u001b[0m \u001b[1m0s\u001b[0m 2ms/step - accuracy: 0.1668 - loss: -38.7290 - val_accuracy: 0.1556 - val_loss: -32.1169\n",
      "Epoch 112/150\n",
      "\u001b[1m33/33\u001b[0m \u001b[32m━━━━━━━━━━━━━━━━━━━━\u001b[0m\u001b[37m\u001b[0m \u001b[1m0s\u001b[0m 2ms/step - accuracy: 0.1935 - loss: -38.0603 - val_accuracy: 0.1556 - val_loss: -31.7070\n",
      "Epoch 113/150\n",
      "\u001b[1m33/33\u001b[0m \u001b[32m━━━━━━━━━━━━━━━━━━━━\u001b[0m\u001b[37m\u001b[0m \u001b[1m0s\u001b[0m 2ms/step - accuracy: 0.1728 - loss: -38.5848 - val_accuracy: 0.1556 - val_loss: -32.1053\n",
      "Epoch 114/150\n",
      "\u001b[1m33/33\u001b[0m \u001b[32m━━━━━━━━━━━━━━━━━━━━\u001b[0m\u001b[37m\u001b[0m \u001b[1m0s\u001b[0m 2ms/step - accuracy: 0.1927 - loss: -37.0967 - val_accuracy: 0.1556 - val_loss: -31.7549\n",
      "Epoch 115/150\n",
      "\u001b[1m33/33\u001b[0m \u001b[32m━━━━━━━━━━━━━━━━━━━━\u001b[0m\u001b[37m\u001b[0m \u001b[1m0s\u001b[0m 2ms/step - accuracy: 0.1806 - loss: -37.5987 - val_accuracy: 0.1556 - val_loss: -31.6898\n",
      "Epoch 116/150\n",
      "\u001b[1m33/33\u001b[0m \u001b[32m━━━━━━━━━━━━━━━━━━━━\u001b[0m\u001b[37m\u001b[0m \u001b[1m0s\u001b[0m 2ms/step - accuracy: 0.1765 - loss: -36.9029 - val_accuracy: 0.1556 - val_loss: -32.1273\n",
      "Epoch 117/150\n",
      "\u001b[1m33/33\u001b[0m \u001b[32m━━━━━━━━━━━━━━━━━━━━\u001b[0m\u001b[37m\u001b[0m \u001b[1m0s\u001b[0m 2ms/step - accuracy: 0.1782 - loss: -37.3782 - val_accuracy: 0.1556 - val_loss: -32.4395\n",
      "Epoch 118/150\n",
      "\u001b[1m33/33\u001b[0m \u001b[32m━━━━━━━━━━━━━━━━━━━━\u001b[0m\u001b[37m\u001b[0m \u001b[1m0s\u001b[0m 2ms/step - accuracy: 0.1737 - loss: -37.6927 - val_accuracy: 0.1556 - val_loss: -31.6002\n",
      "Epoch 119/150\n",
      "\u001b[1m33/33\u001b[0m \u001b[32m━━━━━━━━━━━━━━━━━━━━\u001b[0m\u001b[37m\u001b[0m \u001b[1m0s\u001b[0m 2ms/step - accuracy: 0.1751 - loss: -38.2379 - val_accuracy: 0.1556 - val_loss: -32.1315\n",
      "Epoch 120/150\n",
      "\u001b[1m33/33\u001b[0m \u001b[32m━━━━━━━━━━━━━━━━━━━━\u001b[0m\u001b[37m\u001b[0m \u001b[1m0s\u001b[0m 2ms/step - accuracy: 0.1798 - loss: -37.1294 - val_accuracy: 0.1556 - val_loss: -31.6275\n",
      "Epoch 121/150\n",
      "\u001b[1m33/33\u001b[0m \u001b[32m━━━━━━━━━━━━━━━━━━━━\u001b[0m\u001b[37m\u001b[0m \u001b[1m0s\u001b[0m 2ms/step - accuracy: 0.1923 - loss: -38.8968 - val_accuracy: 0.1556 - val_loss: -32.4843\n",
      "Epoch 122/150\n",
      "\u001b[1m33/33\u001b[0m \u001b[32m━━━━━━━━━━━━━━━━━━━━\u001b[0m\u001b[37m\u001b[0m \u001b[1m0s\u001b[0m 2ms/step - accuracy: 0.1871 - loss: -38.0819 - val_accuracy: 0.1556 - val_loss: -32.1233\n",
      "Epoch 123/150\n",
      "\u001b[1m33/33\u001b[0m \u001b[32m━━━━━━━━━━━━━━━━━━━━\u001b[0m\u001b[37m\u001b[0m \u001b[1m0s\u001b[0m 2ms/step - accuracy: 0.1913 - loss: -37.1963 - val_accuracy: 0.1556 - val_loss: -32.1400\n",
      "Epoch 124/150\n",
      "\u001b[1m33/33\u001b[0m \u001b[32m━━━━━━━━━━━━━━━━━━━━\u001b[0m\u001b[37m\u001b[0m \u001b[1m0s\u001b[0m 2ms/step - accuracy: 0.1867 - loss: -37.7111 - val_accuracy: 0.1556 - val_loss: -32.4577\n",
      "Epoch 125/150\n",
      "\u001b[1m33/33\u001b[0m \u001b[32m━━━━━━━━━━━━━━━━━━━━\u001b[0m\u001b[37m\u001b[0m \u001b[1m0s\u001b[0m 2ms/step - accuracy: 0.1833 - loss: -37.7695 - val_accuracy: 0.1556 - val_loss: -32.1627\n",
      "Epoch 126/150\n",
      "\u001b[1m33/33\u001b[0m \u001b[32m━━━━━━━━━━━━━━━━━━━━\u001b[0m\u001b[37m\u001b[0m \u001b[1m0s\u001b[0m 2ms/step - accuracy: 0.1706 - loss: -38.3569 - val_accuracy: 0.1556 - val_loss: -32.1210\n",
      "Epoch 127/150\n",
      "\u001b[1m33/33\u001b[0m \u001b[32m━━━━━━━━━━━━━━━━━━━━\u001b[0m\u001b[37m\u001b[0m \u001b[1m0s\u001b[0m 2ms/step - accuracy: 0.1619 - loss: -38.9943 - val_accuracy: 0.1556 - val_loss: -32.1300\n",
      "Epoch 128/150\n",
      "\u001b[1m33/33\u001b[0m \u001b[32m━━━━━━━━━━━━━━━━━━━━\u001b[0m\u001b[37m\u001b[0m \u001b[1m0s\u001b[0m 2ms/step - accuracy: 0.1783 - loss: -37.8200 - val_accuracy: 0.1556 - val_loss: -32.4475\n",
      "Epoch 129/150\n",
      "\u001b[1m33/33\u001b[0m \u001b[32m━━━━━━━━━━━━━━━━━━━━\u001b[0m\u001b[37m\u001b[0m \u001b[1m0s\u001b[0m 2ms/step - accuracy: 0.1881 - loss: -36.7137 - val_accuracy: 0.1556 - val_loss: -31.8130\n",
      "Epoch 130/150\n",
      "\u001b[1m33/33\u001b[0m \u001b[32m━━━━━━━━━━━━━━━━━━━━\u001b[0m\u001b[37m\u001b[0m \u001b[1m0s\u001b[0m 2ms/step - accuracy: 0.1784 - loss: -36.9972 - val_accuracy: 0.1556 - val_loss: -31.6862\n",
      "Epoch 131/150\n",
      "\u001b[1m33/33\u001b[0m \u001b[32m━━━━━━━━━━━━━━━━━━━━\u001b[0m\u001b[37m\u001b[0m \u001b[1m0s\u001b[0m 2ms/step - accuracy: 0.1749 - loss: -38.1189 - val_accuracy: 0.1556 - val_loss: -32.7705\n",
      "Epoch 132/150\n",
      "\u001b[1m33/33\u001b[0m \u001b[32m━━━━━━━━━━━━━━━━━━━━\u001b[0m\u001b[37m\u001b[0m \u001b[1m0s\u001b[0m 2ms/step - accuracy: 0.1814 - loss: -39.5825 - val_accuracy: 0.1556 - val_loss: -32.4935\n",
      "Epoch 133/150\n",
      "\u001b[1m33/33\u001b[0m \u001b[32m━━━━━━━━━━━━━━━━━━━━\u001b[0m\u001b[37m\u001b[0m \u001b[1m0s\u001b[0m 2ms/step - accuracy: 0.1626 - loss: -37.7647 - val_accuracy: 0.1556 - val_loss: -32.1194\n",
      "Epoch 134/150\n",
      "\u001b[1m33/33\u001b[0m \u001b[32m━━━━━━━━━━━━━━━━━━━━\u001b[0m\u001b[37m\u001b[0m \u001b[1m0s\u001b[0m 2ms/step - accuracy: 0.2003 - loss: -36.7279 - val_accuracy: 0.1556 - val_loss: -32.2284\n",
      "Epoch 135/150\n",
      "\u001b[1m33/33\u001b[0m \u001b[32m━━━━━━━━━━━━━━━━━━━━\u001b[0m\u001b[37m\u001b[0m \u001b[1m0s\u001b[0m 2ms/step - accuracy: 0.1958 - loss: -36.9289 - val_accuracy: 0.1556 - val_loss: -32.1888\n",
      "Epoch 136/150\n",
      "\u001b[1m33/33\u001b[0m \u001b[32m━━━━━━━━━━━━━━━━━━━━\u001b[0m\u001b[37m\u001b[0m \u001b[1m0s\u001b[0m 3ms/step - accuracy: 0.1692 - loss: -38.4002 - val_accuracy: 0.1556 - val_loss: -32.7705\n",
      "Epoch 137/150\n",
      "\u001b[1m33/33\u001b[0m \u001b[32m━━━━━━━━━━━━━━━━━━━━\u001b[0m\u001b[37m\u001b[0m \u001b[1m0s\u001b[0m 2ms/step - accuracy: 0.1927 - loss: -38.7435 - val_accuracy: 0.1556 - val_loss: -32.7705\n",
      "Epoch 138/150\n",
      "\u001b[1m33/33\u001b[0m \u001b[32m━━━━━━━━━━━━━━━━━━━━\u001b[0m\u001b[37m\u001b[0m \u001b[1m0s\u001b[0m 2ms/step - accuracy: 0.1679 - loss: -38.9189 - val_accuracy: 0.1556 - val_loss: -32.7705\n",
      "Epoch 139/150\n",
      "\u001b[1m33/33\u001b[0m \u001b[32m━━━━━━━━━━━━━━━━━━━━\u001b[0m\u001b[37m\u001b[0m \u001b[1m0s\u001b[0m 2ms/step - accuracy: 0.1683 - loss: -38.9284 - val_accuracy: 0.1556 - val_loss: -32.1456\n",
      "Epoch 140/150\n",
      "\u001b[1m33/33\u001b[0m \u001b[32m━━━━━━━━━━━━━━━━━━━━\u001b[0m\u001b[37m\u001b[0m \u001b[1m0s\u001b[0m 2ms/step - accuracy: 0.1836 - loss: -37.7742 - val_accuracy: 0.1556 - val_loss: -32.1453\n",
      "Epoch 141/150\n",
      "\u001b[1m33/33\u001b[0m \u001b[32m━━━━━━━━━━━━━━━━━━━━\u001b[0m\u001b[37m\u001b[0m \u001b[1m0s\u001b[0m 2ms/step - accuracy: 0.1853 - loss: -37.9197 - val_accuracy: 0.1556 - val_loss: -32.1280\n",
      "Epoch 142/150\n",
      "\u001b[1m33/33\u001b[0m \u001b[32m━━━━━━━━━━━━━━━━━━━━\u001b[0m\u001b[37m\u001b[0m \u001b[1m0s\u001b[0m 2ms/step - accuracy: 0.1914 - loss: -38.3599 - val_accuracy: 0.1556 - val_loss: -32.1666\n",
      "Epoch 143/150\n",
      "\u001b[1m33/33\u001b[0m \u001b[32m━━━━━━━━━━━━━━━━━━━━\u001b[0m\u001b[37m\u001b[0m \u001b[1m0s\u001b[0m 2ms/step - accuracy: 0.1971 - loss: -38.8890 - val_accuracy: 0.1556 - val_loss: -32.4559\n",
      "Epoch 144/150\n",
      "\u001b[1m33/33\u001b[0m \u001b[32m━━━━━━━━━━━━━━━━━━━━\u001b[0m\u001b[37m\u001b[0m \u001b[1m0s\u001b[0m 2ms/step - accuracy: 0.1645 - loss: -38.6796 - val_accuracy: 0.1556 - val_loss: -32.1093\n",
      "Epoch 145/150\n",
      "\u001b[1m33/33\u001b[0m \u001b[32m━━━━━━━━━━━━━━━━━━━━\u001b[0m\u001b[37m\u001b[0m \u001b[1m0s\u001b[0m 2ms/step - accuracy: 0.1824 - loss: -37.9123 - val_accuracy: 0.1556 - val_loss: -32.4908\n",
      "Epoch 146/150\n",
      "\u001b[1m33/33\u001b[0m \u001b[32m━━━━━━━━━━━━━━━━━━━━\u001b[0m\u001b[37m\u001b[0m \u001b[1m0s\u001b[0m 2ms/step - accuracy: 0.1712 - loss: -38.8493 - val_accuracy: 0.1556 - val_loss: -32.1074\n",
      "Epoch 147/150\n",
      "\u001b[1m33/33\u001b[0m \u001b[32m━━━━━━━━━━━━━━━━━━━━\u001b[0m\u001b[37m\u001b[0m \u001b[1m0s\u001b[0m 2ms/step - accuracy: 0.1804 - loss: -37.3524 - val_accuracy: 0.1556 - val_loss: -32.2482\n",
      "Epoch 148/150\n",
      "\u001b[1m33/33\u001b[0m \u001b[32m━━━━━━━━━━━━━━━━━━━━\u001b[0m\u001b[37m\u001b[0m \u001b[1m0s\u001b[0m 2ms/step - accuracy: 0.1693 - loss: -37.5902 - val_accuracy: 0.1556 - val_loss: -32.7705\n",
      "Epoch 149/150\n",
      "\u001b[1m33/33\u001b[0m \u001b[32m━━━━━━━━━━━━━━━━━━━━\u001b[0m\u001b[37m\u001b[0m \u001b[1m0s\u001b[0m 2ms/step - accuracy: 0.1931 - loss: -38.4658 - val_accuracy: 0.1556 - val_loss: -32.1336\n",
      "Epoch 150/150\n",
      "\u001b[1m33/33\u001b[0m \u001b[32m━━━━━━━━━━━━━━━━━━━━\u001b[0m\u001b[37m\u001b[0m \u001b[1m0s\u001b[0m 2ms/step - accuracy: 0.1979 - loss: -37.3343 - val_accuracy: 0.1556 - val_loss: -32.1025\n"
     ]
    }
   ],
   "source": [
    "Training_progress_rms=ann_rms.fit(X_train,Y_train,batch_size=25, epochs =150, validation_data=(X_test, Y_test))"
   ]
  },
  {
   "cell_type": "code",
   "execution_count": 19,
   "id": "de814e57",
   "metadata": {
    "execution": {
     "iopub.execute_input": "2024-08-31T11:44:00.781075Z",
     "iopub.status.busy": "2024-08-31T11:44:00.780186Z",
     "iopub.status.idle": "2024-08-31T11:44:18.239087Z",
     "shell.execute_reply": "2024-08-31T11:44:18.238134Z"
    },
    "papermill": {
     "duration": 17.526489,
     "end_time": "2024-08-31T11:44:18.241178",
     "exception": false,
     "start_time": "2024-08-31T11:44:00.714689",
     "status": "completed"
    },
    "tags": []
   },
   "outputs": [
    {
     "name": "stdout",
     "output_type": "stream",
     "text": [
      "Epoch 1/150\n",
      "\u001b[1m33/33\u001b[0m \u001b[32m━━━━━━━━━━━━━━━━━━━━\u001b[0m\u001b[37m\u001b[0m \u001b[1m3s\u001b[0m 33ms/step - accuracy: 0.0918 - loss: -1.3134 - val_accuracy: 0.1111 - val_loss: -7.8429\n",
      "Epoch 2/150\n",
      "\u001b[1m33/33\u001b[0m \u001b[32m━━━━━━━━━━━━━━━━━━━━\u001b[0m\u001b[37m\u001b[0m \u001b[1m0s\u001b[0m 2ms/step - accuracy: 0.1148 - loss: -14.4902 - val_accuracy: 0.1111 - val_loss: -28.3455\n",
      "Epoch 3/150\n",
      "\u001b[1m33/33\u001b[0m \u001b[32m━━━━━━━━━━━━━━━━━━━━\u001b[0m\u001b[37m\u001b[0m \u001b[1m0s\u001b[0m 2ms/step - accuracy: 0.1239 - loss: -47.7387 - val_accuracy: 0.1111 - val_loss: -84.6022\n",
      "Epoch 4/150\n",
      "\u001b[1m33/33\u001b[0m \u001b[32m━━━━━━━━━━━━━━━━━━━━\u001b[0m\u001b[37m\u001b[0m \u001b[1m0s\u001b[0m 2ms/step - accuracy: 0.0879 - loss: -142.2149 - val_accuracy: 0.1111 - val_loss: -206.5365\n",
      "Epoch 5/150\n",
      "\u001b[1m33/33\u001b[0m \u001b[32m━━━━━━━━━━━━━━━━━━━━\u001b[0m\u001b[37m\u001b[0m \u001b[1m0s\u001b[0m 2ms/step - accuracy: 0.1103 - loss: -336.8266 - val_accuracy: 0.1111 - val_loss: -430.1547\n",
      "Epoch 6/150\n",
      "\u001b[1m33/33\u001b[0m \u001b[32m━━━━━━━━━━━━━━━━━━━━\u001b[0m\u001b[37m\u001b[0m \u001b[1m0s\u001b[0m 2ms/step - accuracy: 0.1107 - loss: -670.5120 - val_accuracy: 0.1111 - val_loss: -799.9454\n",
      "Epoch 7/150\n",
      "\u001b[1m33/33\u001b[0m \u001b[32m━━━━━━━━━━━━━━━━━━━━\u001b[0m\u001b[37m\u001b[0m \u001b[1m0s\u001b[0m 2ms/step - accuracy: 0.1024 - loss: -1241.7228 - val_accuracy: 0.1111 - val_loss: -1347.7382\n",
      "Epoch 8/150\n",
      "\u001b[1m33/33\u001b[0m \u001b[32m━━━━━━━━━━━━━━━━━━━━\u001b[0m\u001b[37m\u001b[0m \u001b[1m0s\u001b[0m 2ms/step - accuracy: 0.1047 - loss: -2125.1641 - val_accuracy: 0.1111 - val_loss: -2109.9663\n",
      "Epoch 9/150\n",
      "\u001b[1m33/33\u001b[0m \u001b[32m━━━━━━━━━━━━━━━━━━━━\u001b[0m\u001b[37m\u001b[0m \u001b[1m0s\u001b[0m 2ms/step - accuracy: 0.1200 - loss: -3262.4824 - val_accuracy: 0.1111 - val_loss: -3132.9155\n",
      "Epoch 10/150\n",
      "\u001b[1m33/33\u001b[0m \u001b[32m━━━━━━━━━━━━━━━━━━━━\u001b[0m\u001b[37m\u001b[0m \u001b[1m0s\u001b[0m 2ms/step - accuracy: 0.0943 - loss: -4798.4570 - val_accuracy: 0.1111 - val_loss: -4416.6704\n",
      "Epoch 11/150\n",
      "\u001b[1m33/33\u001b[0m \u001b[32m━━━━━━━━━━━━━━━━━━━━\u001b[0m\u001b[37m\u001b[0m \u001b[1m0s\u001b[0m 2ms/step - accuracy: 0.1049 - loss: -6356.6250 - val_accuracy: 0.1111 - val_loss: -6030.1050\n",
      "Epoch 12/150\n",
      "\u001b[1m33/33\u001b[0m \u001b[32m━━━━━━━━━━━━━━━━━━━━\u001b[0m\u001b[37m\u001b[0m \u001b[1m0s\u001b[0m 2ms/step - accuracy: 0.1028 - loss: -8625.0420 - val_accuracy: 0.1111 - val_loss: -7986.6353\n",
      "Epoch 13/150\n",
      "\u001b[1m33/33\u001b[0m \u001b[32m━━━━━━━━━━━━━━━━━━━━\u001b[0m\u001b[37m\u001b[0m \u001b[1m0s\u001b[0m 2ms/step - accuracy: 0.0981 - loss: -11401.7295 - val_accuracy: 0.1111 - val_loss: -10337.2227\n",
      "Epoch 14/150\n",
      "\u001b[1m33/33\u001b[0m \u001b[32m━━━━━━━━━━━━━━━━━━━━\u001b[0m\u001b[37m\u001b[0m \u001b[1m0s\u001b[0m 2ms/step - accuracy: 0.1282 - loss: -14883.6836 - val_accuracy: 0.1111 - val_loss: -13067.8760\n",
      "Epoch 15/150\n",
      "\u001b[1m33/33\u001b[0m \u001b[32m━━━━━━━━━━━━━━━━━━━━\u001b[0m\u001b[37m\u001b[0m \u001b[1m0s\u001b[0m 2ms/step - accuracy: 0.0935 - loss: -19438.0059 - val_accuracy: 0.1111 - val_loss: -16194.2168\n",
      "Epoch 16/150\n",
      "\u001b[1m33/33\u001b[0m \u001b[32m━━━━━━━━━━━━━━━━━━━━\u001b[0m\u001b[37m\u001b[0m \u001b[1m0s\u001b[0m 2ms/step - accuracy: 0.1205 - loss: -23315.8613 - val_accuracy: 0.1111 - val_loss: -19805.5840\n",
      "Epoch 17/150\n",
      "\u001b[1m33/33\u001b[0m \u001b[32m━━━━━━━━━━━━━━━━━━━━\u001b[0m\u001b[37m\u001b[0m \u001b[1m0s\u001b[0m 2ms/step - accuracy: 0.1283 - loss: -26817.9551 - val_accuracy: 0.1111 - val_loss: -23812.8398\n",
      "Epoch 18/150\n",
      "\u001b[1m33/33\u001b[0m \u001b[32m━━━━━━━━━━━━━━━━━━━━\u001b[0m\u001b[37m\u001b[0m \u001b[1m0s\u001b[0m 2ms/step - accuracy: 0.1155 - loss: -34025.4492 - val_accuracy: 0.1111 - val_loss: -28403.9941\n",
      "Epoch 19/150\n",
      "\u001b[1m33/33\u001b[0m \u001b[32m━━━━━━━━━━━━━━━━━━━━\u001b[0m\u001b[37m\u001b[0m \u001b[1m0s\u001b[0m 2ms/step - accuracy: 0.1139 - loss: -39553.9688 - val_accuracy: 0.1111 - val_loss: -33508.4375\n",
      "Epoch 20/150\n",
      "\u001b[1m33/33\u001b[0m \u001b[32m━━━━━━━━━━━━━━━━━━━━\u001b[0m\u001b[37m\u001b[0m \u001b[1m0s\u001b[0m 2ms/step - accuracy: 0.1180 - loss: -46504.6367 - val_accuracy: 0.1111 - val_loss: -39079.7539\n",
      "Epoch 21/150\n",
      "\u001b[1m33/33\u001b[0m \u001b[32m━━━━━━━━━━━━━━━━━━━━\u001b[0m\u001b[37m\u001b[0m \u001b[1m0s\u001b[0m 2ms/step - accuracy: 0.1013 - loss: -54504.8047 - val_accuracy: 0.1111 - val_loss: -45338.2422\n",
      "Epoch 22/150\n",
      "\u001b[1m33/33\u001b[0m \u001b[32m━━━━━━━━━━━━━━━━━━━━\u001b[0m\u001b[37m\u001b[0m \u001b[1m0s\u001b[0m 2ms/step - accuracy: 0.1024 - loss: -65093.9375 - val_accuracy: 0.1111 - val_loss: -52185.1992\n",
      "Epoch 23/150\n",
      "\u001b[1m33/33\u001b[0m \u001b[32m━━━━━━━━━━━━━━━━━━━━\u001b[0m\u001b[37m\u001b[0m \u001b[1m0s\u001b[0m 3ms/step - accuracy: 0.1059 - loss: -71354.0703 - val_accuracy: 0.1111 - val_loss: -59509.5156\n",
      "Epoch 24/150\n",
      "\u001b[1m33/33\u001b[0m \u001b[32m━━━━━━━━━━━━━━━━━━━━\u001b[0m\u001b[37m\u001b[0m \u001b[1m0s\u001b[0m 2ms/step - accuracy: 0.1070 - loss: -84847.7266 - val_accuracy: 0.1111 - val_loss: -67398.4766\n",
      "Epoch 25/150\n",
      "\u001b[1m33/33\u001b[0m \u001b[32m━━━━━━━━━━━━━━━━━━━━\u001b[0m\u001b[37m\u001b[0m \u001b[1m0s\u001b[0m 2ms/step - accuracy: 0.1073 - loss: -99806.9297 - val_accuracy: 0.1111 - val_loss: -76054.9688\n",
      "Epoch 26/150\n",
      "\u001b[1m33/33\u001b[0m \u001b[32m━━━━━━━━━━━━━━━━━━━━\u001b[0m\u001b[37m\u001b[0m \u001b[1m0s\u001b[0m 2ms/step - accuracy: 0.1045 - loss: -108840.3984 - val_accuracy: 0.1111 - val_loss: -85242.8516\n",
      "Epoch 27/150\n",
      "\u001b[1m33/33\u001b[0m \u001b[32m━━━━━━━━━━━━━━━━━━━━\u001b[0m\u001b[37m\u001b[0m \u001b[1m0s\u001b[0m 2ms/step - accuracy: 0.1065 - loss: -119522.5938 - val_accuracy: 0.1111 - val_loss: -95027.7891\n",
      "Epoch 28/150\n",
      "\u001b[1m33/33\u001b[0m \u001b[32m━━━━━━━━━━━━━━━━━━━━\u001b[0m\u001b[37m\u001b[0m \u001b[1m0s\u001b[0m 2ms/step - accuracy: 0.1129 - loss: -130091.0000 - val_accuracy: 0.1111 - val_loss: -105760.3125\n",
      "Epoch 29/150\n",
      "\u001b[1m33/33\u001b[0m \u001b[32m━━━━━━━━━━━━━━━━━━━━\u001b[0m\u001b[37m\u001b[0m \u001b[1m0s\u001b[0m 2ms/step - accuracy: 0.1272 - loss: -146027.9531 - val_accuracy: 0.1111 - val_loss: -117015.2578\n",
      "Epoch 30/150\n",
      "\u001b[1m33/33\u001b[0m \u001b[32m━━━━━━━━━━━━━━━━━━━━\u001b[0m\u001b[37m\u001b[0m \u001b[1m0s\u001b[0m 2ms/step - accuracy: 0.1096 - loss: -159083.6875 - val_accuracy: 0.1111 - val_loss: -129074.0703\n",
      "Epoch 31/150\n",
      "\u001b[1m33/33\u001b[0m \u001b[32m━━━━━━━━━━━━━━━━━━━━\u001b[0m\u001b[37m\u001b[0m \u001b[1m0s\u001b[0m 2ms/step - accuracy: 0.1094 - loss: -176764.2500 - val_accuracy: 0.1111 - val_loss: -141792.8281\n",
      "Epoch 32/150\n",
      "\u001b[1m33/33\u001b[0m \u001b[32m━━━━━━━━━━━━━━━━━━━━\u001b[0m\u001b[37m\u001b[0m \u001b[1m0s\u001b[0m 2ms/step - accuracy: 0.1120 - loss: -192053.6719 - val_accuracy: 0.1111 - val_loss: -155527.5781\n",
      "Epoch 33/150\n",
      "\u001b[1m33/33\u001b[0m \u001b[32m━━━━━━━━━━━━━━━━━━━━\u001b[0m\u001b[37m\u001b[0m \u001b[1m0s\u001b[0m 2ms/step - accuracy: 0.1029 - loss: -210498.4531 - val_accuracy: 0.1111 - val_loss: -169669.8750\n",
      "Epoch 34/150\n",
      "\u001b[1m33/33\u001b[0m \u001b[32m━━━━━━━━━━━━━━━━━━━━\u001b[0m\u001b[37m\u001b[0m \u001b[1m0s\u001b[0m 2ms/step - accuracy: 0.1004 - loss: -241577.3125 - val_accuracy: 0.1111 - val_loss: -184719.9062\n",
      "Epoch 35/150\n",
      "\u001b[1m33/33\u001b[0m \u001b[32m━━━━━━━━━━━━━━━━━━━━\u001b[0m\u001b[37m\u001b[0m \u001b[1m0s\u001b[0m 2ms/step - accuracy: 0.1082 - loss: -249679.1406 - val_accuracy: 0.1111 - val_loss: -200170.8438\n",
      "Epoch 36/150\n",
      "\u001b[1m33/33\u001b[0m \u001b[32m━━━━━━━━━━━━━━━━━━━━\u001b[0m\u001b[37m\u001b[0m \u001b[1m0s\u001b[0m 2ms/step - accuracy: 0.0972 - loss: -278578.5312 - val_accuracy: 0.1111 - val_loss: -216968.3750\n",
      "Epoch 37/150\n",
      "\u001b[1m33/33\u001b[0m \u001b[32m━━━━━━━━━━━━━━━━━━━━\u001b[0m\u001b[37m\u001b[0m \u001b[1m0s\u001b[0m 2ms/step - accuracy: 0.1017 - loss: -308425.0938 - val_accuracy: 0.1111 - val_loss: -234358.2188\n",
      "Epoch 38/150\n",
      "\u001b[1m33/33\u001b[0m \u001b[32m━━━━━━━━━━━━━━━━━━━━\u001b[0m\u001b[37m\u001b[0m \u001b[1m0s\u001b[0m 2ms/step - accuracy: 0.1009 - loss: -322566.2812 - val_accuracy: 0.1111 - val_loss: -252746.9531\n",
      "Epoch 39/150\n",
      "\u001b[1m33/33\u001b[0m \u001b[32m━━━━━━━━━━━━━━━━━━━━\u001b[0m\u001b[37m\u001b[0m \u001b[1m0s\u001b[0m 2ms/step - accuracy: 0.1025 - loss: -376919.2500 - val_accuracy: 0.1111 - val_loss: -271813.6250\n",
      "Epoch 40/150\n",
      "\u001b[1m33/33\u001b[0m \u001b[32m━━━━━━━━━━━━━━━━━━━━\u001b[0m\u001b[37m\u001b[0m \u001b[1m0s\u001b[0m 2ms/step - accuracy: 0.1108 - loss: -357624.7500 - val_accuracy: 0.1111 - val_loss: -291438.0000\n",
      "Epoch 41/150\n",
      "\u001b[1m33/33\u001b[0m \u001b[32m━━━━━━━━━━━━━━━━━━━━\u001b[0m\u001b[37m\u001b[0m \u001b[1m0s\u001b[0m 2ms/step - accuracy: 0.1262 - loss: -391326.3750 - val_accuracy: 0.1111 - val_loss: -312376.9375\n",
      "Epoch 42/150\n",
      "\u001b[1m33/33\u001b[0m \u001b[32m━━━━━━━━━━━━━━━━━━━━\u001b[0m\u001b[37m\u001b[0m \u001b[1m0s\u001b[0m 2ms/step - accuracy: 0.0971 - loss: -443093.3750 - val_accuracy: 0.1111 - val_loss: -333744.0000\n",
      "Epoch 43/150\n",
      "\u001b[1m33/33\u001b[0m \u001b[32m━━━━━━━━━━━━━━━━━━━━\u001b[0m\u001b[37m\u001b[0m \u001b[1m0s\u001b[0m 2ms/step - accuracy: 0.1115 - loss: -436836.8125 - val_accuracy: 0.1111 - val_loss: -356082.4375\n",
      "Epoch 44/150\n",
      "\u001b[1m33/33\u001b[0m \u001b[32m━━━━━━━━━━━━━━━━━━━━\u001b[0m\u001b[37m\u001b[0m \u001b[1m0s\u001b[0m 2ms/step - accuracy: 0.1058 - loss: -528481.6250 - val_accuracy: 0.1111 - val_loss: -380194.9375\n",
      "Epoch 45/150\n",
      "\u001b[1m33/33\u001b[0m \u001b[32m━━━━━━━━━━━━━━━━━━━━\u001b[0m\u001b[37m\u001b[0m \u001b[1m0s\u001b[0m 2ms/step - accuracy: 0.1240 - loss: -517043.6562 - val_accuracy: 0.1111 - val_loss: -403964.7188\n",
      "Epoch 46/150\n",
      "\u001b[1m33/33\u001b[0m \u001b[32m━━━━━━━━━━━━━━━━━━━━\u001b[0m\u001b[37m\u001b[0m \u001b[1m0s\u001b[0m 2ms/step - accuracy: 0.1260 - loss: -566840.3750 - val_accuracy: 0.1111 - val_loss: -429292.1875\n",
      "Epoch 47/150\n",
      "\u001b[1m33/33\u001b[0m \u001b[32m━━━━━━━━━━━━━━━━━━━━\u001b[0m\u001b[37m\u001b[0m \u001b[1m0s\u001b[0m 2ms/step - accuracy: 0.1069 - loss: -557820.1250 - val_accuracy: 0.1111 - val_loss: -454941.3438\n",
      "Epoch 48/150\n",
      "\u001b[1m33/33\u001b[0m \u001b[32m━━━━━━━━━━━━━━━━━━━━\u001b[0m\u001b[37m\u001b[0m \u001b[1m0s\u001b[0m 2ms/step - accuracy: 0.1014 - loss: -604372.5625 - val_accuracy: 0.1111 - val_loss: -481772.9688\n",
      "Epoch 49/150\n",
      "\u001b[1m33/33\u001b[0m \u001b[32m━━━━━━━━━━━━━━━━━━━━\u001b[0m\u001b[37m\u001b[0m \u001b[1m0s\u001b[0m 2ms/step - accuracy: 0.0942 - loss: -687089.0625 - val_accuracy: 0.1111 - val_loss: -510391.7812\n",
      "Epoch 50/150\n",
      "\u001b[1m33/33\u001b[0m \u001b[32m━━━━━━━━━━━━━━━━━━━━\u001b[0m\u001b[37m\u001b[0m \u001b[1m0s\u001b[0m 2ms/step - accuracy: 0.1054 - loss: -732740.0625 - val_accuracy: 0.1111 - val_loss: -539518.7500\n",
      "Epoch 51/150\n",
      "\u001b[1m33/33\u001b[0m \u001b[32m━━━━━━━━━━━━━━━━━━━━\u001b[0m\u001b[37m\u001b[0m \u001b[1m0s\u001b[0m 2ms/step - accuracy: 0.1146 - loss: -732387.0000 - val_accuracy: 0.1111 - val_loss: -568696.1875\n",
      "Epoch 52/150\n",
      "\u001b[1m33/33\u001b[0m \u001b[32m━━━━━━━━━━━━━━━━━━━━\u001b[0m\u001b[37m\u001b[0m \u001b[1m0s\u001b[0m 2ms/step - accuracy: 0.1122 - loss: -805551.6250 - val_accuracy: 0.1111 - val_loss: -599606.9375\n",
      "Epoch 53/150\n",
      "\u001b[1m33/33\u001b[0m \u001b[32m━━━━━━━━━━━━━━━━━━━━\u001b[0m\u001b[37m\u001b[0m \u001b[1m0s\u001b[0m 2ms/step - accuracy: 0.0956 - loss: -889079.0000 - val_accuracy: 0.1111 - val_loss: -631626.5625\n",
      "Epoch 54/150\n",
      "\u001b[1m33/33\u001b[0m \u001b[32m━━━━━━━━━━━━━━━━━━━━\u001b[0m\u001b[37m\u001b[0m \u001b[1m0s\u001b[0m 2ms/step - accuracy: 0.1044 - loss: -871524.8125 - val_accuracy: 0.1111 - val_loss: -664068.9375\n",
      "Epoch 55/150\n",
      "\u001b[1m33/33\u001b[0m \u001b[32m━━━━━━━━━━━━━━━━━━━━\u001b[0m\u001b[37m\u001b[0m \u001b[1m0s\u001b[0m 3ms/step - accuracy: 0.1110 - loss: -905690.8750 - val_accuracy: 0.1111 - val_loss: -697669.4375\n",
      "Epoch 56/150\n",
      "\u001b[1m33/33\u001b[0m \u001b[32m━━━━━━━━━━━━━━━━━━━━\u001b[0m\u001b[37m\u001b[0m \u001b[1m0s\u001b[0m 3ms/step - accuracy: 0.1077 - loss: -1003356.8750 - val_accuracy: 0.1111 - val_loss: -732213.6875\n",
      "Epoch 57/150\n",
      "\u001b[1m33/33\u001b[0m \u001b[32m━━━━━━━━━━━━━━━━━━━━\u001b[0m\u001b[37m\u001b[0m \u001b[1m0s\u001b[0m 2ms/step - accuracy: 0.1057 - loss: -1004643.0625 - val_accuracy: 0.1111 - val_loss: -767764.8125\n",
      "Epoch 58/150\n",
      "\u001b[1m33/33\u001b[0m \u001b[32m━━━━━━━━━━━━━━━━━━━━\u001b[0m\u001b[37m\u001b[0m \u001b[1m0s\u001b[0m 2ms/step - accuracy: 0.1089 - loss: -1062428.1250 - val_accuracy: 0.1111 - val_loss: -805319.6250\n",
      "Epoch 59/150\n",
      "\u001b[1m33/33\u001b[0m \u001b[32m━━━━━━━━━━━━━━━━━━━━\u001b[0m\u001b[37m\u001b[0m \u001b[1m0s\u001b[0m 2ms/step - accuracy: 0.1070 - loss: -1100970.6250 - val_accuracy: 0.1111 - val_loss: -842863.4375\n",
      "Epoch 60/150\n",
      "\u001b[1m33/33\u001b[0m \u001b[32m━━━━━━━━━━━━━━━━━━━━\u001b[0m\u001b[37m\u001b[0m \u001b[1m0s\u001b[0m 2ms/step - accuracy: 0.1307 - loss: -1085271.3750 - val_accuracy: 0.1111 - val_loss: -882213.8750\n",
      "Epoch 61/150\n",
      "\u001b[1m33/33\u001b[0m \u001b[32m━━━━━━━━━━━━━━━━━━━━\u001b[0m\u001b[37m\u001b[0m \u001b[1m0s\u001b[0m 2ms/step - accuracy: 0.1103 - loss: -1218361.0000 - val_accuracy: 0.1111 - val_loss: -923044.8750\n",
      "Epoch 62/150\n",
      "\u001b[1m33/33\u001b[0m \u001b[32m━━━━━━━━━━━━━━━━━━━━\u001b[0m\u001b[37m\u001b[0m \u001b[1m0s\u001b[0m 2ms/step - accuracy: 0.0975 - loss: -1249017.2500 - val_accuracy: 0.1111 - val_loss: -964258.5000\n",
      "Epoch 63/150\n",
      "\u001b[1m33/33\u001b[0m \u001b[32m━━━━━━━━━━━━━━━━━━━━\u001b[0m\u001b[37m\u001b[0m \u001b[1m0s\u001b[0m 2ms/step - accuracy: 0.0913 - loss: -1383529.3750 - val_accuracy: 0.1111 - val_loss: -1007661.5000\n",
      "Epoch 64/150\n",
      "\u001b[1m33/33\u001b[0m \u001b[32m━━━━━━━━━━━━━━━━━━━━\u001b[0m\u001b[37m\u001b[0m \u001b[1m0s\u001b[0m 2ms/step - accuracy: 0.1093 - loss: -1400740.0000 - val_accuracy: 0.1111 - val_loss: -1049562.1250\n",
      "Epoch 65/150\n",
      "\u001b[1m33/33\u001b[0m \u001b[32m━━━━━━━━━━━━━━━━━━━━\u001b[0m\u001b[37m\u001b[0m \u001b[1m0s\u001b[0m 2ms/step - accuracy: 0.1173 - loss: -1460161.3750 - val_accuracy: 0.1111 - val_loss: -1094745.0000\n",
      "Epoch 66/150\n",
      "\u001b[1m33/33\u001b[0m \u001b[32m━━━━━━━━━━━━━━━━━━━━\u001b[0m\u001b[37m\u001b[0m \u001b[1m0s\u001b[0m 2ms/step - accuracy: 0.1115 - loss: -1500005.3750 - val_accuracy: 0.1111 - val_loss: -1139504.0000\n",
      "Epoch 67/150\n",
      "\u001b[1m33/33\u001b[0m \u001b[32m━━━━━━━━━━━━━━━━━━━━\u001b[0m\u001b[37m\u001b[0m \u001b[1m0s\u001b[0m 2ms/step - accuracy: 0.1046 - loss: -1645325.1250 - val_accuracy: 0.1111 - val_loss: -1186507.2500\n",
      "Epoch 68/150\n",
      "\u001b[1m33/33\u001b[0m \u001b[32m━━━━━━━━━━━━━━━━━━━━\u001b[0m\u001b[37m\u001b[0m \u001b[1m0s\u001b[0m 2ms/step - accuracy: 0.1030 - loss: -1620418.3750 - val_accuracy: 0.1111 - val_loss: -1233517.7500\n",
      "Epoch 69/150\n",
      "\u001b[1m33/33\u001b[0m \u001b[32m━━━━━━━━━━━━━━━━━━━━\u001b[0m\u001b[37m\u001b[0m \u001b[1m0s\u001b[0m 2ms/step - accuracy: 0.0942 - loss: -1687250.0000 - val_accuracy: 0.1111 - val_loss: -1282676.1250\n",
      "Epoch 70/150\n",
      "\u001b[1m33/33\u001b[0m \u001b[32m━━━━━━━━━━━━━━━━━━━━\u001b[0m\u001b[37m\u001b[0m \u001b[1m0s\u001b[0m 2ms/step - accuracy: 0.1024 - loss: -1726817.2500 - val_accuracy: 0.1111 - val_loss: -1332371.2500\n",
      "Epoch 71/150\n",
      "\u001b[1m33/33\u001b[0m \u001b[32m━━━━━━━━━━━━━━━━━━━━\u001b[0m\u001b[37m\u001b[0m \u001b[1m0s\u001b[0m 2ms/step - accuracy: 0.1099 - loss: -1816070.6250 - val_accuracy: 0.1111 - val_loss: -1384062.5000\n",
      "Epoch 72/150\n",
      "\u001b[1m33/33\u001b[0m \u001b[32m━━━━━━━━━━━━━━━━━━━━\u001b[0m\u001b[37m\u001b[0m \u001b[1m0s\u001b[0m 2ms/step - accuracy: 0.1146 - loss: -1859707.5000 - val_accuracy: 0.1111 - val_loss: -1436662.7500\n",
      "Epoch 73/150\n",
      "\u001b[1m33/33\u001b[0m \u001b[32m━━━━━━━━━━━━━━━━━━━━\u001b[0m\u001b[37m\u001b[0m \u001b[1m0s\u001b[0m 2ms/step - accuracy: 0.0974 - loss: -1913935.1250 - val_accuracy: 0.1111 - val_loss: -1489244.7500\n",
      "Epoch 74/150\n",
      "\u001b[1m33/33\u001b[0m \u001b[32m━━━━━━━━━━━━━━━━━━━━\u001b[0m\u001b[37m\u001b[0m \u001b[1m0s\u001b[0m 2ms/step - accuracy: 0.1048 - loss: -1990401.0000 - val_accuracy: 0.1111 - val_loss: -1544056.0000\n",
      "Epoch 75/150\n",
      "\u001b[1m33/33\u001b[0m \u001b[32m━━━━━━━━━━━━━━━━━━━━\u001b[0m\u001b[37m\u001b[0m \u001b[1m0s\u001b[0m 2ms/step - accuracy: 0.1295 - loss: -2061672.1250 - val_accuracy: 0.1111 - val_loss: -1599355.7500\n",
      "Epoch 76/150\n",
      "\u001b[1m33/33\u001b[0m \u001b[32m━━━━━━━━━━━━━━━━━━━━\u001b[0m\u001b[37m\u001b[0m \u001b[1m0s\u001b[0m 2ms/step - accuracy: 0.1129 - loss: -2143346.0000 - val_accuracy: 0.1111 - val_loss: -1656316.7500\n",
      "Epoch 77/150\n",
      "\u001b[1m33/33\u001b[0m \u001b[32m━━━━━━━━━━━━━━━━━━━━\u001b[0m\u001b[37m\u001b[0m \u001b[1m0s\u001b[0m 2ms/step - accuracy: 0.0953 - loss: -2194696.0000 - val_accuracy: 0.1111 - val_loss: -1714214.7500\n",
      "Epoch 78/150\n",
      "\u001b[1m33/33\u001b[0m \u001b[32m━━━━━━━━━━━━━━━━━━━━\u001b[0m\u001b[37m\u001b[0m \u001b[1m0s\u001b[0m 2ms/step - accuracy: 0.1179 - loss: -2271803.2500 - val_accuracy: 0.1111 - val_loss: -1774157.0000\n",
      "Epoch 79/150\n",
      "\u001b[1m33/33\u001b[0m \u001b[32m━━━━━━━━━━━━━━━━━━━━\u001b[0m\u001b[37m\u001b[0m \u001b[1m0s\u001b[0m 2ms/step - accuracy: 0.1184 - loss: -2403833.7500 - val_accuracy: 0.1111 - val_loss: -1834434.0000\n",
      "Epoch 80/150\n",
      "\u001b[1m33/33\u001b[0m \u001b[32m━━━━━━━━━━━━━━━━━━━━\u001b[0m\u001b[37m\u001b[0m \u001b[1m0s\u001b[0m 2ms/step - accuracy: 0.0889 - loss: -2448324.2500 - val_accuracy: 0.1111 - val_loss: -1896521.1250\n",
      "Epoch 81/150\n",
      "\u001b[1m33/33\u001b[0m \u001b[32m━━━━━━━━━━━━━━━━━━━━\u001b[0m\u001b[37m\u001b[0m \u001b[1m0s\u001b[0m 2ms/step - accuracy: 0.1065 - loss: -2613322.5000 - val_accuracy: 0.1111 - val_loss: -1959516.7500\n",
      "Epoch 82/150\n",
      "\u001b[1m33/33\u001b[0m \u001b[32m━━━━━━━━━━━━━━━━━━━━\u001b[0m\u001b[37m\u001b[0m \u001b[1m0s\u001b[0m 2ms/step - accuracy: 0.1171 - loss: -2748259.7500 - val_accuracy: 0.1111 - val_loss: -2022699.3750\n",
      "Epoch 83/150\n",
      "\u001b[1m33/33\u001b[0m \u001b[32m━━━━━━━━━━━━━━━━━━━━\u001b[0m\u001b[37m\u001b[0m \u001b[1m0s\u001b[0m 3ms/step - accuracy: 0.1131 - loss: -2841605.2500 - val_accuracy: 0.1111 - val_loss: -2086752.1250\n",
      "Epoch 84/150\n",
      "\u001b[1m33/33\u001b[0m \u001b[32m━━━━━━━━━━━━━━━━━━━━\u001b[0m\u001b[37m\u001b[0m \u001b[1m0s\u001b[0m 2ms/step - accuracy: 0.1146 - loss: -2877403.5000 - val_accuracy: 0.1111 - val_loss: -2152636.5000\n",
      "Epoch 85/150\n",
      "\u001b[1m33/33\u001b[0m \u001b[32m━━━━━━━━━━━━━━━━━━━━\u001b[0m\u001b[37m\u001b[0m \u001b[1m0s\u001b[0m 2ms/step - accuracy: 0.1085 - loss: -3034760.2500 - val_accuracy: 0.1111 - val_loss: -2220596.5000\n",
      "Epoch 86/150\n",
      "\u001b[1m33/33\u001b[0m \u001b[32m━━━━━━━━━━━━━━━━━━━━\u001b[0m\u001b[37m\u001b[0m \u001b[1m0s\u001b[0m 2ms/step - accuracy: 0.1078 - loss: -3179995.0000 - val_accuracy: 0.1111 - val_loss: -2289628.0000\n",
      "Epoch 87/150\n",
      "\u001b[1m33/33\u001b[0m \u001b[32m━━━━━━━━━━━━━━━━━━━━\u001b[0m\u001b[37m\u001b[0m \u001b[1m0s\u001b[0m 2ms/step - accuracy: 0.1134 - loss: -2984363.2500 - val_accuracy: 0.1111 - val_loss: -2358979.5000\n",
      "Epoch 88/150\n",
      "\u001b[1m33/33\u001b[0m \u001b[32m━━━━━━━━━━━━━━━━━━━━\u001b[0m\u001b[37m\u001b[0m \u001b[1m0s\u001b[0m 2ms/step - accuracy: 0.1176 - loss: -3151601.5000 - val_accuracy: 0.1111 - val_loss: -2430610.5000\n",
      "Epoch 89/150\n",
      "\u001b[1m33/33\u001b[0m \u001b[32m━━━━━━━━━━━━━━━━━━━━\u001b[0m\u001b[37m\u001b[0m \u001b[1m0s\u001b[0m 2ms/step - accuracy: 0.0993 - loss: -3589625.7500 - val_accuracy: 0.1111 - val_loss: -2503452.5000\n",
      "Epoch 90/150\n",
      "\u001b[1m33/33\u001b[0m \u001b[32m━━━━━━━━━━━━━━━━━━━━\u001b[0m\u001b[37m\u001b[0m \u001b[1m0s\u001b[0m 2ms/step - accuracy: 0.1222 - loss: -3567937.0000 - val_accuracy: 0.1111 - val_loss: -2576352.0000\n",
      "Epoch 91/150\n",
      "\u001b[1m33/33\u001b[0m \u001b[32m━━━━━━━━━━━━━━━━━━━━\u001b[0m\u001b[37m\u001b[0m \u001b[1m0s\u001b[0m 2ms/step - accuracy: 0.1062 - loss: -3472383.5000 - val_accuracy: 0.1111 - val_loss: -2650038.0000\n",
      "Epoch 92/150\n",
      "\u001b[1m33/33\u001b[0m \u001b[32m━━━━━━━━━━━━━━━━━━━━\u001b[0m\u001b[37m\u001b[0m \u001b[1m0s\u001b[0m 2ms/step - accuracy: 0.1119 - loss: -3551089.7500 - val_accuracy: 0.1111 - val_loss: -2726455.0000\n",
      "Epoch 93/150\n",
      "\u001b[1m33/33\u001b[0m \u001b[32m━━━━━━━━━━━━━━━━━━━━\u001b[0m\u001b[37m\u001b[0m \u001b[1m0s\u001b[0m 2ms/step - accuracy: 0.1025 - loss: -3851185.2500 - val_accuracy: 0.1111 - val_loss: -2804926.2500\n",
      "Epoch 94/150\n",
      "\u001b[1m33/33\u001b[0m \u001b[32m━━━━━━━━━━━━━━━━━━━━\u001b[0m\u001b[37m\u001b[0m \u001b[1m0s\u001b[0m 2ms/step - accuracy: 0.1141 - loss: -3843102.0000 - val_accuracy: 0.1111 - val_loss: -2882912.2500\n",
      "Epoch 95/150\n",
      "\u001b[1m33/33\u001b[0m \u001b[32m━━━━━━━━━━━━━━━━━━━━\u001b[0m\u001b[37m\u001b[0m \u001b[1m0s\u001b[0m 2ms/step - accuracy: 0.1098 - loss: -4017508.7500 - val_accuracy: 0.1111 - val_loss: -2963500.5000\n",
      "Epoch 96/150\n",
      "\u001b[1m33/33\u001b[0m \u001b[32m━━━━━━━━━━━━━━━━━━━━\u001b[0m\u001b[37m\u001b[0m \u001b[1m0s\u001b[0m 2ms/step - accuracy: 0.1041 - loss: -3951511.0000 - val_accuracy: 0.1111 - val_loss: -3043777.5000\n",
      "Epoch 97/150\n",
      "\u001b[1m33/33\u001b[0m \u001b[32m━━━━━━━━━━━━━━━━━━━━\u001b[0m\u001b[37m\u001b[0m \u001b[1m0s\u001b[0m 2ms/step - accuracy: 0.1192 - loss: -4232074.0000 - val_accuracy: 0.1111 - val_loss: -3125998.5000\n",
      "Epoch 98/150\n",
      "\u001b[1m33/33\u001b[0m \u001b[32m━━━━━━━━━━━━━━━━━━━━\u001b[0m\u001b[37m\u001b[0m \u001b[1m0s\u001b[0m 2ms/step - accuracy: 0.1053 - loss: -4267523.5000 - val_accuracy: 0.1111 - val_loss: -3209431.5000\n",
      "Epoch 99/150\n",
      "\u001b[1m33/33\u001b[0m \u001b[32m━━━━━━━━━━━━━━━━━━━━\u001b[0m\u001b[37m\u001b[0m \u001b[1m0s\u001b[0m 2ms/step - accuracy: 0.0925 - loss: -4420886.0000 - val_accuracy: 0.1111 - val_loss: -3294548.5000\n",
      "Epoch 100/150\n",
      "\u001b[1m33/33\u001b[0m \u001b[32m━━━━━━━━━━━━━━━━━━━━\u001b[0m\u001b[37m\u001b[0m \u001b[1m0s\u001b[0m 2ms/step - accuracy: 0.1053 - loss: -4662485.0000 - val_accuracy: 0.1111 - val_loss: -3379527.5000\n",
      "Epoch 101/150\n",
      "\u001b[1m33/33\u001b[0m \u001b[32m━━━━━━━━━━━━━━━━━━━━\u001b[0m\u001b[37m\u001b[0m \u001b[1m0s\u001b[0m 2ms/step - accuracy: 0.1278 - loss: -4556062.0000 - val_accuracy: 0.1111 - val_loss: -3467939.5000\n",
      "Epoch 102/150\n",
      "\u001b[1m33/33\u001b[0m \u001b[32m━━━━━━━━━━━━━━━━━━━━\u001b[0m\u001b[37m\u001b[0m \u001b[1m0s\u001b[0m 2ms/step - accuracy: 0.1161 - loss: -4639825.5000 - val_accuracy: 0.1111 - val_loss: -3554567.0000\n",
      "Epoch 103/150\n",
      "\u001b[1m33/33\u001b[0m \u001b[32m━━━━━━━━━━━━━━━━━━━━\u001b[0m\u001b[37m\u001b[0m \u001b[1m0s\u001b[0m 2ms/step - accuracy: 0.1279 - loss: -4782629.0000 - val_accuracy: 0.1111 - val_loss: -3644455.7500\n",
      "Epoch 104/150\n",
      "\u001b[1m33/33\u001b[0m \u001b[32m━━━━━━━━━━━━━━━━━━━━\u001b[0m\u001b[37m\u001b[0m \u001b[1m0s\u001b[0m 2ms/step - accuracy: 0.1004 - loss: -5085704.5000 - val_accuracy: 0.1111 - val_loss: -3735125.7500\n",
      "Epoch 105/150\n",
      "\u001b[1m33/33\u001b[0m \u001b[32m━━━━━━━━━━━━━━━━━━━━\u001b[0m\u001b[37m\u001b[0m \u001b[1m0s\u001b[0m 2ms/step - accuracy: 0.1102 - loss: -4799089.0000 - val_accuracy: 0.1111 - val_loss: -3826659.5000\n",
      "Epoch 106/150\n",
      "\u001b[1m33/33\u001b[0m \u001b[32m━━━━━━━━━━━━━━━━━━━━\u001b[0m\u001b[37m\u001b[0m \u001b[1m0s\u001b[0m 2ms/step - accuracy: 0.1117 - loss: -5358034.0000 - val_accuracy: 0.1111 - val_loss: -3920840.2500\n",
      "Epoch 107/150\n",
      "\u001b[1m33/33\u001b[0m \u001b[32m━━━━━━━━━━━━━━━━━━━━\u001b[0m\u001b[37m\u001b[0m \u001b[1m0s\u001b[0m 2ms/step - accuracy: 0.1146 - loss: -5436270.0000 - val_accuracy: 0.1111 - val_loss: -4016999.7500\n",
      "Epoch 108/150\n",
      "\u001b[1m33/33\u001b[0m \u001b[32m━━━━━━━━━━━━━━━━━━━━\u001b[0m\u001b[37m\u001b[0m \u001b[1m0s\u001b[0m 2ms/step - accuracy: 0.1037 - loss: -5218697.5000 - val_accuracy: 0.1111 - val_loss: -4112127.2500\n",
      "Epoch 109/150\n",
      "\u001b[1m33/33\u001b[0m \u001b[32m━━━━━━━━━━━━━━━━━━━━\u001b[0m\u001b[37m\u001b[0m \u001b[1m0s\u001b[0m 2ms/step - accuracy: 0.1066 - loss: -5847413.0000 - val_accuracy: 0.1111 - val_loss: -4210701.0000\n",
      "Epoch 110/150\n",
      "\u001b[1m33/33\u001b[0m \u001b[32m━━━━━━━━━━━━━━━━━━━━\u001b[0m\u001b[37m\u001b[0m \u001b[1m0s\u001b[0m 2ms/step - accuracy: 0.1033 - loss: -5677516.5000 - val_accuracy: 0.1111 - val_loss: -4309270.0000\n",
      "Epoch 111/150\n",
      "\u001b[1m33/33\u001b[0m \u001b[32m━━━━━━━━━━━━━━━━━━━━\u001b[0m\u001b[37m\u001b[0m \u001b[1m0s\u001b[0m 2ms/step - accuracy: 0.1165 - loss: -5477595.5000 - val_accuracy: 0.1111 - val_loss: -4407581.0000\n",
      "Epoch 112/150\n",
      "\u001b[1m33/33\u001b[0m \u001b[32m━━━━━━━━━━━━━━━━━━━━\u001b[0m\u001b[37m\u001b[0m \u001b[1m0s\u001b[0m 2ms/step - accuracy: 0.1146 - loss: -6175896.0000 - val_accuracy: 0.1111 - val_loss: -4509445.5000\n",
      "Epoch 113/150\n",
      "\u001b[1m33/33\u001b[0m \u001b[32m━━━━━━━━━━━━━━━━━━━━\u001b[0m\u001b[37m\u001b[0m \u001b[1m0s\u001b[0m 2ms/step - accuracy: 0.1088 - loss: -6141431.5000 - val_accuracy: 0.1111 - val_loss: -4610626.5000\n",
      "Epoch 114/150\n",
      "\u001b[1m33/33\u001b[0m \u001b[32m━━━━━━━━━━━━━━━━━━━━\u001b[0m\u001b[37m\u001b[0m \u001b[1m0s\u001b[0m 2ms/step - accuracy: 0.1212 - loss: -6474788.0000 - val_accuracy: 0.1111 - val_loss: -4714913.0000\n",
      "Epoch 115/150\n",
      "\u001b[1m33/33\u001b[0m \u001b[32m━━━━━━━━━━━━━━━━━━━━\u001b[0m\u001b[37m\u001b[0m \u001b[1m0s\u001b[0m 2ms/step - accuracy: 0.1117 - loss: -6351123.0000 - val_accuracy: 0.1111 - val_loss: -4819833.0000\n",
      "Epoch 116/150\n",
      "\u001b[1m33/33\u001b[0m \u001b[32m━━━━━━━━━━━━━━━━━━━━\u001b[0m\u001b[37m\u001b[0m \u001b[1m0s\u001b[0m 2ms/step - accuracy: 0.1044 - loss: -6836394.5000 - val_accuracy: 0.1111 - val_loss: -4928895.5000\n",
      "Epoch 117/150\n",
      "\u001b[1m33/33\u001b[0m \u001b[32m━━━━━━━━━━━━━━━━━━━━\u001b[0m\u001b[37m\u001b[0m \u001b[1m0s\u001b[0m 2ms/step - accuracy: 0.1184 - loss: -7007685.5000 - val_accuracy: 0.1111 - val_loss: -5035029.5000\n",
      "Epoch 118/150\n",
      "\u001b[1m33/33\u001b[0m \u001b[32m━━━━━━━━━━━━━━━━━━━━\u001b[0m\u001b[37m\u001b[0m \u001b[1m0s\u001b[0m 2ms/step - accuracy: 0.1136 - loss: -6727309.0000 - val_accuracy: 0.1111 - val_loss: -5141927.5000\n",
      "Epoch 119/150\n",
      "\u001b[1m33/33\u001b[0m \u001b[32m━━━━━━━━━━━━━━━━━━━━\u001b[0m\u001b[37m\u001b[0m \u001b[1m0s\u001b[0m 2ms/step - accuracy: 0.0987 - loss: -7192488.0000 - val_accuracy: 0.1111 - val_loss: -5251399.5000\n",
      "Epoch 120/150\n",
      "\u001b[1m33/33\u001b[0m \u001b[32m━━━━━━━━━━━━━━━━━━━━\u001b[0m\u001b[37m\u001b[0m \u001b[1m0s\u001b[0m 2ms/step - accuracy: 0.0961 - loss: -7253344.0000 - val_accuracy: 0.1111 - val_loss: -5360834.0000\n",
      "Epoch 121/150\n",
      "\u001b[1m33/33\u001b[0m \u001b[32m━━━━━━━━━━━━━━━━━━━━\u001b[0m\u001b[37m\u001b[0m \u001b[1m0s\u001b[0m 2ms/step - accuracy: 0.0994 - loss: -7724270.5000 - val_accuracy: 0.1111 - val_loss: -5475130.0000\n",
      "Epoch 122/150\n",
      "\u001b[1m33/33\u001b[0m \u001b[32m━━━━━━━━━━━━━━━━━━━━\u001b[0m\u001b[37m\u001b[0m \u001b[1m0s\u001b[0m 3ms/step - accuracy: 0.1124 - loss: -7418330.5000 - val_accuracy: 0.1111 - val_loss: -5589576.5000\n",
      "Epoch 123/150\n",
      "\u001b[1m33/33\u001b[0m \u001b[32m━━━━━━━━━━━━━━━━━━━━\u001b[0m\u001b[37m\u001b[0m \u001b[1m0s\u001b[0m 3ms/step - accuracy: 0.1154 - loss: -8021333.5000 - val_accuracy: 0.1111 - val_loss: -5706213.0000\n",
      "Epoch 124/150\n",
      "\u001b[1m33/33\u001b[0m \u001b[32m━━━━━━━━━━━━━━━━━━━━\u001b[0m\u001b[37m\u001b[0m \u001b[1m0s\u001b[0m 2ms/step - accuracy: 0.1030 - loss: -7533823.0000 - val_accuracy: 0.1111 - val_loss: -5820832.5000\n",
      "Epoch 125/150\n",
      "\u001b[1m33/33\u001b[0m \u001b[32m━━━━━━━━━━━━━━━━━━━━\u001b[0m\u001b[37m\u001b[0m \u001b[1m0s\u001b[0m 2ms/step - accuracy: 0.1087 - loss: -7941135.5000 - val_accuracy: 0.1111 - val_loss: -5940850.5000\n",
      "Epoch 126/150\n",
      "\u001b[1m33/33\u001b[0m \u001b[32m━━━━━━━━━━━━━━━━━━━━\u001b[0m\u001b[37m\u001b[0m \u001b[1m0s\u001b[0m 2ms/step - accuracy: 0.0984 - loss: -8281862.5000 - val_accuracy: 0.1111 - val_loss: -6061630.5000\n",
      "Epoch 127/150\n",
      "\u001b[1m33/33\u001b[0m \u001b[32m━━━━━━━━━━━━━━━━━━━━\u001b[0m\u001b[37m\u001b[0m \u001b[1m0s\u001b[0m 2ms/step - accuracy: 0.1230 - loss: -8160586.5000 - val_accuracy: 0.1111 - val_loss: -6181784.0000\n",
      "Epoch 128/150\n",
      "\u001b[1m33/33\u001b[0m \u001b[32m━━━━━━━━━━━━━━━━━━━━\u001b[0m\u001b[37m\u001b[0m \u001b[1m0s\u001b[0m 2ms/step - accuracy: 0.1115 - loss: -8615385.0000 - val_accuracy: 0.1111 - val_loss: -6302655.5000\n",
      "Epoch 129/150\n",
      "\u001b[1m33/33\u001b[0m \u001b[32m━━━━━━━━━━━━━━━━━━━━\u001b[0m\u001b[37m\u001b[0m \u001b[1m0s\u001b[0m 2ms/step - accuracy: 0.1027 - loss: -9190584.0000 - val_accuracy: 0.1111 - val_loss: -6428287.5000\n",
      "Epoch 130/150\n",
      "\u001b[1m33/33\u001b[0m \u001b[32m━━━━━━━━━━━━━━━━━━━━\u001b[0m\u001b[37m\u001b[0m \u001b[1m0s\u001b[0m 2ms/step - accuracy: 0.1328 - loss: -8675806.0000 - val_accuracy: 0.1111 - val_loss: -6549899.5000\n",
      "Epoch 131/150\n",
      "\u001b[1m33/33\u001b[0m \u001b[32m━━━━━━━━━━━━━━━━━━━━\u001b[0m\u001b[37m\u001b[0m \u001b[1m0s\u001b[0m 2ms/step - accuracy: 0.0994 - loss: -9231162.0000 - val_accuracy: 0.1111 - val_loss: -6676007.0000\n",
      "Epoch 132/150\n",
      "\u001b[1m33/33\u001b[0m \u001b[32m━━━━━━━━━━━━━━━━━━━━\u001b[0m\u001b[37m\u001b[0m \u001b[1m0s\u001b[0m 2ms/step - accuracy: 0.0976 - loss: -8749710.0000 - val_accuracy: 0.1111 - val_loss: -6803364.5000\n",
      "Epoch 133/150\n",
      "\u001b[1m33/33\u001b[0m \u001b[32m━━━━━━━━━━━━━━━━━━━━\u001b[0m\u001b[37m\u001b[0m \u001b[1m0s\u001b[0m 2ms/step - accuracy: 0.1156 - loss: -8800169.0000 - val_accuracy: 0.1111 - val_loss: -6932750.0000\n",
      "Epoch 134/150\n",
      "\u001b[1m33/33\u001b[0m \u001b[32m━━━━━━━━━━━━━━━━━━━━\u001b[0m\u001b[37m\u001b[0m \u001b[1m0s\u001b[0m 2ms/step - accuracy: 0.1043 - loss: -9780286.0000 - val_accuracy: 0.1111 - val_loss: -7064579.5000\n",
      "Epoch 135/150\n",
      "\u001b[1m33/33\u001b[0m \u001b[32m━━━━━━━━━━━━━━━━━━━━\u001b[0m\u001b[37m\u001b[0m \u001b[1m0s\u001b[0m 2ms/step - accuracy: 0.1245 - loss: -9273899.0000 - val_accuracy: 0.1111 - val_loss: -7195521.5000\n",
      "Epoch 136/150\n",
      "\u001b[1m33/33\u001b[0m \u001b[32m━━━━━━━━━━━━━━━━━━━━\u001b[0m\u001b[37m\u001b[0m \u001b[1m0s\u001b[0m 2ms/step - accuracy: 0.1234 - loss: -8694981.0000 - val_accuracy: 0.1111 - val_loss: -7330335.5000\n",
      "Epoch 137/150\n",
      "\u001b[1m33/33\u001b[0m \u001b[32m━━━━━━━━━━━━━━━━━━━━\u001b[0m\u001b[37m\u001b[0m \u001b[1m0s\u001b[0m 2ms/step - accuracy: 0.1297 - loss: -10456362.0000 - val_accuracy: 0.1111 - val_loss: -7467527.0000\n",
      "Epoch 138/150\n",
      "\u001b[1m33/33\u001b[0m \u001b[32m━━━━━━━━━━━━━━━━━━━━\u001b[0m\u001b[37m\u001b[0m \u001b[1m0s\u001b[0m 2ms/step - accuracy: 0.1015 - loss: -10453024.0000 - val_accuracy: 0.1111 - val_loss: -7602407.0000\n",
      "Epoch 139/150\n",
      "\u001b[1m33/33\u001b[0m \u001b[32m━━━━━━━━━━━━━━━━━━━━\u001b[0m\u001b[37m\u001b[0m \u001b[1m0s\u001b[0m 2ms/step - accuracy: 0.0975 - loss: -10157978.0000 - val_accuracy: 0.1111 - val_loss: -7740268.0000\n",
      "Epoch 140/150\n",
      "\u001b[1m33/33\u001b[0m \u001b[32m━━━━━━━━━━━━━━━━━━━━\u001b[0m\u001b[37m\u001b[0m \u001b[1m0s\u001b[0m 2ms/step - accuracy: 0.1152 - loss: -9980280.0000 - val_accuracy: 0.1111 - val_loss: -7877507.0000\n",
      "Epoch 141/150\n",
      "\u001b[1m33/33\u001b[0m \u001b[32m━━━━━━━━━━━━━━━━━━━━\u001b[0m\u001b[37m\u001b[0m \u001b[1m0s\u001b[0m 2ms/step - accuracy: 0.1023 - loss: -10954374.0000 - val_accuracy: 0.1111 - val_loss: -8021012.0000\n",
      "Epoch 142/150\n",
      "\u001b[1m33/33\u001b[0m \u001b[32m━━━━━━━━━━━━━━━━━━━━\u001b[0m\u001b[37m\u001b[0m \u001b[1m0s\u001b[0m 2ms/step - accuracy: 0.1127 - loss: -10936112.0000 - val_accuracy: 0.1111 - val_loss: -8162576.5000\n",
      "Epoch 143/150\n",
      "\u001b[1m33/33\u001b[0m \u001b[32m━━━━━━━━━━━━━━━━━━━━\u001b[0m\u001b[37m\u001b[0m \u001b[1m0s\u001b[0m 2ms/step - accuracy: 0.1197 - loss: -10872544.0000 - val_accuracy: 0.1111 - val_loss: -8307098.5000\n",
      "Epoch 144/150\n",
      "\u001b[1m33/33\u001b[0m \u001b[32m━━━━━━━━━━━━━━━━━━━━\u001b[0m\u001b[37m\u001b[0m \u001b[1m0s\u001b[0m 2ms/step - accuracy: 0.1109 - loss: -11643914.0000 - val_accuracy: 0.1111 - val_loss: -8453379.0000\n",
      "Epoch 145/150\n",
      "\u001b[1m33/33\u001b[0m \u001b[32m━━━━━━━━━━━━━━━━━━━━\u001b[0m\u001b[37m\u001b[0m \u001b[1m0s\u001b[0m 2ms/step - accuracy: 0.0992 - loss: -12263427.0000 - val_accuracy: 0.1111 - val_loss: -8598784.0000\n",
      "Epoch 146/150\n",
      "\u001b[1m33/33\u001b[0m \u001b[32m━━━━━━━━━━━━━━━━━━━━\u001b[0m\u001b[37m\u001b[0m \u001b[1m0s\u001b[0m 2ms/step - accuracy: 0.1212 - loss: -11102821.0000 - val_accuracy: 0.1111 - val_loss: -8743770.0000\n",
      "Epoch 147/150\n",
      "\u001b[1m33/33\u001b[0m \u001b[32m━━━━━━━━━━━━━━━━━━━━\u001b[0m\u001b[37m\u001b[0m \u001b[1m0s\u001b[0m 2ms/step - accuracy: 0.1001 - loss: -12182998.0000 - val_accuracy: 0.1111 - val_loss: -8896203.0000\n",
      "Epoch 148/150\n",
      "\u001b[1m33/33\u001b[0m \u001b[32m━━━━━━━━━━━━━━━━━━━━\u001b[0m\u001b[37m\u001b[0m \u001b[1m0s\u001b[0m 2ms/step - accuracy: 0.1063 - loss: -12196945.0000 - val_accuracy: 0.1111 - val_loss: -9048430.0000\n",
      "Epoch 149/150\n",
      "\u001b[1m33/33\u001b[0m \u001b[32m━━━━━━━━━━━━━━━━━━━━\u001b[0m\u001b[37m\u001b[0m \u001b[1m0s\u001b[0m 2ms/step - accuracy: 0.1110 - loss: -12579266.0000 - val_accuracy: 0.1111 - val_loss: -9199058.0000\n",
      "Epoch 150/150\n",
      "\u001b[1m33/33\u001b[0m \u001b[32m━━━━━━━━━━━━━━━━━━━━\u001b[0m\u001b[37m\u001b[0m \u001b[1m0s\u001b[0m 2ms/step - accuracy: 0.1202 - loss: -11817447.0000 - val_accuracy: 0.1111 - val_loss: -9349877.0000\n"
     ]
    }
   ],
   "source": [
    "Training_progress_adam=ann_adam.fit(X_train,Y_train,batch_size=25, epochs =150, validation_data=(X_test, Y_test))"
   ]
  },
  {
   "cell_type": "code",
   "execution_count": 20,
   "id": "7cdea407",
   "metadata": {
    "execution": {
     "iopub.execute_input": "2024-08-31T11:44:18.440276Z",
     "iopub.status.busy": "2024-08-31T11:44:18.439901Z",
     "iopub.status.idle": "2024-08-31T11:44:18.444978Z",
     "shell.execute_reply": "2024-08-31T11:44:18.444033Z"
    },
    "papermill": {
     "duration": 0.107886,
     "end_time": "2024-08-31T11:44:18.447351",
     "exception": false,
     "start_time": "2024-08-31T11:44:18.339465",
     "status": "completed"
    },
    "tags": []
   },
   "outputs": [
    {
     "name": "stdout",
     "output_type": "stream",
     "text": [
      "(808, 34) (808,)\n",
      "(90, 34) (90,)\n"
     ]
    }
   ],
   "source": [
    "print(X_train.shape, Y_train.shape)\n",
    "print(X_test.shape, Y_test.shape)"
   ]
  },
  {
   "cell_type": "markdown",
   "id": "fa2ec5b5",
   "metadata": {
    "papermill": {
     "duration": 0.10293,
     "end_time": "2024-08-31T11:44:18.649676",
     "exception": false,
     "start_time": "2024-08-31T11:44:18.546746",
     "status": "completed"
    },
    "tags": []
   },
   "source": [
    "# *summaries of three different algo*"
   ]
  },
  {
   "cell_type": "code",
   "execution_count": 21,
   "id": "7bd38a92",
   "metadata": {
    "execution": {
     "iopub.execute_input": "2024-08-31T11:44:18.854210Z",
     "iopub.status.busy": "2024-08-31T11:44:18.853838Z",
     "iopub.status.idle": "2024-08-31T11:44:18.873393Z",
     "shell.execute_reply": "2024-08-31T11:44:18.872539Z"
    },
    "papermill": {
     "duration": 0.123948,
     "end_time": "2024-08-31T11:44:18.875307",
     "exception": false,
     "start_time": "2024-08-31T11:44:18.751359",
     "status": "completed"
    },
    "tags": []
   },
   "outputs": [
    {
     "data": {
      "text/html": [
       "<pre style=\"white-space:pre;overflow-x:auto;line-height:normal;font-family:Menlo,'DejaVu Sans Mono',consolas,'Courier New',monospace\"><span style=\"font-weight: bold\">Model: \"sequential_1\"</span>\n",
       "</pre>\n"
      ],
      "text/plain": [
       "\u001b[1mModel: \"sequential_1\"\u001b[0m\n"
      ]
     },
     "metadata": {},
     "output_type": "display_data"
    },
    {
     "data": {
      "text/html": [
       "<pre style=\"white-space:pre;overflow-x:auto;line-height:normal;font-family:Menlo,'DejaVu Sans Mono',consolas,'Courier New',monospace\">┏━━━━━━━━━━━━━━━━━━━━━━━━━━━━━━━━━┳━━━━━━━━━━━━━━━━━━━━━━━━┳━━━━━━━━━━━━━━━┓\n",
       "┃<span style=\"font-weight: bold\"> Layer (type)                    </span>┃<span style=\"font-weight: bold\"> Output Shape           </span>┃<span style=\"font-weight: bold\">       Param # </span>┃\n",
       "┡━━━━━━━━━━━━━━━━━━━━━━━━━━━━━━━━━╇━━━━━━━━━━━━━━━━━━━━━━━━╇━━━━━━━━━━━━━━━┩\n",
       "│ dense_2 (<span style=\"color: #0087ff; text-decoration-color: #0087ff\">Dense</span>)                 │ (<span style=\"color: #00d7ff; text-decoration-color: #00d7ff\">None</span>, <span style=\"color: #00af00; text-decoration-color: #00af00\">64</span>)             │         <span style=\"color: #00af00; text-decoration-color: #00af00\">2,240</span> │\n",
       "├─────────────────────────────────┼────────────────────────┼───────────────┤\n",
       "│ dense_3 (<span style=\"color: #0087ff; text-decoration-color: #0087ff\">Dense</span>)                 │ (<span style=\"color: #00d7ff; text-decoration-color: #00d7ff\">None</span>, <span style=\"color: #00af00; text-decoration-color: #00af00\">1</span>)              │            <span style=\"color: #00af00; text-decoration-color: #00af00\">65</span> │\n",
       "└─────────────────────────────────┴────────────────────────┴───────────────┘\n",
       "</pre>\n"
      ],
      "text/plain": [
       "┏━━━━━━━━━━━━━━━━━━━━━━━━━━━━━━━━━┳━━━━━━━━━━━━━━━━━━━━━━━━┳━━━━━━━━━━━━━━━┓\n",
       "┃\u001b[1m \u001b[0m\u001b[1mLayer (type)                   \u001b[0m\u001b[1m \u001b[0m┃\u001b[1m \u001b[0m\u001b[1mOutput Shape          \u001b[0m\u001b[1m \u001b[0m┃\u001b[1m \u001b[0m\u001b[1m      Param #\u001b[0m\u001b[1m \u001b[0m┃\n",
       "┡━━━━━━━━━━━━━━━━━━━━━━━━━━━━━━━━━╇━━━━━━━━━━━━━━━━━━━━━━━━╇━━━━━━━━━━━━━━━┩\n",
       "│ dense_2 (\u001b[38;5;33mDense\u001b[0m)                 │ (\u001b[38;5;45mNone\u001b[0m, \u001b[38;5;34m64\u001b[0m)             │         \u001b[38;5;34m2,240\u001b[0m │\n",
       "├─────────────────────────────────┼────────────────────────┼───────────────┤\n",
       "│ dense_3 (\u001b[38;5;33mDense\u001b[0m)                 │ (\u001b[38;5;45mNone\u001b[0m, \u001b[38;5;34m1\u001b[0m)              │            \u001b[38;5;34m65\u001b[0m │\n",
       "└─────────────────────────────────┴────────────────────────┴───────────────┘\n"
      ]
     },
     "metadata": {},
     "output_type": "display_data"
    },
    {
     "data": {
      "text/html": [
       "<pre style=\"white-space:pre;overflow-x:auto;line-height:normal;font-family:Menlo,'DejaVu Sans Mono',consolas,'Courier New',monospace\"><span style=\"font-weight: bold\"> Total params: </span><span style=\"color: #00af00; text-decoration-color: #00af00\">4,612</span> (18.02 KB)\n",
       "</pre>\n"
      ],
      "text/plain": [
       "\u001b[1m Total params: \u001b[0m\u001b[38;5;34m4,612\u001b[0m (18.02 KB)\n"
      ]
     },
     "metadata": {},
     "output_type": "display_data"
    },
    {
     "data": {
      "text/html": [
       "<pre style=\"white-space:pre;overflow-x:auto;line-height:normal;font-family:Menlo,'DejaVu Sans Mono',consolas,'Courier New',monospace\"><span style=\"font-weight: bold\"> Trainable params: </span><span style=\"color: #00af00; text-decoration-color: #00af00\">2,305</span> (9.00 KB)\n",
       "</pre>\n"
      ],
      "text/plain": [
       "\u001b[1m Trainable params: \u001b[0m\u001b[38;5;34m2,305\u001b[0m (9.00 KB)\n"
      ]
     },
     "metadata": {},
     "output_type": "display_data"
    },
    {
     "data": {
      "text/html": [
       "<pre style=\"white-space:pre;overflow-x:auto;line-height:normal;font-family:Menlo,'DejaVu Sans Mono',consolas,'Courier New',monospace\"><span style=\"font-weight: bold\"> Non-trainable params: </span><span style=\"color: #00af00; text-decoration-color: #00af00\">0</span> (0.00 B)\n",
       "</pre>\n"
      ],
      "text/plain": [
       "\u001b[1m Non-trainable params: \u001b[0m\u001b[38;5;34m0\u001b[0m (0.00 B)\n"
      ]
     },
     "metadata": {},
     "output_type": "display_data"
    },
    {
     "data": {
      "text/html": [
       "<pre style=\"white-space:pre;overflow-x:auto;line-height:normal;font-family:Menlo,'DejaVu Sans Mono',consolas,'Courier New',monospace\"><span style=\"font-weight: bold\"> Optimizer params: </span><span style=\"color: #00af00; text-decoration-color: #00af00\">2,307</span> (9.02 KB)\n",
       "</pre>\n"
      ],
      "text/plain": [
       "\u001b[1m Optimizer params: \u001b[0m\u001b[38;5;34m2,307\u001b[0m (9.02 KB)\n"
      ]
     },
     "metadata": {},
     "output_type": "display_data"
    }
   ],
   "source": [
    "ann_rms.summary()"
   ]
  },
  {
   "cell_type": "code",
   "execution_count": 22,
   "id": "1d12e0eb",
   "metadata": {
    "execution": {
     "iopub.execute_input": "2024-08-31T11:44:19.115648Z",
     "iopub.status.busy": "2024-08-31T11:44:19.115252Z",
     "iopub.status.idle": "2024-08-31T11:44:19.132947Z",
     "shell.execute_reply": "2024-08-31T11:44:19.132039Z"
    },
    "papermill": {
     "duration": 0.119386,
     "end_time": "2024-08-31T11:44:19.134982",
     "exception": false,
     "start_time": "2024-08-31T11:44:19.015596",
     "status": "completed"
    },
    "tags": []
   },
   "outputs": [
    {
     "data": {
      "text/html": [
       "<pre style=\"white-space:pre;overflow-x:auto;line-height:normal;font-family:Menlo,'DejaVu Sans Mono',consolas,'Courier New',monospace\"><span style=\"font-weight: bold\">Model: \"sequential\"</span>\n",
       "</pre>\n"
      ],
      "text/plain": [
       "\u001b[1mModel: \"sequential\"\u001b[0m\n"
      ]
     },
     "metadata": {},
     "output_type": "display_data"
    },
    {
     "data": {
      "text/html": [
       "<pre style=\"white-space:pre;overflow-x:auto;line-height:normal;font-family:Menlo,'DejaVu Sans Mono',consolas,'Courier New',monospace\">┏━━━━━━━━━━━━━━━━━━━━━━━━━━━━━━━━━┳━━━━━━━━━━━━━━━━━━━━━━━━┳━━━━━━━━━━━━━━━┓\n",
       "┃<span style=\"font-weight: bold\"> Layer (type)                    </span>┃<span style=\"font-weight: bold\"> Output Shape           </span>┃<span style=\"font-weight: bold\">       Param # </span>┃\n",
       "┡━━━━━━━━━━━━━━━━━━━━━━━━━━━━━━━━━╇━━━━━━━━━━━━━━━━━━━━━━━━╇━━━━━━━━━━━━━━━┩\n",
       "│ dense (<span style=\"color: #0087ff; text-decoration-color: #0087ff\">Dense</span>)                   │ (<span style=\"color: #00d7ff; text-decoration-color: #00d7ff\">None</span>, <span style=\"color: #00af00; text-decoration-color: #00af00\">64</span>)             │         <span style=\"color: #00af00; text-decoration-color: #00af00\">2,240</span> │\n",
       "├─────────────────────────────────┼────────────────────────┼───────────────┤\n",
       "│ dense_1 (<span style=\"color: #0087ff; text-decoration-color: #0087ff\">Dense</span>)                 │ (<span style=\"color: #00d7ff; text-decoration-color: #00d7ff\">None</span>, <span style=\"color: #00af00; text-decoration-color: #00af00\">1</span>)              │            <span style=\"color: #00af00; text-decoration-color: #00af00\">65</span> │\n",
       "└─────────────────────────────────┴────────────────────────┴───────────────┘\n",
       "</pre>\n"
      ],
      "text/plain": [
       "┏━━━━━━━━━━━━━━━━━━━━━━━━━━━━━━━━━┳━━━━━━━━━━━━━━━━━━━━━━━━┳━━━━━━━━━━━━━━━┓\n",
       "┃\u001b[1m \u001b[0m\u001b[1mLayer (type)                   \u001b[0m\u001b[1m \u001b[0m┃\u001b[1m \u001b[0m\u001b[1mOutput Shape          \u001b[0m\u001b[1m \u001b[0m┃\u001b[1m \u001b[0m\u001b[1m      Param #\u001b[0m\u001b[1m \u001b[0m┃\n",
       "┡━━━━━━━━━━━━━━━━━━━━━━━━━━━━━━━━━╇━━━━━━━━━━━━━━━━━━━━━━━━╇━━━━━━━━━━━━━━━┩\n",
       "│ dense (\u001b[38;5;33mDense\u001b[0m)                   │ (\u001b[38;5;45mNone\u001b[0m, \u001b[38;5;34m64\u001b[0m)             │         \u001b[38;5;34m2,240\u001b[0m │\n",
       "├─────────────────────────────────┼────────────────────────┼───────────────┤\n",
       "│ dense_1 (\u001b[38;5;33mDense\u001b[0m)                 │ (\u001b[38;5;45mNone\u001b[0m, \u001b[38;5;34m1\u001b[0m)              │            \u001b[38;5;34m65\u001b[0m │\n",
       "└─────────────────────────────────┴────────────────────────┴───────────────┘\n"
      ]
     },
     "metadata": {},
     "output_type": "display_data"
    },
    {
     "data": {
      "text/html": [
       "<pre style=\"white-space:pre;overflow-x:auto;line-height:normal;font-family:Menlo,'DejaVu Sans Mono',consolas,'Courier New',monospace\"><span style=\"font-weight: bold\"> Total params: </span><span style=\"color: #00af00; text-decoration-color: #00af00\">2,307</span> (9.02 KB)\n",
       "</pre>\n"
      ],
      "text/plain": [
       "\u001b[1m Total params: \u001b[0m\u001b[38;5;34m2,307\u001b[0m (9.02 KB)\n"
      ]
     },
     "metadata": {},
     "output_type": "display_data"
    },
    {
     "data": {
      "text/html": [
       "<pre style=\"white-space:pre;overflow-x:auto;line-height:normal;font-family:Menlo,'DejaVu Sans Mono',consolas,'Courier New',monospace\"><span style=\"font-weight: bold\"> Trainable params: </span><span style=\"color: #00af00; text-decoration-color: #00af00\">2,305</span> (9.00 KB)\n",
       "</pre>\n"
      ],
      "text/plain": [
       "\u001b[1m Trainable params: \u001b[0m\u001b[38;5;34m2,305\u001b[0m (9.00 KB)\n"
      ]
     },
     "metadata": {},
     "output_type": "display_data"
    },
    {
     "data": {
      "text/html": [
       "<pre style=\"white-space:pre;overflow-x:auto;line-height:normal;font-family:Menlo,'DejaVu Sans Mono',consolas,'Courier New',monospace\"><span style=\"font-weight: bold\"> Non-trainable params: </span><span style=\"color: #00af00; text-decoration-color: #00af00\">0</span> (0.00 B)\n",
       "</pre>\n"
      ],
      "text/plain": [
       "\u001b[1m Non-trainable params: \u001b[0m\u001b[38;5;34m0\u001b[0m (0.00 B)\n"
      ]
     },
     "metadata": {},
     "output_type": "display_data"
    },
    {
     "data": {
      "text/html": [
       "<pre style=\"white-space:pre;overflow-x:auto;line-height:normal;font-family:Menlo,'DejaVu Sans Mono',consolas,'Courier New',monospace\"><span style=\"font-weight: bold\"> Optimizer params: </span><span style=\"color: #00af00; text-decoration-color: #00af00\">2</span> (12.00 B)\n",
       "</pre>\n"
      ],
      "text/plain": [
       "\u001b[1m Optimizer params: \u001b[0m\u001b[38;5;34m2\u001b[0m (12.00 B)\n"
      ]
     },
     "metadata": {},
     "output_type": "display_data"
    }
   ],
   "source": [
    "ann_sgd.summary()"
   ]
  },
  {
   "cell_type": "code",
   "execution_count": 23,
   "id": "f6339aa5",
   "metadata": {
    "execution": {
     "iopub.execute_input": "2024-08-31T11:44:19.334607Z",
     "iopub.status.busy": "2024-08-31T11:44:19.333746Z",
     "iopub.status.idle": "2024-08-31T11:44:19.352288Z",
     "shell.execute_reply": "2024-08-31T11:44:19.351436Z"
    },
    "papermill": {
     "duration": 0.121894,
     "end_time": "2024-08-31T11:44:19.354147",
     "exception": false,
     "start_time": "2024-08-31T11:44:19.232253",
     "status": "completed"
    },
    "tags": []
   },
   "outputs": [
    {
     "data": {
      "text/html": [
       "<pre style=\"white-space:pre;overflow-x:auto;line-height:normal;font-family:Menlo,'DejaVu Sans Mono',consolas,'Courier New',monospace\"><span style=\"font-weight: bold\">Model: \"sequential_3\"</span>\n",
       "</pre>\n"
      ],
      "text/plain": [
       "\u001b[1mModel: \"sequential_3\"\u001b[0m\n"
      ]
     },
     "metadata": {},
     "output_type": "display_data"
    },
    {
     "data": {
      "text/html": [
       "<pre style=\"white-space:pre;overflow-x:auto;line-height:normal;font-family:Menlo,'DejaVu Sans Mono',consolas,'Courier New',monospace\">┏━━━━━━━━━━━━━━━━━━━━━━━━━━━━━━━━━┳━━━━━━━━━━━━━━━━━━━━━━━━┳━━━━━━━━━━━━━━━┓\n",
       "┃<span style=\"font-weight: bold\"> Layer (type)                    </span>┃<span style=\"font-weight: bold\"> Output Shape           </span>┃<span style=\"font-weight: bold\">       Param # </span>┃\n",
       "┡━━━━━━━━━━━━━━━━━━━━━━━━━━━━━━━━━╇━━━━━━━━━━━━━━━━━━━━━━━━╇━━━━━━━━━━━━━━━┩\n",
       "│ dense_7 (<span style=\"color: #0087ff; text-decoration-color: #0087ff\">Dense</span>)                 │ (<span style=\"color: #00d7ff; text-decoration-color: #00d7ff\">None</span>, <span style=\"color: #00af00; text-decoration-color: #00af00\">64</span>)             │         <span style=\"color: #00af00; text-decoration-color: #00af00\">2,240</span> │\n",
       "├─────────────────────────────────┼────────────────────────┼───────────────┤\n",
       "│ dense_8 (<span style=\"color: #0087ff; text-decoration-color: #0087ff\">Dense</span>)                 │ (<span style=\"color: #00d7ff; text-decoration-color: #00d7ff\">None</span>, <span style=\"color: #00af00; text-decoration-color: #00af00\">32</span>)             │         <span style=\"color: #00af00; text-decoration-color: #00af00\">2,080</span> │\n",
       "├─────────────────────────────────┼────────────────────────┼───────────────┤\n",
       "│ dense_9 (<span style=\"color: #0087ff; text-decoration-color: #0087ff\">Dense</span>)                 │ (<span style=\"color: #00d7ff; text-decoration-color: #00d7ff\">None</span>, <span style=\"color: #00af00; text-decoration-color: #00af00\">1</span>)              │            <span style=\"color: #00af00; text-decoration-color: #00af00\">33</span> │\n",
       "└─────────────────────────────────┴────────────────────────┴───────────────┘\n",
       "</pre>\n"
      ],
      "text/plain": [
       "┏━━━━━━━━━━━━━━━━━━━━━━━━━━━━━━━━━┳━━━━━━━━━━━━━━━━━━━━━━━━┳━━━━━━━━━━━━━━━┓\n",
       "┃\u001b[1m \u001b[0m\u001b[1mLayer (type)                   \u001b[0m\u001b[1m \u001b[0m┃\u001b[1m \u001b[0m\u001b[1mOutput Shape          \u001b[0m\u001b[1m \u001b[0m┃\u001b[1m \u001b[0m\u001b[1m      Param #\u001b[0m\u001b[1m \u001b[0m┃\n",
       "┡━━━━━━━━━━━━━━━━━━━━━━━━━━━━━━━━━╇━━━━━━━━━━━━━━━━━━━━━━━━╇━━━━━━━━━━━━━━━┩\n",
       "│ dense_7 (\u001b[38;5;33mDense\u001b[0m)                 │ (\u001b[38;5;45mNone\u001b[0m, \u001b[38;5;34m64\u001b[0m)             │         \u001b[38;5;34m2,240\u001b[0m │\n",
       "├─────────────────────────────────┼────────────────────────┼───────────────┤\n",
       "│ dense_8 (\u001b[38;5;33mDense\u001b[0m)                 │ (\u001b[38;5;45mNone\u001b[0m, \u001b[38;5;34m32\u001b[0m)             │         \u001b[38;5;34m2,080\u001b[0m │\n",
       "├─────────────────────────────────┼────────────────────────┼───────────────┤\n",
       "│ dense_9 (\u001b[38;5;33mDense\u001b[0m)                 │ (\u001b[38;5;45mNone\u001b[0m, \u001b[38;5;34m1\u001b[0m)              │            \u001b[38;5;34m33\u001b[0m │\n",
       "└─────────────────────────────────┴────────────────────────┴───────────────┘\n"
      ]
     },
     "metadata": {},
     "output_type": "display_data"
    },
    {
     "data": {
      "text/html": [
       "<pre style=\"white-space:pre;overflow-x:auto;line-height:normal;font-family:Menlo,'DejaVu Sans Mono',consolas,'Courier New',monospace\"><span style=\"font-weight: bold\"> Total params: </span><span style=\"color: #00af00; text-decoration-color: #00af00\">13,061</span> (51.02 KB)\n",
       "</pre>\n"
      ],
      "text/plain": [
       "\u001b[1m Total params: \u001b[0m\u001b[38;5;34m13,061\u001b[0m (51.02 KB)\n"
      ]
     },
     "metadata": {},
     "output_type": "display_data"
    },
    {
     "data": {
      "text/html": [
       "<pre style=\"white-space:pre;overflow-x:auto;line-height:normal;font-family:Menlo,'DejaVu Sans Mono',consolas,'Courier New',monospace\"><span style=\"font-weight: bold\"> Trainable params: </span><span style=\"color: #00af00; text-decoration-color: #00af00\">4,353</span> (17.00 KB)\n",
       "</pre>\n"
      ],
      "text/plain": [
       "\u001b[1m Trainable params: \u001b[0m\u001b[38;5;34m4,353\u001b[0m (17.00 KB)\n"
      ]
     },
     "metadata": {},
     "output_type": "display_data"
    },
    {
     "data": {
      "text/html": [
       "<pre style=\"white-space:pre;overflow-x:auto;line-height:normal;font-family:Menlo,'DejaVu Sans Mono',consolas,'Courier New',monospace\"><span style=\"font-weight: bold\"> Non-trainable params: </span><span style=\"color: #00af00; text-decoration-color: #00af00\">0</span> (0.00 B)\n",
       "</pre>\n"
      ],
      "text/plain": [
       "\u001b[1m Non-trainable params: \u001b[0m\u001b[38;5;34m0\u001b[0m (0.00 B)\n"
      ]
     },
     "metadata": {},
     "output_type": "display_data"
    },
    {
     "data": {
      "text/html": [
       "<pre style=\"white-space:pre;overflow-x:auto;line-height:normal;font-family:Menlo,'DejaVu Sans Mono',consolas,'Courier New',monospace\"><span style=\"font-weight: bold\"> Optimizer params: </span><span style=\"color: #00af00; text-decoration-color: #00af00\">8,708</span> (34.02 KB)\n",
       "</pre>\n"
      ],
      "text/plain": [
       "\u001b[1m Optimizer params: \u001b[0m\u001b[38;5;34m8,708\u001b[0m (34.02 KB)\n"
      ]
     },
     "metadata": {},
     "output_type": "display_data"
    }
   ],
   "source": [
    "ann_adam.summary()"
   ]
  },
  {
   "cell_type": "markdown",
   "id": "7be209dd",
   "metadata": {
    "papermill": {
     "duration": 0.098602,
     "end_time": "2024-08-31T11:44:19.551635",
     "exception": false,
     "start_time": "2024-08-31T11:44:19.453033",
     "status": "completed"
    },
    "tags": []
   },
   "source": [
    "# *plotting accuracy plots*"
   ]
  },
  {
   "cell_type": "code",
   "execution_count": 24,
   "id": "90016a11",
   "metadata": {
    "execution": {
     "iopub.execute_input": "2024-08-31T11:44:19.754006Z",
     "iopub.status.busy": "2024-08-31T11:44:19.753603Z",
     "iopub.status.idle": "2024-08-31T11:44:20.677541Z",
     "shell.execute_reply": "2024-08-31T11:44:20.676632Z"
    },
    "papermill": {
     "duration": 1.028,
     "end_time": "2024-08-31T11:44:20.679701",
     "exception": false,
     "start_time": "2024-08-31T11:44:19.651701",
     "status": "completed"
    },
    "tags": []
   },
   "outputs": [
    {
     "data": {
      "image/png": "[encoded data removed]",
      "text/plain": [
       "<Figure size 1500x500 with 3 Axes>"
      ]
     },
     "metadata": {},
     "output_type": "display_data"
    }
   ],
   "source": [
    "import matplotlib.pyplot as plt\n",
    "\n",
    "fig, axs = plt.subplots(1, 3, figsize=(15,5)) \n",
    "\n",
    "# Plot for ADAM\n",
    "axs[0].plot(Training_progress_adam.history['accuracy'], color='orange', label='training set')\n",
    "axs[0].plot(Training_progress_adam.history['val_accuracy'], color='pink', label='test set')\n",
    "axs[0].set_title(\"Accuracy ADAM\")\n",
    "axs[0].set_xlabel('Epoch Number')\n",
    "axs[0].set_ylabel('Accuracy')\n",
    "axs[0].legend()\n",
    "\n",
    "# Plot for RMSprop\n",
    "axs[1].plot(Training_progress_rms.history['accuracy'], color='red', label='training set')\n",
    "axs[1].plot(Training_progress_rms.history['val_accuracy'], color='green', label='test set')\n",
    "axs[1].set_title(\"Accuracy RMSprop\")\n",
    "axs[1].set_xlabel('Epoch Number')\n",
    "axs[1].set_ylabel('Accuracy')\n",
    "axs[1].legend()\n",
    "\n",
    "# Plot for SGD\n",
    "axs[2].plot(Training_progress_sgd.history['accuracy'], color='blue', label='training set')\n",
    "axs[2].plot(Training_progress_sgd.history['val_accuracy'], color='brown', label='test set')\n",
    "axs[2].set_title(\"Accuracy SGD\")\n",
    "axs[2].set_xlabel('Epoch Number')\n",
    "axs[2].set_ylabel('Accuracy')\n",
    "axs[2].legend()\n",
    "\n",
    "plt.tight_layout() \n",
    "plt.show()\n"
   ]
  },
  {
   "cell_type": "code",
   "execution_count": 25,
   "id": "5f0c1523",
   "metadata": {
    "execution": {
     "iopub.execute_input": "2024-08-31T11:44:20.880500Z",
     "iopub.status.busy": "2024-08-31T11:44:20.880119Z",
     "iopub.status.idle": "2024-08-31T11:44:21.587803Z",
     "shell.execute_reply": "2024-08-31T11:44:21.586496Z"
    },
    "papermill": {
     "duration": 0.810782,
     "end_time": "2024-08-31T11:44:21.589499",
     "exception": true,
     "start_time": "2024-08-31T11:44:20.778717",
     "status": "failed"
    },
    "tags": []
   },
   "outputs": [
    {
     "ename": "NameError",
     "evalue": "name 'ann' is not defined",
     "output_type": "error",
     "traceback": [
      "\u001b[0;31m---------------------------------------------------------------------------\u001b[0m",
      "\u001b[0;31mNameError\u001b[0m                                 Traceback (most recent call last)",
      "Cell \u001b[0;32mIn[25], line 1\u001b[0m\n\u001b[0;32m----> 1\u001b[0m Y_pred_probs \u001b[38;5;241m=\u001b[39m \u001b[43mann\u001b[49m\u001b[38;5;241m.\u001b[39mpredict(X_test)\n\u001b[1;32m      3\u001b[0m \u001b[38;5;66;03m# Getting the index of the class with the highest probability for each sample\u001b[39;00m\n\u001b[1;32m      4\u001b[0m Y_pred_index \u001b[38;5;241m=\u001b[39m np\u001b[38;5;241m.\u001b[39margmax(Y_pred_probs, axis\u001b[38;5;241m=\u001b[39m\u001b[38;5;241m1\u001b[39m)\n",
      "\u001b[0;31mNameError\u001b[0m: name 'ann' is not defined"
     ]
    }
   ],
   "source": [
    "Y_pred_probs = ann.predict(X_test)\n",
    "\n",
    "# Getting the index of the class with the highest probability for each sample\n",
    "Y_pred_index = np.argmax(Y_pred_probs, axis=1)\n",
    "\n",
    "# Decoding the predicted labels back to their original names\n",
    "Y_pred_names = le.inverse_transform(Y_pred_index)\n"
   ]
  },
  {
   "cell_type": "markdown",
   "id": "0d27bf6d",
   "metadata": {
    "papermill": {
     "duration": null,
     "end_time": null,
     "exception": null,
     "start_time": null,
     "status": "pending"
    },
    "tags": []
   },
   "source": [
    "# *accuracy*"
   ]
  },
  {
   "cell_type": "code",
   "execution_count": null,
   "id": "e1ec10ce",
   "metadata": {
    "execution": {
     "iopub.execute_input": "2024-08-31T11:23:19.063229Z",
     "iopub.status.busy": "2024-08-31T11:23:19.062530Z",
     "iopub.status.idle": "2024-08-31T11:23:19.069087Z",
     "shell.execute_reply": "2024-08-31T11:23:19.068145Z",
     "shell.execute_reply.started": "2024-08-31T11:23:19.063188Z"
    },
    "papermill": {
     "duration": null,
     "end_time": null,
     "exception": null,
     "start_time": null,
     "status": "pending"
    },
    "tags": []
   },
   "outputs": [],
   "source": [
    "accuracy = accuracy_score(Y_test, Y_pred_index)\n",
    "print(f\"Accuracy: {accuracy}\")"
   ]
  },
  {
   "cell_type": "markdown",
   "id": "a220a683",
   "metadata": {
    "papermill": {
     "duration": null,
     "end_time": null,
     "exception": null,
     "start_time": null,
     "status": "pending"
    },
    "tags": []
   },
   "source": [
    "# ***inference and conclusion***"
   ]
  },
  {
   "cell_type": "markdown",
   "id": "c5e8add6",
   "metadata": {
    "papermill": {
     "duration": null,
     "end_time": null,
     "exception": null,
     "start_time": null,
     "status": "pending"
    },
    "tags": []
   },
   "source": [
    "from the given date fruits dataset.. we've tried deploying three different architectures SGD, RMSprop, and ADAM.. there are few other notebooks with ADAM over accuracy of 90% or above but the one i tried is with minimal accuracy of 10-20%.. here are the reasons for it:\n",
    "\n",
    "1. sparse categorical crossentropy loss for adam matches the input-output dimensions of datas\n",
    "2. using binary cross entropy loss didn't suit for these optimization algorithms\n",
    "3. as the number of epochs goes over some 500-600 and above accuracy is kinda becoming above 50% and yet time taking for it is long, for verifying three diff algorithms..\n",
    "4. among all the 3, ADAM has better accuracy because of its adaptive learning rate and bais correction\n",
    "5. SGD had the fastest training time\n",
    "6. relu proved to be best activation function among softmax and sigmoid as the accuracy is better when compared to latter\n",
    "\n",
    "# conclusion\n",
    "\n",
    "this was just a implementation trial of different algorithms and exploring different activation function for the chosen dataset.. hence accuracy wasn't given much of a consideration.. if accuracy is important, doing these things could improve it :\n",
    "\n",
    "1. use SC cross entropy loss for ADAM algo\n",
    "2. increase dropout size for convolution \n",
    "3. trying with more no of epochs (atleast 500+)\n",
    "4. may be just try playing with diff permutation of activation function, optimization algorithm and no of epochs"
   ]
  }
 ],
 "metadata": {
  "kaggle": {
   "accelerator": "nvidiaTeslaT4",
   "dataSources": [
    {
     "datasetId": 2049845,
     "sourceId": 3400552,
     "sourceType": "datasetVersion"
    }
   ],
   "dockerImageVersionId": 30762,
   "isGpuEnabled": true,
   "isInternetEnabled": true,
   "language": "python",
   "sourceType": "notebook"
  },
  "kernelspec": {
   "display_name": "Python 3",
   "language": "python",
   "name": "python3"
  },
  "language_info": {
   "codemirror_mode": {
    "name": "ipython",
    "version": 3
   },
   "file_extension": ".py",
   "mimetype": "text/x-python",
   "name": "python",
   "nbconvert_exporter": "python",
   "pygments_lexer": "ipython3",
   "version": "3.10.14"
  },
  "papermill": {
   "default_parameters": {},
   "duration": 65.674299,
   "end_time": "2024-08-31T11:44:23.818236",
   "environment_variables": {},
   "exception": true,
   "input_path": "__notebook__.ipynb",
   "output_path": "__notebook__.ipynb",
   "parameters": {},
   "start_time": "2024-08-31T11:43:18.143937",
   "version": "2.6.0"
  }
 },
 "nbformat": 4,
 "nbformat_minor": 5
}
